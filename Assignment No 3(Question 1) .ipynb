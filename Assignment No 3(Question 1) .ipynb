{
 "cells": [
  {
   "cell_type": "markdown",
   "metadata": {},
   "source": [
    "# Problem statement"
   ]
  },
  {
   "cell_type": "markdown",
   "metadata": {},
   "source": [
    "1. Expand the basic code for building a DNN on the Pima Indian Diabetic Dataset to include:\n",
    "(a) pre-process the data by scaling/standardizing the 8 columns \n",
    "\n",
    "(b) Split the entire dataset into three parts instead of two as we currently do. One is train, two is \n",
    "validation, and then a test set. Build DNN model with train data, tune hyper-parameters with\n",
    "validation data, and finally evaluate performance on the test data.\n",
    "\n",
    "(c) Make Epoch versus train set accuracy, and validation set accuracy \n",
    "\n",
    "(d) Report results using nice ROC curves, report AUC values. Feel free to use code form our course, \n",
    "or from elsewhere\n"
   ]
  },
  {
   "cell_type": "markdown",
   "metadata": {},
   "source": [
    "# Import necessary packages"
   ]
  },
  {
   "cell_type": "code",
   "execution_count": 1,
   "metadata": {},
   "outputs": [
    {
     "name": "stderr",
     "output_type": "stream",
     "text": [
      "Using TensorFlow backend.\n"
     ]
    }
   ],
   "source": [
    "\n",
    "from keras.models import Sequential\n",
    "from keras.layers import Dense\n",
    "from sklearn.model_selection import train_test_split\n",
    "import seaborn as sns\n",
    "import numpy as np\n",
    "import pandas as pd\n",
    "\n",
    "%matplotlib inline\n",
    "\n",
    "from pandas.api.types import is_string_dtype,is_numeric_dtype\n",
    "from sklearn import preprocessing\n",
    "from sklearn.neighbors import KNeighborsClassifier\n",
    "from sklearn.metrics import confusion_matrix,accuracy_score,matthews_corrcoef,f1_score\n",
    "from sklearn.externals import joblib\n",
    "from matplotlib import pyplot as plt\n",
    "import seaborn as sns\n",
    "import joblib"
   ]
  },
  {
   "cell_type": "code",
   "execution_count": 2,
   "metadata": {},
   "outputs": [],
   "source": [
    "my_df= pd.read_csv('C:/Users/Home/Desktop/Data science (Summer)/Assignments/Assignment No 3/diabetes.csv')\n"
   ]
  },
  {
   "cell_type": "code",
   "execution_count": 3,
   "metadata": {},
   "outputs": [
    {
     "name": "stdout",
     "output_type": "stream",
     "text": [
      "(768, 9)\n"
     ]
    },
    {
     "data": {
      "text/html": [
       "<div>\n",
       "<style scoped>\n",
       "    .dataframe tbody tr th:only-of-type {\n",
       "        vertical-align: middle;\n",
       "    }\n",
       "\n",
       "    .dataframe tbody tr th {\n",
       "        vertical-align: top;\n",
       "    }\n",
       "\n",
       "    .dataframe thead th {\n",
       "        text-align: right;\n",
       "    }\n",
       "</style>\n",
       "<table border=\"1\" class=\"dataframe\">\n",
       "  <thead>\n",
       "    <tr style=\"text-align: right;\">\n",
       "      <th></th>\n",
       "      <th>Pregnancies</th>\n",
       "      <th>Glucose</th>\n",
       "      <th>BloodPressure</th>\n",
       "      <th>SkinThickness</th>\n",
       "      <th>Insulin</th>\n",
       "      <th>BMI</th>\n",
       "      <th>DiabetesPedigreeFunction</th>\n",
       "      <th>Age</th>\n",
       "      <th>Outcome</th>\n",
       "    </tr>\n",
       "  </thead>\n",
       "  <tbody>\n",
       "    <tr>\n",
       "      <th>0</th>\n",
       "      <td>6</td>\n",
       "      <td>148</td>\n",
       "      <td>72</td>\n",
       "      <td>35</td>\n",
       "      <td>0</td>\n",
       "      <td>33.6</td>\n",
       "      <td>0.627</td>\n",
       "      <td>50</td>\n",
       "      <td>1</td>\n",
       "    </tr>\n",
       "    <tr>\n",
       "      <th>1</th>\n",
       "      <td>1</td>\n",
       "      <td>85</td>\n",
       "      <td>66</td>\n",
       "      <td>29</td>\n",
       "      <td>0</td>\n",
       "      <td>26.6</td>\n",
       "      <td>0.351</td>\n",
       "      <td>31</td>\n",
       "      <td>0</td>\n",
       "    </tr>\n",
       "    <tr>\n",
       "      <th>2</th>\n",
       "      <td>8</td>\n",
       "      <td>183</td>\n",
       "      <td>64</td>\n",
       "      <td>0</td>\n",
       "      <td>0</td>\n",
       "      <td>23.3</td>\n",
       "      <td>0.672</td>\n",
       "      <td>32</td>\n",
       "      <td>1</td>\n",
       "    </tr>\n",
       "    <tr>\n",
       "      <th>3</th>\n",
       "      <td>1</td>\n",
       "      <td>89</td>\n",
       "      <td>66</td>\n",
       "      <td>23</td>\n",
       "      <td>94</td>\n",
       "      <td>28.1</td>\n",
       "      <td>0.167</td>\n",
       "      <td>21</td>\n",
       "      <td>0</td>\n",
       "    </tr>\n",
       "    <tr>\n",
       "      <th>4</th>\n",
       "      <td>0</td>\n",
       "      <td>137</td>\n",
       "      <td>40</td>\n",
       "      <td>35</td>\n",
       "      <td>168</td>\n",
       "      <td>43.1</td>\n",
       "      <td>2.288</td>\n",
       "      <td>33</td>\n",
       "      <td>1</td>\n",
       "    </tr>\n",
       "  </tbody>\n",
       "</table>\n",
       "</div>"
      ],
      "text/plain": [
       "   Pregnancies  Glucose  BloodPressure  SkinThickness  Insulin   BMI  \\\n",
       "0            6      148             72             35        0  33.6   \n",
       "1            1       85             66             29        0  26.6   \n",
       "2            8      183             64              0        0  23.3   \n",
       "3            1       89             66             23       94  28.1   \n",
       "4            0      137             40             35      168  43.1   \n",
       "\n",
       "   DiabetesPedigreeFunction  Age  Outcome  \n",
       "0                     0.627   50        1  \n",
       "1                     0.351   31        0  \n",
       "2                     0.672   32        1  \n",
       "3                     0.167   21        0  \n",
       "4                     2.288   33        1  "
      ]
     },
     "execution_count": 3,
     "metadata": {},
     "output_type": "execute_result"
    }
   ],
   "source": [
    "print(my_df.shape)\n",
    "my_df.head()"
   ]
  },
  {
   "cell_type": "markdown",
   "metadata": {},
   "source": [
    "# Pre-process data, train-test split"
   ]
  },
  {
   "cell_type": "code",
   "execution_count": 4,
   "metadata": {},
   "outputs": [
    {
     "data": {
      "text/html": [
       "<div>\n",
       "<style scoped>\n",
       "    .dataframe tbody tr th:only-of-type {\n",
       "        vertical-align: middle;\n",
       "    }\n",
       "\n",
       "    .dataframe tbody tr th {\n",
       "        vertical-align: top;\n",
       "    }\n",
       "\n",
       "    .dataframe thead th {\n",
       "        text-align: right;\n",
       "    }\n",
       "</style>\n",
       "<table border=\"1\" class=\"dataframe\">\n",
       "  <thead>\n",
       "    <tr style=\"text-align: right;\">\n",
       "      <th></th>\n",
       "      <th>Pregnancies</th>\n",
       "      <th>Glucose</th>\n",
       "      <th>BloodPressure</th>\n",
       "      <th>SkinThickness</th>\n",
       "      <th>Insulin</th>\n",
       "      <th>BMI</th>\n",
       "      <th>DiabetesPedigreeFunction</th>\n",
       "      <th>Age</th>\n",
       "      <th>Outcome</th>\n",
       "    </tr>\n",
       "  </thead>\n",
       "  <tbody>\n",
       "    <tr>\n",
       "      <th>count</th>\n",
       "      <td>768.000000</td>\n",
       "      <td>768.000000</td>\n",
       "      <td>768.000000</td>\n",
       "      <td>768.000000</td>\n",
       "      <td>768.000000</td>\n",
       "      <td>768.000000</td>\n",
       "      <td>768.000000</td>\n",
       "      <td>768.000000</td>\n",
       "      <td>768.000000</td>\n",
       "    </tr>\n",
       "    <tr>\n",
       "      <th>mean</th>\n",
       "      <td>3.845052</td>\n",
       "      <td>120.894531</td>\n",
       "      <td>69.105469</td>\n",
       "      <td>20.536458</td>\n",
       "      <td>79.799479</td>\n",
       "      <td>31.992578</td>\n",
       "      <td>0.471876</td>\n",
       "      <td>33.240885</td>\n",
       "      <td>0.348958</td>\n",
       "    </tr>\n",
       "    <tr>\n",
       "      <th>std</th>\n",
       "      <td>3.369578</td>\n",
       "      <td>31.972618</td>\n",
       "      <td>19.355807</td>\n",
       "      <td>15.952218</td>\n",
       "      <td>115.244002</td>\n",
       "      <td>7.884160</td>\n",
       "      <td>0.331329</td>\n",
       "      <td>11.760232</td>\n",
       "      <td>0.476951</td>\n",
       "    </tr>\n",
       "    <tr>\n",
       "      <th>min</th>\n",
       "      <td>0.000000</td>\n",
       "      <td>0.000000</td>\n",
       "      <td>0.000000</td>\n",
       "      <td>0.000000</td>\n",
       "      <td>0.000000</td>\n",
       "      <td>0.000000</td>\n",
       "      <td>0.078000</td>\n",
       "      <td>21.000000</td>\n",
       "      <td>0.000000</td>\n",
       "    </tr>\n",
       "    <tr>\n",
       "      <th>25%</th>\n",
       "      <td>1.000000</td>\n",
       "      <td>99.000000</td>\n",
       "      <td>62.000000</td>\n",
       "      <td>0.000000</td>\n",
       "      <td>0.000000</td>\n",
       "      <td>27.300000</td>\n",
       "      <td>0.243750</td>\n",
       "      <td>24.000000</td>\n",
       "      <td>0.000000</td>\n",
       "    </tr>\n",
       "    <tr>\n",
       "      <th>50%</th>\n",
       "      <td>3.000000</td>\n",
       "      <td>117.000000</td>\n",
       "      <td>72.000000</td>\n",
       "      <td>23.000000</td>\n",
       "      <td>30.500000</td>\n",
       "      <td>32.000000</td>\n",
       "      <td>0.372500</td>\n",
       "      <td>29.000000</td>\n",
       "      <td>0.000000</td>\n",
       "    </tr>\n",
       "    <tr>\n",
       "      <th>75%</th>\n",
       "      <td>6.000000</td>\n",
       "      <td>140.250000</td>\n",
       "      <td>80.000000</td>\n",
       "      <td>32.000000</td>\n",
       "      <td>127.250000</td>\n",
       "      <td>36.600000</td>\n",
       "      <td>0.626250</td>\n",
       "      <td>41.000000</td>\n",
       "      <td>1.000000</td>\n",
       "    </tr>\n",
       "    <tr>\n",
       "      <th>max</th>\n",
       "      <td>17.000000</td>\n",
       "      <td>199.000000</td>\n",
       "      <td>122.000000</td>\n",
       "      <td>99.000000</td>\n",
       "      <td>846.000000</td>\n",
       "      <td>67.100000</td>\n",
       "      <td>2.420000</td>\n",
       "      <td>81.000000</td>\n",
       "      <td>1.000000</td>\n",
       "    </tr>\n",
       "  </tbody>\n",
       "</table>\n",
       "</div>"
      ],
      "text/plain": [
       "       Pregnancies     Glucose  BloodPressure  SkinThickness     Insulin  \\\n",
       "count   768.000000  768.000000     768.000000     768.000000  768.000000   \n",
       "mean      3.845052  120.894531      69.105469      20.536458   79.799479   \n",
       "std       3.369578   31.972618      19.355807      15.952218  115.244002   \n",
       "min       0.000000    0.000000       0.000000       0.000000    0.000000   \n",
       "25%       1.000000   99.000000      62.000000       0.000000    0.000000   \n",
       "50%       3.000000  117.000000      72.000000      23.000000   30.500000   \n",
       "75%       6.000000  140.250000      80.000000      32.000000  127.250000   \n",
       "max      17.000000  199.000000     122.000000      99.000000  846.000000   \n",
       "\n",
       "              BMI  DiabetesPedigreeFunction         Age     Outcome  \n",
       "count  768.000000                768.000000  768.000000  768.000000  \n",
       "mean    31.992578                  0.471876   33.240885    0.348958  \n",
       "std      7.884160                  0.331329   11.760232    0.476951  \n",
       "min      0.000000                  0.078000   21.000000    0.000000  \n",
       "25%     27.300000                  0.243750   24.000000    0.000000  \n",
       "50%     32.000000                  0.372500   29.000000    0.000000  \n",
       "75%     36.600000                  0.626250   41.000000    1.000000  \n",
       "max     67.100000                  2.420000   81.000000    1.000000  "
      ]
     },
     "execution_count": 4,
     "metadata": {},
     "output_type": "execute_result"
    }
   ],
   "source": [
    "my_df.describe()"
   ]
  },
  {
   "cell_type": "code",
   "execution_count": 5,
   "metadata": {},
   "outputs": [],
   "source": [
    "zero_fields = ['Glucose', 'BloodPressure', 'SkinThickness', 'Insulin', 'BMI']"
   ]
  },
  {
   "cell_type": "markdown",
   "metadata": {},
   "source": [
    "# Splitting data in Training Validation and Testing data set"
   ]
  },
  {
   "cell_type": "code",
   "execution_count": 6,
   "metadata": {},
   "outputs": [
    {
     "name": "stdout",
     "output_type": "stream",
     "text": [
      "(652, 9) (116, 9)\n"
     ]
    }
   ],
   "source": [
    "def mydf_splitter(my_df,num_rows):\n",
    "    return my_df[:num_rows].copy(),my_df[num_rows:]\n",
    "\n",
    "mydf_train_valid,mydf_test= mydf_splitter(my_df,652)\n",
    "print(mydf_train_valid.shape,mydf_test.shape)\n"
   ]
  },
  {
   "cell_type": "code",
   "execution_count": 7,
   "metadata": {},
   "outputs": [
    {
     "name": "stdout",
     "output_type": "stream",
     "text": [
      "(652, 8) (652,)\n"
     ]
    }
   ],
   "source": [
    "Y = mydf_train_valid[\"Outcome\"]\n",
    "X = mydf_train_valid.drop([\"Outcome\"],axis = 1)\n",
    "print(X.shape,Y.shape)"
   ]
  },
  {
   "cell_type": "markdown",
   "metadata": {},
   "source": [
    "# Scaling data from -1 to 1"
   ]
  },
  {
   "cell_type": "code",
   "execution_count": 8,
   "metadata": {},
   "outputs": [
    {
     "name": "stdout",
     "output_type": "stream",
     "text": [
      "(652, 8)\n"
     ]
    },
    {
     "name": "stderr",
     "output_type": "stream",
     "text": [
      "C:\\Users\\Home\\Anaconda3\\lib\\site-packages\\sklearn\\preprocessing\\data.py:625: DataConversionWarning: Data with input dtype int64, float64 were all converted to float64 by StandardScaler.\n",
      "  return self.partial_fit(X, y)\n",
      "C:\\Users\\Home\\Anaconda3\\lib\\site-packages\\ipykernel_launcher.py:3: DataConversionWarning: Data with input dtype int64, float64 were all converted to float64 by StandardScaler.\n",
      "  This is separate from the ipykernel package so we can avoid doing imports until\n"
     ]
    },
    {
     "data": {
      "text/html": [
       "<div>\n",
       "<style scoped>\n",
       "    .dataframe tbody tr th:only-of-type {\n",
       "        vertical-align: middle;\n",
       "    }\n",
       "\n",
       "    .dataframe tbody tr th {\n",
       "        vertical-align: top;\n",
       "    }\n",
       "\n",
       "    .dataframe thead th {\n",
       "        text-align: right;\n",
       "    }\n",
       "</style>\n",
       "<table border=\"1\" class=\"dataframe\">\n",
       "  <thead>\n",
       "    <tr style=\"text-align: right;\">\n",
       "      <th></th>\n",
       "      <th>Pregnancies</th>\n",
       "      <th>Glucose</th>\n",
       "      <th>BloodPressure</th>\n",
       "      <th>SkinThickness</th>\n",
       "      <th>Insulin</th>\n",
       "      <th>BMI</th>\n",
       "      <th>DiabetesPedigreeFunction</th>\n",
       "      <th>Age</th>\n",
       "    </tr>\n",
       "  </thead>\n",
       "  <tbody>\n",
       "    <tr>\n",
       "      <th>0</th>\n",
       "      <td>0.658967</td>\n",
       "      <td>0.861791</td>\n",
       "      <td>0.175057</td>\n",
       "      <td>0.919552</td>\n",
       "      <td>-0.687306</td>\n",
       "      <td>0.227557</td>\n",
       "      <td>0.439358</td>\n",
       "      <td>1.457947</td>\n",
       "    </tr>\n",
       "    <tr>\n",
       "      <th>1</th>\n",
       "      <td>-0.831825</td>\n",
       "      <td>-1.088241</td>\n",
       "      <td>-0.131489</td>\n",
       "      <td>0.543030</td>\n",
       "      <td>-0.687306</td>\n",
       "      <td>-0.662468</td>\n",
       "      <td>-0.375149</td>\n",
       "      <td>-0.173437</td>\n",
       "    </tr>\n",
       "  </tbody>\n",
       "</table>\n",
       "</div>"
      ],
      "text/plain": [
       "   Pregnancies   Glucose  BloodPressure  SkinThickness   Insulin       BMI  \\\n",
       "0     0.658967  0.861791       0.175057       0.919552 -0.687306  0.227557   \n",
       "1    -0.831825 -1.088241      -0.131489       0.543030 -0.687306 -0.662468   \n",
       "\n",
       "   DiabetesPedigreeFunction       Age  \n",
       "0                  0.439358  1.457947  \n",
       "1                 -0.375149 -0.173437  "
      ]
     },
     "execution_count": 8,
     "metadata": {},
     "output_type": "execute_result"
    }
   ],
   "source": [
    "\n",
    "scaler = preprocessing.StandardScaler().fit(X)\n",
    "X = pd.DataFrame(scaler.transform(X))\n",
    "X.columns = [\"Pregnancies\",\"Glucose\",\"BloodPressure\",\"SkinThickness\",\"Insulin\",\"BMI\",\"DiabetesPedigreeFunction\",\"Age\"]\n",
    "print(X.shape)\n",
    "X.head(2)"
   ]
  },
  {
   "cell_type": "markdown",
   "metadata": {},
   "source": [
    "# Splitting Data into Train and Validation set"
   ]
  },
  {
   "cell_type": "code",
   "execution_count": 9,
   "metadata": {},
   "outputs": [
    {
     "name": "stdout",
     "output_type": "stream",
     "text": [
      "(420, 8) (232, 8) (420,) (232,)\n"
     ]
    }
   ],
   "source": [
    "\n",
    "X_train,X_valid = mydf_splitter(X,420)\n",
    "Y_train,Y_valid = mydf_splitter(Y,420)\n",
    "\n",
    "print(X_train.shape,X_valid.shape,Y_train.shape,Y_valid.shape)"
   ]
  },
  {
   "cell_type": "markdown",
   "metadata": {},
   "source": [
    "# Build and compile a deep learning model"
   ]
  },
  {
   "cell_type": "code",
   "execution_count": 10,
   "metadata": {},
   "outputs": [
    {
     "name": "stdout",
     "output_type": "stream",
     "text": [
      "WARNING:tensorflow:From C:\\Users\\Home\\Anaconda3\\lib\\site-packages\\tensorflow\\python\\framework\\op_def_library.py:263: colocate_with (from tensorflow.python.framework.ops) is deprecated and will be removed in a future version.\n",
      "Instructions for updating:\n",
      "Colocations handled automatically by placer.\n"
     ]
    },
    {
     "name": "stderr",
     "output_type": "stream",
     "text": [
      "C:\\Users\\Home\\Anaconda3\\lib\\site-packages\\ipykernel_launcher.py:3: UserWarning: Update your `Dense` call to the Keras 2 API: `Dense(10, input_dim=8, activation=\"relu\", kernel_initializer=\"uniform\")`\n",
      "  This is separate from the ipykernel package so we can avoid doing imports until\n",
      "C:\\Users\\Home\\Anaconda3\\lib\\site-packages\\ipykernel_launcher.py:4: UserWarning: Update your `Dense` call to the Keras 2 API: `Dense(6, activation=\"relu\", kernel_initializer=\"uniform\")`\n",
      "  after removing the cwd from sys.path.\n",
      "C:\\Users\\Home\\Anaconda3\\lib\\site-packages\\ipykernel_launcher.py:5: UserWarning: Update your `Dense` call to the Keras 2 API: `Dense(8, activation=\"relu\", kernel_initializer=\"uniform\")`\n",
      "  \"\"\"\n",
      "C:\\Users\\Home\\Anaconda3\\lib\\site-packages\\ipykernel_launcher.py:6: UserWarning: Update your `Dense` call to the Keras 2 API: `Dense(4, activation=\"relu\", kernel_initializer=\"uniform\")`\n",
      "  \n",
      "C:\\Users\\Home\\Anaconda3\\lib\\site-packages\\ipykernel_launcher.py:7: UserWarning: Update your `Dense` call to the Keras 2 API: `Dense(1, activation=\"sigmoid\", kernel_initializer=\"uniform\")`\n",
      "  import sys\n"
     ]
    }
   ],
   "source": [
    "# Build the deep neural network\n",
    "model = Sequential()\n",
    "model.add(Dense(10, input_dim=8, init='uniform', activation='relu'))\n",
    "model.add(Dense(6, init='uniform', activation='relu'))\n",
    "model.add(Dense(8, init='uniform', activation='relu'))\n",
    "model.add(Dense(4, init='uniform', activation='relu'))\n",
    "model.add(Dense(1, init='uniform', activation='sigmoid'))"
   ]
  },
  {
   "cell_type": "markdown",
   "metadata": {},
   "source": [
    "# Compile the DNN"
   ]
  },
  {
   "cell_type": "code",
   "execution_count": 11,
   "metadata": {},
   "outputs": [],
   "source": [
    "\n",
    "\n",
    "model.compile(loss='binary_crossentropy', optimizer='adam', metrics=['accuracy'])\n",
    "score= list()\n",
    "accuracy_list=list()\n",
    "epoch=list()\n",
    "batch= list()"
   ]
  },
  {
   "cell_type": "markdown",
   "metadata": {},
   "source": [
    "# Fit the DNN with your train data"
   ]
  },
  {
   "cell_type": "code",
   "execution_count": 12,
   "metadata": {},
   "outputs": [
    {
     "name": "stdout",
     "output_type": "stream",
     "text": [
      "WARNING:tensorflow:From C:\\Users\\Home\\Anaconda3\\lib\\site-packages\\tensorflow\\python\\ops\\math_ops.py:3066: to_int32 (from tensorflow.python.ops.math_ops) is deprecated and will be removed in a future version.\n",
      "Instructions for updating:\n",
      "Use tf.cast instead.\n"
     ]
    },
    {
     "name": "stderr",
     "output_type": "stream",
     "text": [
      "C:\\Users\\Home\\Anaconda3\\lib\\site-packages\\ipykernel_launcher.py:2: UserWarning: The `nb_epoch` argument in `fit` has been renamed `epochs`.\n",
      "  \n"
     ]
    },
    {
     "name": "stdout",
     "output_type": "stream",
     "text": [
      "Train on 420 samples, validate on 232 samples\n",
      "Epoch 1/100\n",
      "420/420 [==============================] - 2s 6ms/step - loss: 0.6920 - acc: 0.5619 - val_loss: 0.6853 - val_acc: 0.7371\n",
      "Epoch 2/100\n",
      "420/420 [==============================] - 0s 426us/step - loss: 0.6881 - acc: 0.6143 - val_loss: 0.6785 - val_acc: 0.7371\n",
      "Epoch 3/100\n",
      "420/420 [==============================] - 0s 466us/step - loss: 0.6847 - acc: 0.6143 - val_loss: 0.6713 - val_acc: 0.7371\n",
      "Epoch 4/100\n",
      "420/420 [==============================] - 0s 396us/step - loss: 0.6819 - acc: 0.6143 - val_loss: 0.6648 - val_acc: 0.7371\n",
      "Epoch 5/100\n",
      "420/420 [==============================] - 0s 459us/step - loss: 0.6795 - acc: 0.6143 - val_loss: 0.6588 - val_acc: 0.7371\n",
      "Epoch 6/100\n",
      "420/420 [==============================] - ETA: 0s - loss: 0.6773 - acc: 0.616 - 0s 429us/step - loss: 0.6774 - acc: 0.6143 - val_loss: 0.6543 - val_acc: 0.7371\n",
      "Epoch 7/100\n",
      "420/420 [==============================] - 0s 436us/step - loss: 0.6758 - acc: 0.6143 - val_loss: 0.6495 - val_acc: 0.7371\n",
      "Epoch 8/100\n",
      "420/420 [==============================] - 0s 458us/step - loss: 0.6743 - acc: 0.6143 - val_loss: 0.6458 - val_acc: 0.7371\n",
      "Epoch 9/100\n",
      "420/420 [==============================] - 0s 431us/step - loss: 0.6731 - acc: 0.6143 - val_loss: 0.6422 - val_acc: 0.7371\n",
      "Epoch 10/100\n",
      "420/420 [==============================] - 0s 437us/step - loss: 0.6721 - acc: 0.6143 - val_loss: 0.6386 - val_acc: 0.7371\n",
      "Epoch 11/100\n",
      "420/420 [==============================] - 0s 436us/step - loss: 0.6713 - acc: 0.6143 - val_loss: 0.6365 - val_acc: 0.7371\n",
      "Epoch 12/100\n",
      "420/420 [==============================] - 0s 465us/step - loss: 0.6705 - acc: 0.6143 - val_loss: 0.6334 - val_acc: 0.7371\n",
      "Epoch 13/100\n",
      "420/420 [==============================] - 0s 445us/step - loss: 0.6699 - acc: 0.6143 - val_loss: 0.6311 - val_acc: 0.7371\n",
      "Epoch 14/100\n",
      "420/420 [==============================] - 0s 453us/step - loss: 0.6694 - acc: 0.6143 - val_loss: 0.6286 - val_acc: 0.7371\n",
      "Epoch 15/100\n",
      "420/420 [==============================] - 0s 401us/step - loss: 0.6689 - acc: 0.6143 - val_loss: 0.6271 - val_acc: 0.7371\n",
      "Epoch 16/100\n",
      "420/420 [==============================] - 0s 400us/step - loss: 0.6686 - acc: 0.6143 - val_loss: 0.6255 - val_acc: 0.7371\n",
      "Epoch 17/100\n",
      "420/420 [==============================] - 0s 394us/step - loss: 0.6683 - acc: 0.6143 - val_loss: 0.6239 - val_acc: 0.7371\n",
      "Epoch 18/100\n",
      "420/420 [==============================] - 0s 427us/step - loss: 0.6681 - acc: 0.6143 - val_loss: 0.6222 - val_acc: 0.7371\n",
      "Epoch 19/100\n",
      "420/420 [==============================] - 0s 392us/step - loss: 0.6680 - acc: 0.6143 - val_loss: 0.6216 - val_acc: 0.7371\n",
      "Epoch 20/100\n",
      "420/420 [==============================] - 0s 415us/step - loss: 0.6677 - acc: 0.6143 - val_loss: 0.6200 - val_acc: 0.7371\n",
      "Epoch 21/100\n",
      "420/420 [==============================] - 0s 410us/step - loss: 0.6675 - acc: 0.6143 - val_loss: 0.6195 - val_acc: 0.7371\n",
      "Epoch 22/100\n",
      "420/420 [==============================] - 0s 418us/step - loss: 0.6675 - acc: 0.6143 - val_loss: 0.6187 - val_acc: 0.7371\n",
      "Epoch 23/100\n",
      "420/420 [==============================] - 0s 433us/step - loss: 0.6673 - acc: 0.6143 - val_loss: 0.6173 - val_acc: 0.7371\n",
      "Epoch 24/100\n",
      "420/420 [==============================] - 0s 421us/step - loss: 0.6674 - acc: 0.6143 - val_loss: 0.6167 - val_acc: 0.7371\n",
      "Epoch 25/100\n",
      "420/420 [==============================] - 0s 423us/step - loss: 0.6672 - acc: 0.6143 - val_loss: 0.6164 - val_acc: 0.7371\n",
      "Epoch 26/100\n",
      "420/420 [==============================] - 0s 459us/step - loss: 0.6672 - acc: 0.6143 - val_loss: 0.6151 - val_acc: 0.7371\n",
      "Epoch 27/100\n",
      "420/420 [==============================] - 0s 455us/step - loss: 0.6672 - acc: 0.6143 - val_loss: 0.6152 - val_acc: 0.7371\n",
      "Epoch 28/100\n",
      "420/420 [==============================] - 0s 424us/step - loss: 0.6670 - acc: 0.6143 - val_loss: 0.6145 - val_acc: 0.7371\n",
      "Epoch 29/100\n",
      "420/420 [==============================] - 0s 426us/step - loss: 0.6670 - acc: 0.6143 - val_loss: 0.6142 - val_acc: 0.7371\n",
      "Epoch 30/100\n",
      "420/420 [==============================] - 0s 423us/step - loss: 0.6670 - acc: 0.6143 - val_loss: 0.6138 - val_acc: 0.7371\n",
      "Epoch 31/100\n",
      "420/420 [==============================] - 0s 428us/step - loss: 0.6670 - acc: 0.6143 - val_loss: 0.6137 - val_acc: 0.7371\n",
      "Epoch 32/100\n",
      "420/420 [==============================] - 0s 439us/step - loss: 0.6669 - acc: 0.6143 - val_loss: 0.6131 - val_acc: 0.7371\n",
      "Epoch 33/100\n",
      "420/420 [==============================] - 0s 424us/step - loss: 0.6671 - acc: 0.6143 - val_loss: 0.6126 - val_acc: 0.7371\n",
      "Epoch 34/100\n",
      "420/420 [==============================] - 0s 427us/step - loss: 0.6669 - acc: 0.6143 - val_loss: 0.6123 - val_acc: 0.7371\n",
      "Epoch 35/100\n",
      "420/420 [==============================] - 0s 435us/step - loss: 0.6670 - acc: 0.6143 - val_loss: 0.6127 - val_acc: 0.7371\n",
      "Epoch 36/100\n",
      "420/420 [==============================] - 0s 422us/step - loss: 0.6669 - acc: 0.6143 - val_loss: 0.6118 - val_acc: 0.7371\n",
      "Epoch 37/100\n",
      "420/420 [==============================] - 0s 434us/step - loss: 0.6669 - acc: 0.6143 - val_loss: 0.6119 - val_acc: 0.7371\n",
      "Epoch 38/100\n",
      "420/420 [==============================] - 0s 412us/step - loss: 0.6669 - acc: 0.6143 - val_loss: 0.6116 - val_acc: 0.7371\n",
      "Epoch 39/100\n",
      "420/420 [==============================] - 0s 439us/step - loss: 0.6669 - acc: 0.6143 - val_loss: 0.6114 - val_acc: 0.7371\n",
      "Epoch 40/100\n",
      "420/420 [==============================] - 0s 416us/step - loss: 0.6669 - acc: 0.6143 - val_loss: 0.6111 - val_acc: 0.7371\n",
      "Epoch 41/100\n",
      "420/420 [==============================] - 0s 420us/step - loss: 0.6669 - acc: 0.6143 - val_loss: 0.6110 - val_acc: 0.7371\n",
      "Epoch 42/100\n",
      "420/420 [==============================] - 0s 459us/step - loss: 0.6669 - acc: 0.6143 - val_loss: 0.6110 - val_acc: 0.7371\n",
      "Epoch 43/100\n",
      "420/420 [==============================] - 0s 526us/step - loss: 0.6669 - acc: 0.6143 - val_loss: 0.6103 - val_acc: 0.7371\n",
      "Epoch 44/100\n",
      "420/420 [==============================] - 0s 616us/step - loss: 0.6668 - acc: 0.6143 - val_loss: 0.6106 - val_acc: 0.7371\n",
      "Epoch 45/100\n",
      "420/420 [==============================] - 0s 494us/step - loss: 0.6669 - acc: 0.6143 - val_loss: 0.6108 - val_acc: 0.7371\n",
      "Epoch 46/100\n",
      "420/420 [==============================] - 0s 472us/step - loss: 0.6669 - acc: 0.6143 - val_loss: 0.6104 - val_acc: 0.7371\n",
      "Epoch 47/100\n",
      "420/420 [==============================] - 0s 438us/step - loss: 0.6669 - acc: 0.6143 - val_loss: 0.6107 - val_acc: 0.7371\n",
      "Epoch 48/100\n",
      "420/420 [==============================] - 0s 441us/step - loss: 0.6669 - acc: 0.6143 - val_loss: 0.6104 - val_acc: 0.7371\n",
      "Epoch 49/100\n",
      "420/420 [==============================] - 0s 455us/step - loss: 0.6669 - acc: 0.6143 - val_loss: 0.6100 - val_acc: 0.7371\n",
      "Epoch 50/100\n",
      "420/420 [==============================] - 0s 472us/step - loss: 0.6669 - acc: 0.6143 - val_loss: 0.6101 - val_acc: 0.7371\n",
      "Epoch 51/100\n",
      "420/420 [==============================] - 0s 482us/step - loss: 0.6670 - acc: 0.6143 - val_loss: 0.6101 - val_acc: 0.7371\n",
      "Epoch 52/100\n",
      "420/420 [==============================] - 0s 455us/step - loss: 0.6668 - acc: 0.6143 - val_loss: 0.6100 - val_acc: 0.7371\n",
      "Epoch 53/100\n",
      "420/420 [==============================] - 0s 421us/step - loss: 0.6668 - acc: 0.6143 - val_loss: 0.6100 - val_acc: 0.7371\n",
      "Epoch 54/100\n",
      "420/420 [==============================] - 0s 428us/step - loss: 0.6669 - acc: 0.6143 - val_loss: 0.6098 - val_acc: 0.7371\n",
      "Epoch 55/100\n",
      "420/420 [==============================] - ETA: 0s - loss: 0.6641 - acc: 0.620 - 0s 446us/step - loss: 0.6669 - acc: 0.6143 - val_loss: 0.6102 - val_acc: 0.7371\n",
      "Epoch 56/100\n",
      "420/420 [==============================] - 0s 435us/step - loss: 0.6669 - acc: 0.6143 - val_loss: 0.6100 - val_acc: 0.7371\n",
      "Epoch 57/100\n",
      "420/420 [==============================] - 0s 404us/step - loss: 0.6669 - acc: 0.6143 - val_loss: 0.6103 - val_acc: 0.7371\n",
      "Epoch 58/100\n",
      "420/420 [==============================] - 0s 407us/step - loss: 0.6668 - acc: 0.6143 - val_loss: 0.6101 - val_acc: 0.7371\n",
      "Epoch 59/100\n",
      "420/420 [==============================] - 0s 422us/step - loss: 0.6669 - acc: 0.6143 - val_loss: 0.6097 - val_acc: 0.7371\n",
      "Epoch 60/100\n"
     ]
    },
    {
     "name": "stdout",
     "output_type": "stream",
     "text": [
      "420/420 [==============================] - 0s 403us/step - loss: 0.6669 - acc: 0.6143 - val_loss: 0.6094 - val_acc: 0.7371\n",
      "Epoch 61/100\n",
      "420/420 [==============================] - 0s 400us/step - loss: 0.6669 - acc: 0.6143 - val_loss: 0.6101 - val_acc: 0.7371\n",
      "Epoch 62/100\n",
      "420/420 [==============================] - 0s 401us/step - loss: 0.6668 - acc: 0.6143 - val_loss: 0.6099 - val_acc: 0.7371\n",
      "Epoch 63/100\n",
      "420/420 [==============================] - 0s 399us/step - loss: 0.6668 - acc: 0.6143 - val_loss: 0.6099 - val_acc: 0.7371\n",
      "Epoch 64/100\n",
      "420/420 [==============================] - 0s 442us/step - loss: 0.6668 - acc: 0.6143 - val_loss: 0.6100 - val_acc: 0.7371\n",
      "Epoch 65/100\n",
      "420/420 [==============================] - 0s 458us/step - loss: 0.6669 - acc: 0.6143 - val_loss: 0.6096 - val_acc: 0.7371\n",
      "Epoch 66/100\n",
      "420/420 [==============================] - 0s 488us/step - loss: 0.6669 - acc: 0.6143 - val_loss: 0.6102 - val_acc: 0.7371\n",
      "Epoch 67/100\n",
      "420/420 [==============================] - 0s 517us/step - loss: 0.6669 - acc: 0.6143 - val_loss: 0.6098 - val_acc: 0.7371\n",
      "Epoch 68/100\n",
      "420/420 [==============================] - 0s 714us/step - loss: 0.6669 - acc: 0.6143 - val_loss: 0.6100 - val_acc: 0.7371\n",
      "Epoch 69/100\n",
      "420/420 [==============================] - 0s 571us/step - loss: 0.6669 - acc: 0.6143 - val_loss: 0.6099 - val_acc: 0.7371\n",
      "Epoch 70/100\n",
      "420/420 [==============================] - 0s 845us/step - loss: 0.6670 - acc: 0.6143 - val_loss: 0.6100 - val_acc: 0.7371\n",
      "Epoch 71/100\n",
      "420/420 [==============================] - 0s 405us/step - loss: 0.6669 - acc: 0.6143 - val_loss: 0.6096 - val_acc: 0.7371\n",
      "Epoch 72/100\n",
      "420/420 [==============================] - 0s 357us/step - loss: 0.6668 - acc: 0.6143 - val_loss: 0.6098 - val_acc: 0.7371\n",
      "Epoch 73/100\n",
      "420/420 [==============================] - 0s 336us/step - loss: 0.6669 - acc: 0.6143 - val_loss: 0.6099 - val_acc: 0.7371\n",
      "Epoch 74/100\n",
      "420/420 [==============================] - 0s 332us/step - loss: 0.6669 - acc: 0.6143 - val_loss: 0.6098 - val_acc: 0.7371\n",
      "Epoch 75/100\n",
      "420/420 [==============================] - 0s 312us/step - loss: 0.6669 - acc: 0.6143 - val_loss: 0.6098 - val_acc: 0.7371\n",
      "Epoch 76/100\n",
      "420/420 [==============================] - 0s 290us/step - loss: 0.6669 - acc: 0.6143 - val_loss: 0.6098 - val_acc: 0.7371\n",
      "Epoch 77/100\n",
      "420/420 [==============================] - 0s 389us/step - loss: 0.6669 - acc: 0.6143 - val_loss: 0.6095 - val_acc: 0.7371\n",
      "Epoch 78/100\n",
      "420/420 [==============================] - 0s 421us/step - loss: 0.6669 - acc: 0.6143 - val_loss: 0.6094 - val_acc: 0.7371\n",
      "Epoch 79/100\n",
      "420/420 [==============================] - 0s 414us/step - loss: 0.6668 - acc: 0.6143 - val_loss: 0.6096 - val_acc: 0.7371\n",
      "Epoch 80/100\n",
      "420/420 [==============================] - 0s 392us/step - loss: 0.6669 - acc: 0.6143 - val_loss: 0.6096 - val_acc: 0.7371\n",
      "Epoch 81/100\n",
      "420/420 [==============================] - 0s 403us/step - loss: 0.6669 - acc: 0.6143 - val_loss: 0.6098 - val_acc: 0.7371\n",
      "Epoch 82/100\n",
      "420/420 [==============================] - 0s 430us/step - loss: 0.6668 - acc: 0.6143 - val_loss: 0.6096 - val_acc: 0.7371\n",
      "Epoch 83/100\n",
      "420/420 [==============================] - 0s 422us/step - loss: 0.6669 - acc: 0.6143 - val_loss: 0.6095 - val_acc: 0.7371\n",
      "Epoch 84/100\n",
      "420/420 [==============================] - 0s 452us/step - loss: 0.6669 - acc: 0.6143 - val_loss: 0.6098 - val_acc: 0.7371\n",
      "Epoch 85/100\n",
      "420/420 [==============================] - 0s 466us/step - loss: 0.6669 - acc: 0.6143 - val_loss: 0.6100 - val_acc: 0.7371\n",
      "Epoch 86/100\n",
      "420/420 [==============================] - 0s 429us/step - loss: 0.6670 - acc: 0.6143 - val_loss: 0.6101 - val_acc: 0.7371\n",
      "Epoch 87/100\n",
      "420/420 [==============================] - ETA: 0s - loss: 0.6654 - acc: 0.617 - 0s 433us/step - loss: 0.6669 - acc: 0.6143 - val_loss: 0.6095 - val_acc: 0.7371\n",
      "Epoch 88/100\n",
      "420/420 [==============================] - 0s 432us/step - loss: 0.6669 - acc: 0.6143 - val_loss: 0.6097 - val_acc: 0.7371\n",
      "Epoch 89/100\n",
      "420/420 [==============================] - 0s 446us/step - loss: 0.6668 - acc: 0.6143 - val_loss: 0.6098 - val_acc: 0.7371\n",
      "Epoch 90/100\n",
      "420/420 [==============================] - 0s 470us/step - loss: 0.6668 - acc: 0.6143 - val_loss: 0.6098 - val_acc: 0.7371\n",
      "Epoch 91/100\n",
      "420/420 [==============================] - 0s 432us/step - loss: 0.6669 - acc: 0.6143 - val_loss: 0.6097 - val_acc: 0.7371\n",
      "Epoch 92/100\n",
      "420/420 [==============================] - 0s 391us/step - loss: 0.6669 - acc: 0.6143 - val_loss: 0.6096 - val_acc: 0.7371\n",
      "Epoch 93/100\n",
      "420/420 [==============================] - 0s 375us/step - loss: 0.6669 - acc: 0.6143 - val_loss: 0.6094 - val_acc: 0.7371\n",
      "Epoch 94/100\n",
      "420/420 [==============================] - 0s 412us/step - loss: 0.6668 - acc: 0.6143 - val_loss: 0.6095 - val_acc: 0.7371\n",
      "Epoch 95/100\n",
      "420/420 [==============================] - 0s 404us/step - loss: 0.6668 - acc: 0.6143 - val_loss: 0.6097 - val_acc: 0.7371\n",
      "Epoch 96/100\n",
      "420/420 [==============================] - 0s 408us/step - loss: 0.6669 - acc: 0.6143 - val_loss: 0.6098 - val_acc: 0.7371\n",
      "Epoch 97/100\n",
      "420/420 [==============================] - 0s 414us/step - loss: 0.6668 - acc: 0.6143 - val_loss: 0.6098 - val_acc: 0.7371\n",
      "Epoch 98/100\n",
      "420/420 [==============================] - 0s 408us/step - loss: 0.6669 - acc: 0.6143 - val_loss: 0.6097 - val_acc: 0.7371\n",
      "Epoch 99/100\n",
      "420/420 [==============================] - 0s 428us/step - loss: 0.6668 - acc: 0.6143 - val_loss: 0.6098 - val_acc: 0.7371\n",
      "Epoch 100/100\n",
      "420/420 [==============================] - 0s 448us/step - loss: 0.6669 - acc: 0.6143 - val_loss: 0.6097 - val_acc: 0.7371\n",
      "Train on 420 samples, validate on 232 samples\n",
      "Epoch 1/5\n",
      "300/420 [====================>.........] - ETA: 0s - loss: 0.6689 - acc: 0.610"
     ]
    },
    {
     "name": "stderr",
     "output_type": "stream",
     "text": [
      "C:\\Users\\Home\\Anaconda3\\lib\\site-packages\\ipykernel_launcher.py:5: UserWarning: The `nb_epoch` argument in `fit` has been renamed `epochs`.\n",
      "  \"\"\"\n"
     ]
    },
    {
     "name": "stdout",
     "output_type": "stream",
     "text": [
      "420/420 [==============================] - 0s 418us/step - loss: 0.6669 - acc: 0.6143 - val_loss: 0.6096 - val_acc: 0.7371\n",
      "Epoch 2/5\n",
      "420/420 [==============================] - 0s 427us/step - loss: 0.6669 - acc: 0.6143 - val_loss: 0.6095 - val_acc: 0.7371\n",
      "Epoch 3/5\n",
      "420/420 [==============================] - 0s 414us/step - loss: 0.6668 - acc: 0.6143 - val_loss: 0.6095 - val_acc: 0.7371\n",
      "Epoch 4/5\n",
      "420/420 [==============================] - 0s 458us/step - loss: 0.6669 - acc: 0.6143 - val_loss: 0.6094 - val_acc: 0.7371\n",
      "Epoch 5/5\n",
      "420/420 [==============================] - 0s 503us/step - loss: 0.6669 - acc: 0.6143 - val_loss: 0.6098 - val_acc: 0.7371\n",
      "232/232 [==============================] - 0s 48us/step\n",
      "Accuracy: 73.71%\n",
      "Train on 420 samples, validate on 232 samples\n",
      "Epoch 1/5\n",
      "420/420 [==============================] - 0s 404us/step - loss: 0.6669 - acc: 0.6143 - val_loss: 0.6101 - val_acc: 0.7371\n",
      "Epoch 2/5\n"
     ]
    },
    {
     "name": "stderr",
     "output_type": "stream",
     "text": [
      "C:\\Users\\Home\\Anaconda3\\lib\\site-packages\\ipykernel_launcher.py:5: UserWarning: The `nb_epoch` argument in `fit` has been renamed `epochs`.\n",
      "  \"\"\"\n"
     ]
    },
    {
     "name": "stdout",
     "output_type": "stream",
     "text": [
      "420/420 [==============================] - 0s 530us/step - loss: 0.6670 - acc: 0.6143 - val_loss: 0.6096 - val_acc: 0.7371\n",
      "Epoch 3/5\n",
      "420/420 [==============================] - 0s 343us/step - loss: 0.6668 - acc: 0.6143 - val_loss: 0.6095 - val_acc: 0.7371\n",
      "Epoch 4/5\n",
      "420/420 [==============================] - 0s 344us/step - loss: 0.6669 - acc: 0.6143 - val_loss: 0.6097 - val_acc: 0.7371\n",
      "Epoch 5/5\n",
      "420/420 [==============================] - 0s 340us/step - loss: 0.6668 - acc: 0.6143 - val_loss: 0.6096 - val_acc: 0.7371\n",
      "232/232 [==============================] - 0s 23us/step\n",
      "Accuracy: 73.71%\n",
      "Train on 420 samples, validate on 232 samples\n",
      "Epoch 1/6\n",
      "420/420 [==============================] - 0s 396us/step - loss: 0.6669 - acc: 0.6143 - val_loss: 0.6092 - val_acc: 0.7371\n",
      "Epoch 2/6\n"
     ]
    },
    {
     "name": "stderr",
     "output_type": "stream",
     "text": [
      "C:\\Users\\Home\\Anaconda3\\lib\\site-packages\\ipykernel_launcher.py:5: UserWarning: The `nb_epoch` argument in `fit` has been renamed `epochs`.\n",
      "  \"\"\"\n"
     ]
    },
    {
     "name": "stdout",
     "output_type": "stream",
     "text": [
      "420/420 [==============================] - 0s 433us/step - loss: 0.6669 - acc: 0.6143 - val_loss: 0.6095 - val_acc: 0.7371\n",
      "Epoch 3/6\n",
      "420/420 [==============================] - 0s 433us/step - loss: 0.6668 - acc: 0.6143 - val_loss: 0.6096 - val_acc: 0.7371\n",
      "Epoch 4/6\n",
      "420/420 [==============================] - 0s 424us/step - loss: 0.6669 - acc: 0.6143 - val_loss: 0.6092 - val_acc: 0.7371\n",
      "Epoch 5/6\n",
      "420/420 [==============================] - 0s 423us/step - loss: 0.6669 - acc: 0.6143 - val_loss: 0.6099 - val_acc: 0.7371\n",
      "Epoch 6/6\n",
      "420/420 [==============================] - 0s 445us/step - loss: 0.6669 - acc: 0.6143 - val_loss: 0.6098 - val_acc: 0.7371\n",
      "232/232 [==============================] - 0s 68us/step\n",
      "Accuracy: 73.71%\n",
      "Train on 420 samples, validate on 232 samples\n",
      "Epoch 1/6\n",
      "420/420 [==============================] - 0s 398us/step - loss: 0.6669 - acc: 0.6143 - val_loss: 0.6100 - val_acc: 0.7371\n",
      "Epoch 2/6\n",
      "  6/420 [..............................] - ETA: 0s - loss: 0.5655 - acc: 0.8333"
     ]
    },
    {
     "name": "stderr",
     "output_type": "stream",
     "text": [
      "C:\\Users\\Home\\Anaconda3\\lib\\site-packages\\ipykernel_launcher.py:5: UserWarning: The `nb_epoch` argument in `fit` has been renamed `epochs`.\n",
      "  \"\"\"\n"
     ]
    },
    {
     "name": "stdout",
     "output_type": "stream",
     "text": [
      "420/420 [==============================] - 0s 381us/step - loss: 0.6669 - acc: 0.6143 - val_loss: 0.6099 - val_acc: 0.7371\n",
      "Epoch 3/6\n",
      "420/420 [==============================] - 0s 357us/step - loss: 0.6669 - acc: 0.6143 - val_loss: 0.6099 - val_acc: 0.7371\n",
      "Epoch 4/6\n",
      "420/420 [==============================] - 0s 363us/step - loss: 0.6669 - acc: 0.6143 - val_loss: 0.6093 - val_acc: 0.7371\n",
      "Epoch 5/6\n",
      "420/420 [==============================] - 0s 391us/step - loss: 0.6669 - acc: 0.6143 - val_loss: 0.6095 - val_acc: 0.7371\n",
      "Epoch 6/6\n",
      "420/420 [==============================] - 0s 351us/step - loss: 0.6669 - acc: 0.6143 - val_loss: 0.6097 - val_acc: 0.7371\n",
      "232/232 [==============================] - 0s 61us/step\n",
      "Accuracy: 73.71%\n",
      "Train on 420 samples, validate on 232 samples\n",
      "Epoch 1/7\n",
      "295/420 [====================>.........] - ETA: 0s - loss: 0.6829 - acc: 0.5797"
     ]
    },
    {
     "name": "stderr",
     "output_type": "stream",
     "text": [
      "C:\\Users\\Home\\Anaconda3\\lib\\site-packages\\ipykernel_launcher.py:5: UserWarning: The `nb_epoch` argument in `fit` has been renamed `epochs`.\n",
      "  \"\"\"\n"
     ]
    },
    {
     "name": "stdout",
     "output_type": "stream",
     "text": [
      "420/420 [==============================] - 0s 478us/step - loss: 0.6669 - acc: 0.6143 - val_loss: 0.6100 - val_acc: 0.7371\n",
      "Epoch 2/7\n",
      "420/420 [==============================] - 0s 470us/step - loss: 0.6669 - acc: 0.6143 - val_loss: 0.6098 - val_acc: 0.7371\n",
      "Epoch 3/7\n",
      "420/420 [==============================] - 0s 448us/step - loss: 0.6669 - acc: 0.6143 - val_loss: 0.6095 - val_acc: 0.7371\n",
      "Epoch 4/7\n",
      "420/420 [==============================] - 0s 454us/step - loss: 0.6669 - acc: 0.6143 - val_loss: 0.6096 - val_acc: 0.7371\n",
      "Epoch 5/7\n",
      "420/420 [==============================] - 0s 429us/step - loss: 0.6669 - acc: 0.6143 - val_loss: 0.6093 - val_acc: 0.7371\n",
      "Epoch 6/7\n",
      "420/420 [==============================] - 0s 439us/step - loss: 0.6668 - acc: 0.6143 - val_loss: 0.6094 - val_acc: 0.7371\n",
      "Epoch 7/7\n",
      "420/420 [==============================] - 0s 382us/step - loss: 0.6669 - acc: 0.6143 - val_loss: 0.6095 - val_acc: 0.7371\n",
      "232/232 [==============================] - 0s 121us/step\n",
      "Accuracy: 73.71%\n",
      "Train on 420 samples, validate on 232 samples\n",
      "Epoch 1/7\n",
      "108/420 [======>.......................] - ETA: 0s - loss: 0.6683 - acc: 0.6111"
     ]
    },
    {
     "name": "stderr",
     "output_type": "stream",
     "text": [
      "C:\\Users\\Home\\Anaconda3\\lib\\site-packages\\ipykernel_launcher.py:5: UserWarning: The `nb_epoch` argument in `fit` has been renamed `epochs`.\n",
      "  \"\"\"\n"
     ]
    },
    {
     "name": "stdout",
     "output_type": "stream",
     "text": [
      "420/420 [==============================] - 0s 624us/step - loss: 0.6668 - acc: 0.6143 - val_loss: 0.6097 - val_acc: 0.7371\n",
      "Epoch 2/7\n",
      "420/420 [==============================] - 0s 363us/step - loss: 0.6668 - acc: 0.6143 - val_loss: 0.6096 - val_acc: 0.7371\n",
      "Epoch 3/7\n",
      "420/420 [==============================] - 0s 353us/step - loss: 0.6669 - acc: 0.6143 - val_loss: 0.6099 - val_acc: 0.7371\n",
      "Epoch 4/7\n",
      "420/420 [==============================] - 0s 363us/step - loss: 0.6668 - acc: 0.6143 - val_loss: 0.6096 - val_acc: 0.7371\n",
      "Epoch 5/7\n",
      "420/420 [==============================] - 0s 395us/step - loss: 0.6669 - acc: 0.6143 - val_loss: 0.6097 - val_acc: 0.7371\n",
      "Epoch 6/7\n",
      "420/420 [==============================] - 0s 395us/step - loss: 0.6669 - acc: 0.6143 - val_loss: 0.6097 - val_acc: 0.7371\n",
      "Epoch 7/7\n",
      "420/420 [==============================] - 0s 398us/step - loss: 0.6669 - acc: 0.6143 - val_loss: 0.6097 - val_acc: 0.7371\n",
      "232/232 [==============================] - 0s 34us/step\n",
      "Accuracy: 73.71%\n",
      "Train on 420 samples, validate on 232 samples\n",
      "Epoch 1/8\n",
      "285/420 [===================>..........] - ETA: 0s - loss: 0.6768 - acc: 0.5930"
     ]
    },
    {
     "name": "stderr",
     "output_type": "stream",
     "text": [
      "C:\\Users\\Home\\Anaconda3\\lib\\site-packages\\ipykernel_launcher.py:5: UserWarning: The `nb_epoch` argument in `fit` has been renamed `epochs`.\n",
      "  \"\"\"\n"
     ]
    },
    {
     "name": "stdout",
     "output_type": "stream",
     "text": [
      "420/420 [==============================] - 0s 453us/step - loss: 0.6669 - acc: 0.6143 - val_loss: 0.6098 - val_acc: 0.7371\n",
      "Epoch 2/8\n",
      "420/420 [==============================] - 0s 437us/step - loss: 0.6669 - acc: 0.6143 - val_loss: 0.6097 - val_acc: 0.7371\n",
      "Epoch 3/8\n",
      "420/420 [==============================] - 0s 445us/step - loss: 0.6669 - acc: 0.6143 - val_loss: 0.6098 - val_acc: 0.7371\n",
      "Epoch 4/8\n",
      "420/420 [==============================] - 0s 422us/step - loss: 0.6669 - acc: 0.6143 - val_loss: 0.6096 - val_acc: 0.7371\n",
      "Epoch 5/8\n",
      "420/420 [==============================] - 0s 453us/step - loss: 0.6668 - acc: 0.6143 - val_loss: 0.6096 - val_acc: 0.7371\n",
      "Epoch 6/8\n",
      "420/420 [==============================] - 0s 422us/step - loss: 0.6669 - acc: 0.6143 - val_loss: 0.6092 - val_acc: 0.7371\n",
      "Epoch 7/8\n",
      "420/420 [==============================] - 0s 470us/step - loss: 0.6669 - acc: 0.6143 - val_loss: 0.6096 - val_acc: 0.7371\n",
      "Epoch 8/8\n",
      "420/420 [==============================] - 0s 432us/step - loss: 0.6668 - acc: 0.6143 - val_loss: 0.6094 - val_acc: 0.7371\n",
      "232/232 [==============================] - 0s 41us/step\n",
      "Accuracy: 73.71%\n",
      "Train on 420 samples, validate on 232 samples\n",
      "Epoch 1/8\n",
      "420/420 [==============================] - 0s 373us/step - loss: 0.6668 - acc: 0.6143 - val_loss: 0.6099 - val_acc: 0.7371\n",
      "Epoch 2/8\n",
      "  6/420 [..............................] - ETA: 0s - loss: 0.7197 - acc: 0.5000"
     ]
    },
    {
     "name": "stderr",
     "output_type": "stream",
     "text": [
      "C:\\Users\\Home\\Anaconda3\\lib\\site-packages\\ipykernel_launcher.py:5: UserWarning: The `nb_epoch` argument in `fit` has been renamed `epochs`.\n",
      "  \"\"\"\n"
     ]
    },
    {
     "name": "stdout",
     "output_type": "stream",
     "text": [
      "420/420 [==============================] - 0s 380us/step - loss: 0.6669 - acc: 0.6143 - val_loss: 0.6095 - val_acc: 0.7371\n",
      "Epoch 3/8\n",
      "420/420 [==============================] - 0s 388us/step - loss: 0.6670 - acc: 0.6143 - val_loss: 0.6097 - val_acc: 0.7371\n",
      "Epoch 4/8\n",
      "420/420 [==============================] - 0s 375us/step - loss: 0.6668 - acc: 0.6143 - val_loss: 0.6097 - val_acc: 0.7371\n",
      "Epoch 5/8\n",
      "420/420 [==============================] - 0s 366us/step - loss: 0.6669 - acc: 0.6143 - val_loss: 0.6099 - val_acc: 0.7371\n",
      "Epoch 6/8\n",
      "420/420 [==============================] - 0s 381us/step - loss: 0.6668 - acc: 0.6143 - val_loss: 0.6097 - val_acc: 0.7371\n",
      "Epoch 7/8\n",
      "420/420 [==============================] - 0s 375us/step - loss: 0.6668 - acc: 0.6143 - val_loss: 0.6096 - val_acc: 0.7371\n",
      "Epoch 8/8\n",
      "420/420 [==============================] - 0s 386us/step - loss: 0.6669 - acc: 0.6143 - val_loss: 0.6093 - val_acc: 0.7371\n",
      "232/232 [==============================] - 0s 39us/step\n",
      "Accuracy: 73.71%\n",
      "Train on 420 samples, validate on 232 samples\n",
      "Epoch 1/9\n",
      "420/420 [==============================] - 0s 413us/step - loss: 0.6668 - acc: 0.6143 - val_loss: 0.6095 - val_acc: 0.7371\n"
     ]
    },
    {
     "name": "stderr",
     "output_type": "stream",
     "text": [
      "C:\\Users\\Home\\Anaconda3\\lib\\site-packages\\ipykernel_launcher.py:5: UserWarning: The `nb_epoch` argument in `fit` has been renamed `epochs`.\n",
      "  \"\"\"\n"
     ]
    },
    {
     "name": "stdout",
     "output_type": "stream",
     "text": [
      "Epoch 2/9\n",
      "420/420 [==============================] - 0s 469us/step - loss: 0.6668 - acc: 0.6143 - val_loss: 0.6093 - val_acc: 0.7371\n",
      "Epoch 3/9\n",
      "420/420 [==============================] - 0s 415us/step - loss: 0.6669 - acc: 0.6143 - val_loss: 0.6099 - val_acc: 0.7371\n",
      "Epoch 4/9\n",
      "420/420 [==============================] - 0s 412us/step - loss: 0.6669 - acc: 0.6143 - val_loss: 0.6096 - val_acc: 0.7371\n",
      "Epoch 5/9\n",
      "420/420 [==============================] - 0s 406us/step - loss: 0.6669 - acc: 0.6143 - val_loss: 0.6095 - val_acc: 0.7371\n",
      "Epoch 6/9\n",
      "420/420 [==============================] - 0s 437us/step - loss: 0.6669 - acc: 0.6143 - val_loss: 0.6094 - val_acc: 0.7371\n",
      "Epoch 7/9\n",
      "420/420 [==============================] - 0s 443us/step - loss: 0.6668 - acc: 0.6143 - val_loss: 0.6093 - val_acc: 0.7371\n",
      "Epoch 8/9\n",
      "420/420 [==============================] - 0s 502us/step - loss: 0.6669 - acc: 0.6143 - val_loss: 0.6099 - val_acc: 0.7371\n",
      "Epoch 9/9\n",
      "420/420 [==============================] - 0s 429us/step - loss: 0.6669 - acc: 0.6143 - val_loss: 0.6095 - val_acc: 0.7371\n",
      "232/232 [==============================] - 0s 53us/step\n",
      "Accuracy: 73.71%\n",
      "Train on 420 samples, validate on 232 samples\n",
      "Epoch 1/9\n",
      "420/420 [==============================] - 0s 345us/step - loss: 0.6669 - acc: 0.6143 - val_loss: 0.6092 - val_acc: 0.7371\n",
      "Epoch 2/9\n",
      "  6/420 [..............................] - ETA: 0s - loss: 0.4859 - acc: 1.0000"
     ]
    },
    {
     "name": "stderr",
     "output_type": "stream",
     "text": [
      "C:\\Users\\Home\\Anaconda3\\lib\\site-packages\\ipykernel_launcher.py:5: UserWarning: The `nb_epoch` argument in `fit` has been renamed `epochs`.\n",
      "  \"\"\"\n"
     ]
    },
    {
     "name": "stdout",
     "output_type": "stream",
     "text": [
      "420/420 [==============================] - 0s 331us/step - loss: 0.6668 - acc: 0.6143 - val_loss: 0.6095 - val_acc: 0.7371\n",
      "Epoch 3/9\n",
      "420/420 [==============================] - 0s 334us/step - loss: 0.6669 - acc: 0.6143 - val_loss: 0.6096 - val_acc: 0.7371\n",
      "Epoch 4/9\n",
      "420/420 [==============================] - 0s 374us/step - loss: 0.6668 - acc: 0.6143 - val_loss: 0.6097 - val_acc: 0.7371\n",
      "Epoch 5/9\n",
      "420/420 [==============================] - 0s 584us/step - loss: 0.6668 - acc: 0.6143 - val_loss: 0.6095 - val_acc: 0.7371\n",
      "Epoch 6/9\n",
      "420/420 [==============================] - 0s 543us/step - loss: 0.6668 - acc: 0.6143 - val_loss: 0.6098 - val_acc: 0.7371\n",
      "Epoch 7/9\n",
      "420/420 [==============================] - 0s 554us/step - loss: 0.6669 - acc: 0.6143 - val_loss: 0.6097 - val_acc: 0.7371\n",
      "Epoch 8/9\n",
      "420/420 [==============================] - 0s 406us/step - loss: 0.6669 - acc: 0.6143 - val_loss: 0.6094 - val_acc: 0.7371\n",
      "Epoch 9/9\n",
      "420/420 [==============================] - 0s 526us/step - loss: 0.6668 - acc: 0.6143 - val_loss: 0.6095 - val_acc: 0.7371\n",
      "232/232 [==============================] - 0s 50us/step\n",
      "Accuracy: 73.71%\n",
      "Train on 420 samples, validate on 232 samples\n",
      "Epoch 1/10\n",
      "395/420 [===========================>..] - ETA: 0s - loss: 0.6593 - acc: 0.6304"
     ]
    },
    {
     "name": "stderr",
     "output_type": "stream",
     "text": [
      "C:\\Users\\Home\\Anaconda3\\lib\\site-packages\\ipykernel_launcher.py:5: UserWarning: The `nb_epoch` argument in `fit` has been renamed `epochs`.\n",
      "  \"\"\"\n"
     ]
    },
    {
     "name": "stdout",
     "output_type": "stream",
     "text": [
      "420/420 [==============================] - 0s 488us/step - loss: 0.6669 - acc: 0.6143 - val_loss: 0.6092 - val_acc: 0.7371\n",
      "Epoch 2/10\n",
      "420/420 [==============================] - 0s 500us/step - loss: 0.6669 - acc: 0.6143 - val_loss: 0.6098 - val_acc: 0.7371\n",
      "Epoch 3/10\n",
      "420/420 [==============================] - 0s 551us/step - loss: 0.6669 - acc: 0.6143 - val_loss: 0.6097 - val_acc: 0.7371\n",
      "Epoch 4/10\n",
      "420/420 [==============================] - 0s 553us/step - loss: 0.6669 - acc: 0.6143 - val_loss: 0.6096 - val_acc: 0.7371\n",
      "Epoch 5/10\n",
      "420/420 [==============================] - 0s 527us/step - loss: 0.6669 - acc: 0.6143 - val_loss: 0.6096 - val_acc: 0.7371\n",
      "Epoch 6/10\n",
      "420/420 [==============================] - 0s 537us/step - loss: 0.6669 - acc: 0.6143 - val_loss: 0.6096 - val_acc: 0.7371\n",
      "Epoch 7/10\n",
      "420/420 [==============================] - 0s 497us/step - loss: 0.6669 - acc: 0.6143 - val_loss: 0.6096 - val_acc: 0.7371\n",
      "Epoch 8/10\n",
      "420/420 [==============================] - 0s 449us/step - loss: 0.6668 - acc: 0.6143 - val_loss: 0.6097 - val_acc: 0.7371\n",
      "Epoch 9/10\n",
      "420/420 [==============================] - 0s 458us/step - loss: 0.6668 - acc: 0.6143 - val_loss: 0.6096 - val_acc: 0.7371\n",
      "Epoch 10/10\n",
      "420/420 [==============================] - 0s 457us/step - loss: 0.6668 - acc: 0.6143 - val_loss: 0.6095 - val_acc: 0.7371\n",
      "232/232 [==============================] - 0s 52us/step\n",
      "Accuracy: 73.71%\n",
      "Train on 420 samples, validate on 232 samples\n",
      "Epoch 1/10\n",
      "420/420 [==============================] - 0s 376us/step - loss: 0.6668 - acc: 0.6143 - val_loss: 0.6094 - val_acc: 0.7371\n",
      "Epoch 2/10\n",
      "  6/420 [..............................] - ETA: 0s - loss: 0.6423 - acc: 0.6667"
     ]
    },
    {
     "name": "stderr",
     "output_type": "stream",
     "text": [
      "C:\\Users\\Home\\Anaconda3\\lib\\site-packages\\ipykernel_launcher.py:5: UserWarning: The `nb_epoch` argument in `fit` has been renamed `epochs`.\n",
      "  \"\"\"\n"
     ]
    },
    {
     "name": "stdout",
     "output_type": "stream",
     "text": [
      "420/420 [==============================] - 0s 382us/step - loss: 0.6668 - acc: 0.6143 - val_loss: 0.6095 - val_acc: 0.7371\n",
      "Epoch 3/10\n",
      "420/420 [==============================] - 0s 384us/step - loss: 0.6669 - acc: 0.6143 - val_loss: 0.6097 - val_acc: 0.7371\n",
      "Epoch 4/10\n",
      "420/420 [==============================] - 0s 375us/step - loss: 0.6669 - acc: 0.6143 - val_loss: 0.6094 - val_acc: 0.7371\n",
      "Epoch 5/10\n",
      "420/420 [==============================] - 0s 388us/step - loss: 0.6670 - acc: 0.6143 - val_loss: 0.6093 - val_acc: 0.7371\n",
      "Epoch 6/10\n",
      "420/420 [==============================] - 0s 367us/step - loss: 0.6669 - acc: 0.6143 - val_loss: 0.6095 - val_acc: 0.7371\n",
      "Epoch 7/10\n",
      "420/420 [==============================] - 0s 383us/step - loss: 0.6669 - acc: 0.6143 - val_loss: 0.6099 - val_acc: 0.7371\n",
      "Epoch 8/10\n",
      "420/420 [==============================] - 0s 375us/step - loss: 0.6669 - acc: 0.6143 - val_loss: 0.6096 - val_acc: 0.7371\n",
      "Epoch 9/10\n",
      "420/420 [==============================] - 0s 378us/step - loss: 0.6668 - acc: 0.6143 - val_loss: 0.6096 - val_acc: 0.7371\n",
      "Epoch 10/10\n",
      "420/420 [==============================] - 0s 379us/step - loss: 0.6669 - acc: 0.6143 - val_loss: 0.6096 - val_acc: 0.7371\n",
      "232/232 [==============================] - 0s 34us/step\n",
      "Accuracy: 73.71%\n",
      "Train on 420 samples, validate on 232 samples\n",
      "Epoch 1/11\n",
      "405/420 [===========================>..] - ETA: 0s - loss: 0.6657 - acc: 0.6173"
     ]
    },
    {
     "name": "stderr",
     "output_type": "stream",
     "text": [
      "C:\\Users\\Home\\Anaconda3\\lib\\site-packages\\ipykernel_launcher.py:5: UserWarning: The `nb_epoch` argument in `fit` has been renamed `epochs`.\n",
      "  \"\"\"\n"
     ]
    },
    {
     "name": "stdout",
     "output_type": "stream",
     "text": [
      "420/420 [==============================] - 0s 487us/step - loss: 0.6670 - acc: 0.6143 - val_loss: 0.6095 - val_acc: 0.7371\n",
      "Epoch 2/11\n",
      "420/420 [==============================] - 0s 433us/step - loss: 0.6670 - acc: 0.6143 - val_loss: 0.6093 - val_acc: 0.7371\n",
      "Epoch 3/11\n",
      "420/420 [==============================] - 0s 458us/step - loss: 0.6669 - acc: 0.6143 - val_loss: 0.6101 - val_acc: 0.7371\n",
      "Epoch 4/11\n",
      "420/420 [==============================] - 0s 455us/step - loss: 0.6669 - acc: 0.6143 - val_loss: 0.6098 - val_acc: 0.7371\n",
      "Epoch 5/11\n",
      "420/420 [==============================] - 0s 456us/step - loss: 0.6668 - acc: 0.6143 - val_loss: 0.6098 - val_acc: 0.7371\n",
      "Epoch 6/11\n",
      "420/420 [==============================] - 0s 538us/step - loss: 0.6669 - acc: 0.6143 - val_loss: 0.6099 - val_acc: 0.7371\n",
      "Epoch 7/11\n",
      "420/420 [==============================] - 0s 453us/step - loss: 0.6669 - acc: 0.6143 - val_loss: 0.6093 - val_acc: 0.7371\n",
      "Epoch 8/11\n",
      "420/420 [==============================] - 0s 468us/step - loss: 0.6669 - acc: 0.6143 - val_loss: 0.6099 - val_acc: 0.7371\n",
      "Epoch 9/11\n",
      "420/420 [==============================] - ETA: 0s - loss: 0.6671 - acc: 0.613 - 0s 447us/step - loss: 0.6668 - acc: 0.6143 - val_loss: 0.6095 - val_acc: 0.7371\n",
      "Epoch 10/11\n",
      "420/420 [==============================] - 0s 450us/step - loss: 0.6669 - acc: 0.6143 - val_loss: 0.6094 - val_acc: 0.7371\n",
      "Epoch 11/11\n",
      "420/420 [==============================] - 0s 450us/step - loss: 0.6668 - acc: 0.6143 - val_loss: 0.6098 - val_acc: 0.7371\n",
      "232/232 [==============================] - 0s 60us/step\n",
      "Accuracy: 73.71%\n",
      "Train on 420 samples, validate on 232 samples\n",
      "Epoch 1/11\n",
      "420/420 [==============================] - 0s 396us/step - loss: 0.6669 - acc: 0.6143 - val_loss: 0.6095 - val_acc: 0.7371\n",
      "Epoch 2/11\n",
      "  6/420 [..............................] - ETA: 0s - loss: 0.6424 - acc: 0.6667"
     ]
    },
    {
     "name": "stderr",
     "output_type": "stream",
     "text": [
      "C:\\Users\\Home\\Anaconda3\\lib\\site-packages\\ipykernel_launcher.py:5: UserWarning: The `nb_epoch` argument in `fit` has been renamed `epochs`.\n",
      "  \"\"\"\n"
     ]
    },
    {
     "name": "stdout",
     "output_type": "stream",
     "text": [
      "420/420 [==============================] - 0s 370us/step - loss: 0.6669 - acc: 0.6143 - val_loss: 0.6098 - val_acc: 0.7371\n",
      "Epoch 3/11\n",
      "420/420 [==============================] - 0s 390us/step - loss: 0.6669 - acc: 0.6143 - val_loss: 0.6096 - val_acc: 0.7371\n",
      "Epoch 4/11\n",
      "420/420 [==============================] - 0s 419us/step - loss: 0.6668 - acc: 0.6143 - val_loss: 0.6098 - val_acc: 0.7371\n",
      "Epoch 5/11\n",
      "420/420 [==============================] - 0s 381us/step - loss: 0.6669 - acc: 0.6143 - val_loss: 0.6095 - val_acc: 0.7371\n",
      "Epoch 6/11\n",
      "420/420 [==============================] - 0s 383us/step - loss: 0.6668 - acc: 0.6143 - val_loss: 0.6099 - val_acc: 0.7371\n",
      "Epoch 7/11\n",
      "420/420 [==============================] - 0s 386us/step - loss: 0.6670 - acc: 0.6143 - val_loss: 0.6096 - val_acc: 0.7371\n",
      "Epoch 8/11\n",
      "420/420 [==============================] - 0s 384us/step - loss: 0.6669 - acc: 0.6143 - val_loss: 0.6098 - val_acc: 0.7371\n",
      "Epoch 9/11\n",
      "420/420 [==============================] - 0s 384us/step - loss: 0.6669 - acc: 0.6143 - val_loss: 0.6098 - val_acc: 0.7371\n",
      "Epoch 10/11\n",
      "420/420 [==============================] - 0s 387us/step - loss: 0.6669 - acc: 0.6143 - val_loss: 0.6100 - val_acc: 0.7371\n",
      "Epoch 11/11\n",
      "420/420 [==============================] - 0s 395us/step - loss: 0.6670 - acc: 0.6143 - val_loss: 0.6098 - val_acc: 0.7371\n",
      "232/232 [==============================] - 0s 52us/step\n",
      "Accuracy: 73.71%\n",
      "Train on 420 samples, validate on 232 samples\n",
      "Epoch 1/12\n",
      "285/420 [===================>..........] - ETA: 0s - loss: 0.6670 - acc: 0.6140"
     ]
    },
    {
     "name": "stderr",
     "output_type": "stream",
     "text": [
      "C:\\Users\\Home\\Anaconda3\\lib\\site-packages\\ipykernel_launcher.py:5: UserWarning: The `nb_epoch` argument in `fit` has been renamed `epochs`.\n",
      "  \"\"\"\n"
     ]
    },
    {
     "name": "stdout",
     "output_type": "stream",
     "text": [
      "420/420 [==============================] - 0s 454us/step - loss: 0.6669 - acc: 0.6143 - val_loss: 0.6101 - val_acc: 0.7371\n",
      "Epoch 2/12\n",
      "420/420 [==============================] - 0s 460us/step - loss: 0.6669 - acc: 0.6143 - val_loss: 0.6096 - val_acc: 0.7371\n",
      "Epoch 3/12\n",
      "420/420 [==============================] - 0s 517us/step - loss: 0.6670 - acc: 0.6143 - val_loss: 0.6097 - val_acc: 0.7371\n",
      "Epoch 4/12\n",
      "420/420 [==============================] - 0s 468us/step - loss: 0.6669 - acc: 0.6143 - val_loss: 0.6099 - val_acc: 0.7371\n",
      "Epoch 5/12\n",
      "420/420 [==============================] - 0s 472us/step - loss: 0.6668 - acc: 0.6143 - val_loss: 0.6096 - val_acc: 0.7371\n",
      "Epoch 6/12\n",
      "420/420 [==============================] - 0s 461us/step - loss: 0.6669 - acc: 0.6143 - val_loss: 0.6099 - val_acc: 0.7371\n",
      "Epoch 7/12\n",
      "420/420 [==============================] - 0s 474us/step - loss: 0.6669 - acc: 0.6143 - val_loss: 0.6099 - val_acc: 0.7371\n",
      "Epoch 8/12\n",
      "420/420 [==============================] - 0s 484us/step - loss: 0.6669 - acc: 0.6143 - val_loss: 0.6094 - val_acc: 0.7371\n",
      "Epoch 9/12\n",
      "420/420 [==============================] - 0s 442us/step - loss: 0.6669 - acc: 0.6143 - val_loss: 0.6099 - val_acc: 0.7371\n",
      "Epoch 10/12\n",
      "420/420 [==============================] - 0s 471us/step - loss: 0.6669 - acc: 0.6143 - val_loss: 0.6098 - val_acc: 0.7371\n",
      "Epoch 11/12\n",
      "420/420 [==============================] - 0s 474us/step - loss: 0.6669 - acc: 0.6143 - val_loss: 0.6099 - val_acc: 0.7371\n",
      "Epoch 12/12\n",
      "420/420 [==============================] - 0s 438us/step - loss: 0.6669 - acc: 0.6143 - val_loss: 0.6094 - val_acc: 0.7371\n",
      "232/232 [==============================] - 0s 48us/step\n",
      "Accuracy: 73.71%\n",
      "Train on 420 samples, validate on 232 samples\n",
      "Epoch 1/12\n",
      "420/420 [==============================] - 0s 378us/step - loss: 0.6669 - acc: 0.6143 - val_loss: 0.6098 - val_acc: 0.7371\n",
      "Epoch 2/12\n",
      "  6/420 [..............................] - ETA: 0s - loss: 0.7198 - acc: 0.5000"
     ]
    },
    {
     "name": "stderr",
     "output_type": "stream",
     "text": [
      "C:\\Users\\Home\\Anaconda3\\lib\\site-packages\\ipykernel_launcher.py:5: UserWarning: The `nb_epoch` argument in `fit` has been renamed `epochs`.\n",
      "  \"\"\"\n"
     ]
    },
    {
     "name": "stdout",
     "output_type": "stream",
     "text": [
      "420/420 [==============================] - 0s 364us/step - loss: 0.6668 - acc: 0.6143 - val_loss: 0.6096 - val_acc: 0.7371\n",
      "Epoch 3/12\n",
      "420/420 [==============================] - 0s 364us/step - loss: 0.6669 - acc: 0.6143 - val_loss: 0.6093 - val_acc: 0.7371\n",
      "Epoch 4/12\n",
      "420/420 [==============================] - 0s 391us/step - loss: 0.6669 - acc: 0.6143 - val_loss: 0.6093 - val_acc: 0.7371\n",
      "Epoch 5/12\n",
      "420/420 [==============================] - 0s 362us/step - loss: 0.6670 - acc: 0.6143 - val_loss: 0.6100 - val_acc: 0.7371\n",
      "Epoch 6/12\n",
      "420/420 [==============================] - 0s 400us/step - loss: 0.6669 - acc: 0.6143 - val_loss: 0.6098 - val_acc: 0.7371\n",
      "Epoch 7/12\n",
      "420/420 [==============================] - 0s 378us/step - loss: 0.6668 - acc: 0.6143 - val_loss: 0.6100 - val_acc: 0.7371\n",
      "Epoch 8/12\n",
      "420/420 [==============================] - 0s 382us/step - loss: 0.6669 - acc: 0.6143 - val_loss: 0.6094 - val_acc: 0.7371\n",
      "Epoch 9/12\n",
      "420/420 [==============================] - 0s 369us/step - loss: 0.6669 - acc: 0.6143 - val_loss: 0.6095 - val_acc: 0.7371\n",
      "Epoch 10/12\n",
      "420/420 [==============================] - 0s 371us/step - loss: 0.6668 - acc: 0.6143 - val_loss: 0.6095 - val_acc: 0.7371\n",
      "Epoch 11/12\n",
      "420/420 [==============================] - 0s 380us/step - loss: 0.6669 - acc: 0.6143 - val_loss: 0.6098 - val_acc: 0.7371\n",
      "Epoch 12/12\n",
      "420/420 [==============================] - 0s 378us/step - loss: 0.6668 - acc: 0.6143 - val_loss: 0.6100 - val_acc: 0.7371\n",
      "232/232 [==============================] - 0s 39us/step\n",
      "Accuracy: 73.71%\n",
      "Train on 420 samples, validate on 232 samples\n",
      "Epoch 1/13\n",
      "285/420 [===================>..........] - ETA: 0s - loss: 0.6637 - acc: 0.621"
     ]
    },
    {
     "name": "stderr",
     "output_type": "stream",
     "text": [
      "C:\\Users\\Home\\Anaconda3\\lib\\site-packages\\ipykernel_launcher.py:5: UserWarning: The `nb_epoch` argument in `fit` has been renamed `epochs`.\n",
      "  \"\"\"\n"
     ]
    },
    {
     "name": "stdout",
     "output_type": "stream",
     "text": [
      "420/420 [==============================] - 0s 447us/step - loss: 0.6668 - acc: 0.6143 - val_loss: 0.6098 - val_acc: 0.7371\n",
      "Epoch 2/13\n",
      "420/420 [==============================] - 0s 463us/step - loss: 0.6668 - acc: 0.6143 - val_loss: 0.6096 - val_acc: 0.7371\n",
      "Epoch 3/13\n",
      "420/420 [==============================] - 0s 449us/step - loss: 0.6670 - acc: 0.6143 - val_loss: 0.6093 - val_acc: 0.7371\n",
      "Epoch 4/13\n",
      "420/420 [==============================] - 0s 448us/step - loss: 0.6670 - acc: 0.6143 - val_loss: 0.6097 - val_acc: 0.7371\n",
      "Epoch 5/13\n",
      "420/420 [==============================] - 0s 435us/step - loss: 0.6669 - acc: 0.6143 - val_loss: 0.6098 - val_acc: 0.7371\n",
      "Epoch 6/13\n",
      "420/420 [==============================] - 0s 475us/step - loss: 0.6668 - acc: 0.6143 - val_loss: 0.6100 - val_acc: 0.7371\n",
      "Epoch 7/13\n",
      "420/420 [==============================] - 0s 445us/step - loss: 0.6669 - acc: 0.6143 - val_loss: 0.6095 - val_acc: 0.7371\n",
      "Epoch 8/13\n",
      "420/420 [==============================] - 0s 462us/step - loss: 0.6669 - acc: 0.6143 - val_loss: 0.6097 - val_acc: 0.7371\n",
      "Epoch 9/13\n",
      "420/420 [==============================] - 0s 448us/step - loss: 0.6668 - acc: 0.6143 - val_loss: 0.6095 - val_acc: 0.7371\n",
      "Epoch 10/13\n",
      "420/420 [==============================] - 0s 440us/step - loss: 0.6671 - acc: 0.6143 - val_loss: 0.6098 - val_acc: 0.7371\n",
      "Epoch 11/13\n",
      "420/420 [==============================] - 0s 471us/step - loss: 0.6668 - acc: 0.6143 - val_loss: 0.6097 - val_acc: 0.7371\n",
      "Epoch 12/13\n",
      "420/420 [==============================] - 0s 448us/step - loss: 0.6668 - acc: 0.6143 - val_loss: 0.6097 - val_acc: 0.7371\n",
      "Epoch 13/13\n",
      "420/420 [==============================] - 0s 444us/step - loss: 0.6669 - acc: 0.6143 - val_loss: 0.6099 - val_acc: 0.7371\n",
      "232/232 [==============================] - 0s 40us/step\n",
      "Accuracy: 73.71%\n",
      "Train on 420 samples, validate on 232 samples\n",
      "Epoch 1/13\n",
      "420/420 [==============================] - 0s 392us/step - loss: 0.6668 - acc: 0.6143 - val_loss: 0.6095 - val_acc: 0.7371\n",
      "Epoch 2/13\n",
      "  6/420 [..............................] - ETA: 0s - loss: 0.6424 - acc: 0.6667"
     ]
    },
    {
     "name": "stderr",
     "output_type": "stream",
     "text": [
      "C:\\Users\\Home\\Anaconda3\\lib\\site-packages\\ipykernel_launcher.py:5: UserWarning: The `nb_epoch` argument in `fit` has been renamed `epochs`.\n",
      "  \"\"\"\n"
     ]
    },
    {
     "name": "stdout",
     "output_type": "stream",
     "text": [
      "420/420 [==============================] - 0s 380us/step - loss: 0.6669 - acc: 0.6143 - val_loss: 0.6096 - val_acc: 0.7371\n",
      "Epoch 3/13\n",
      "420/420 [==============================] - 0s 389us/step - loss: 0.6668 - acc: 0.6143 - val_loss: 0.6096 - val_acc: 0.7371\n",
      "Epoch 4/13\n",
      "420/420 [==============================] - 0s 415us/step - loss: 0.6668 - acc: 0.6143 - val_loss: 0.6098 - val_acc: 0.7371\n",
      "Epoch 5/13\n",
      "420/420 [==============================] - 0s 384us/step - loss: 0.6669 - acc: 0.6143 - val_loss: 0.6096 - val_acc: 0.7371\n",
      "Epoch 6/13\n",
      "420/420 [==============================] - 0s 375us/step - loss: 0.6668 - acc: 0.6143 - val_loss: 0.6096 - val_acc: 0.7371\n",
      "Epoch 7/13\n",
      "420/420 [==============================] - 0s 379us/step - loss: 0.6669 - acc: 0.6143 - val_loss: 0.6098 - val_acc: 0.7371\n",
      "Epoch 8/13\n",
      "420/420 [==============================] - 0s 373us/step - loss: 0.6669 - acc: 0.6143 - val_loss: 0.6097 - val_acc: 0.7371\n",
      "Epoch 9/13\n",
      "420/420 [==============================] - 0s 377us/step - loss: 0.6668 - acc: 0.6143 - val_loss: 0.6096 - val_acc: 0.7371\n",
      "Epoch 10/13\n",
      "420/420 [==============================] - 0s 386us/step - loss: 0.6669 - acc: 0.6143 - val_loss: 0.6100 - val_acc: 0.7371\n",
      "Epoch 11/13\n",
      "420/420 [==============================] - 0s 372us/step - loss: 0.6669 - acc: 0.6143 - val_loss: 0.6094 - val_acc: 0.7371\n",
      "Epoch 12/13\n",
      "420/420 [==============================] - 0s 374us/step - loss: 0.6668 - acc: 0.6143 - val_loss: 0.6094 - val_acc: 0.7371\n",
      "Epoch 13/13\n",
      "420/420 [==============================] - 0s 381us/step - loss: 0.6669 - acc: 0.6143 - val_loss: 0.6094 - val_acc: 0.7371\n",
      "232/232 [==============================] - 0s 39us/step\n",
      "Accuracy: 73.71%\n",
      "Train on 420 samples, validate on 232 samples\n",
      "Epoch 1/14\n",
      "285/420 [===================>..........] - ETA: 0s - loss: 0.6751 - acc: 0.5965"
     ]
    },
    {
     "name": "stderr",
     "output_type": "stream",
     "text": [
      "C:\\Users\\Home\\Anaconda3\\lib\\site-packages\\ipykernel_launcher.py:5: UserWarning: The `nb_epoch` argument in `fit` has been renamed `epochs`.\n",
      "  \"\"\"\n"
     ]
    },
    {
     "name": "stdout",
     "output_type": "stream",
     "text": [
      "420/420 [==============================] - 0s 449us/step - loss: 0.6669 - acc: 0.6143 - val_loss: 0.6098 - val_acc: 0.7371\n",
      "Epoch 2/14\n",
      "420/420 [==============================] - 0s 427us/step - loss: 0.6669 - acc: 0.6143 - val_loss: 0.6098 - val_acc: 0.7371\n",
      "Epoch 3/14\n",
      "420/420 [==============================] - 0s 469us/step - loss: 0.6669 - acc: 0.6143 - val_loss: 0.6095 - val_acc: 0.7371\n",
      "Epoch 4/14\n",
      "420/420 [==============================] - 0s 444us/step - loss: 0.6669 - acc: 0.6143 - val_loss: 0.6096 - val_acc: 0.7371\n",
      "Epoch 5/14\n",
      "420/420 [==============================] - 0s 457us/step - loss: 0.6668 - acc: 0.6143 - val_loss: 0.6096 - val_acc: 0.7371\n",
      "Epoch 6/14\n",
      "420/420 [==============================] - 0s 445us/step - loss: 0.6669 - acc: 0.6143 - val_loss: 0.6095 - val_acc: 0.7371\n",
      "Epoch 7/14\n",
      "420/420 [==============================] - 0s 439us/step - loss: 0.6669 - acc: 0.6143 - val_loss: 0.6099 - val_acc: 0.7371\n",
      "Epoch 8/14\n",
      "420/420 [==============================] - 0s 476us/step - loss: 0.6670 - acc: 0.6143 - val_loss: 0.6095 - val_acc: 0.7371\n",
      "Epoch 9/14\n",
      "420/420 [==============================] - 0s 468us/step - loss: 0.6669 - acc: 0.6143 - val_loss: 0.6095 - val_acc: 0.7371\n",
      "Epoch 10/14\n",
      "420/420 [==============================] - 0s 456us/step - loss: 0.6669 - acc: 0.6143 - val_loss: 0.6100 - val_acc: 0.7371\n",
      "Epoch 11/14\n",
      "420/420 [==============================] - 0s 442us/step - loss: 0.6668 - acc: 0.6143 - val_loss: 0.6098 - val_acc: 0.7371\n",
      "Epoch 12/14\n",
      "420/420 [==============================] - 0s 439us/step - loss: 0.6669 - acc: 0.6143 - val_loss: 0.6098 - val_acc: 0.7371\n",
      "Epoch 13/14\n",
      "420/420 [==============================] - 0s 476us/step - loss: 0.6669 - acc: 0.6143 - val_loss: 0.6098 - val_acc: 0.7371\n",
      "Epoch 14/14\n",
      "420/420 [==============================] - 0s 478us/step - loss: 0.6669 - acc: 0.6143 - val_loss: 0.6096 - val_acc: 0.7371\n",
      "232/232 [==============================] - 0s 52us/step\n",
      "Accuracy: 73.71%\n",
      "Train on 420 samples, validate on 232 samples\n",
      "Epoch 1/14\n",
      "420/420 [==============================] - 0s 382us/step - loss: 0.6669 - acc: 0.6143 - val_loss: 0.6093 - val_acc: 0.7371\n",
      "Epoch 2/14\n",
      "  6/420 [..............................] - ETA: 0s - loss: 0.6423 - acc: 0.6667"
     ]
    },
    {
     "name": "stderr",
     "output_type": "stream",
     "text": [
      "C:\\Users\\Home\\Anaconda3\\lib\\site-packages\\ipykernel_launcher.py:5: UserWarning: The `nb_epoch` argument in `fit` has been renamed `epochs`.\n",
      "  \"\"\"\n"
     ]
    },
    {
     "name": "stdout",
     "output_type": "stream",
     "text": [
      "420/420 [==============================] - 0s 393us/step - loss: 0.6668 - acc: 0.6143 - val_loss: 0.6097 - val_acc: 0.7371\n",
      "Epoch 3/14\n",
      "420/420 [==============================] - 0s 379us/step - loss: 0.6670 - acc: 0.6143 - val_loss: 0.6096 - val_acc: 0.7371\n",
      "Epoch 4/14\n",
      "420/420 [==============================] - 0s 378us/step - loss: 0.6668 - acc: 0.6143 - val_loss: 0.6097 - val_acc: 0.7371\n",
      "Epoch 5/14\n",
      "420/420 [==============================] - 0s 390us/step - loss: 0.6669 - acc: 0.6143 - val_loss: 0.6095 - val_acc: 0.7371\n",
      "Epoch 6/14\n",
      "420/420 [==============================] - 0s 380us/step - loss: 0.6668 - acc: 0.6143 - val_loss: 0.6096 - val_acc: 0.7371\n",
      "Epoch 7/14\n",
      "420/420 [==============================] - 0s 394us/step - loss: 0.6669 - acc: 0.6143 - val_loss: 0.6099 - val_acc: 0.7371\n",
      "Epoch 8/14\n",
      "420/420 [==============================] - 0s 384us/step - loss: 0.6668 - acc: 0.6143 - val_loss: 0.6096 - val_acc: 0.7371\n",
      "Epoch 9/14\n",
      "420/420 [==============================] - 0s 384us/step - loss: 0.6669 - acc: 0.6143 - val_loss: 0.6097 - val_acc: 0.7371\n",
      "Epoch 10/14\n",
      "420/420 [==============================] - 0s 371us/step - loss: 0.6669 - acc: 0.6143 - val_loss: 0.6099 - val_acc: 0.7371\n",
      "Epoch 11/14\n",
      "420/420 [==============================] - 0s 389us/step - loss: 0.6668 - acc: 0.6143 - val_loss: 0.6096 - val_acc: 0.7371\n",
      "Epoch 12/14\n",
      "420/420 [==============================] - 0s 380us/step - loss: 0.6670 - acc: 0.6143 - val_loss: 0.6098 - val_acc: 0.7371\n",
      "Epoch 13/14\n",
      "420/420 [==============================] - 0s 382us/step - loss: 0.6668 - acc: 0.6143 - val_loss: 0.6095 - val_acc: 0.7371\n",
      "Epoch 14/14\n",
      "420/420 [==============================] - 0s 380us/step - loss: 0.6669 - acc: 0.6143 - val_loss: 0.6098 - val_acc: 0.7371\n",
      "232/232 [==============================] - 0s 41us/step\n",
      "Accuracy: 73.71%\n",
      "Train on 420 samples, validate on 232 samples\n",
      "Epoch 1/15\n",
      "285/420 [===================>..........] - ETA: 0s - loss: 0.6622 - acc: 0.624"
     ]
    },
    {
     "name": "stderr",
     "output_type": "stream",
     "text": [
      "C:\\Users\\Home\\Anaconda3\\lib\\site-packages\\ipykernel_launcher.py:5: UserWarning: The `nb_epoch` argument in `fit` has been renamed `epochs`.\n",
      "  \"\"\"\n"
     ]
    },
    {
     "name": "stdout",
     "output_type": "stream",
     "text": [
      "420/420 [==============================] - 0s 428us/step - loss: 0.6670 - acc: 0.6143 - val_loss: 0.6095 - val_acc: 0.7371\n",
      "Epoch 2/15\n",
      "420/420 [==============================] - 0s 459us/step - loss: 0.6668 - acc: 0.6143 - val_loss: 0.6096 - val_acc: 0.7371\n",
      "Epoch 3/15\n",
      "420/420 [==============================] - 0s 470us/step - loss: 0.6669 - acc: 0.6143 - val_loss: 0.6097 - val_acc: 0.7371\n",
      "Epoch 4/15\n",
      "420/420 [==============================] - 0s 444us/step - loss: 0.6670 - acc: 0.6143 - val_loss: 0.6095 - val_acc: 0.7371\n",
      "Epoch 5/15\n",
      "420/420 [==============================] - 0s 449us/step - loss: 0.6669 - acc: 0.6143 - val_loss: 0.6096 - val_acc: 0.7371\n",
      "Epoch 6/15\n",
      "420/420 [==============================] - 0s 441us/step - loss: 0.6670 - acc: 0.6143 - val_loss: 0.6096 - val_acc: 0.7371\n",
      "Epoch 7/15\n",
      "420/420 [==============================] - 0s 441us/step - loss: 0.6669 - acc: 0.6143 - val_loss: 0.6097 - val_acc: 0.7371\n",
      "Epoch 8/15\n",
      "420/420 [==============================] - 0s 469us/step - loss: 0.6669 - acc: 0.6143 - val_loss: 0.6100 - val_acc: 0.7371\n",
      "Epoch 9/15\n",
      "420/420 [==============================] - 0s 443us/step - loss: 0.6669 - acc: 0.6143 - val_loss: 0.6095 - val_acc: 0.7371\n",
      "Epoch 10/15\n",
      "420/420 [==============================] - 0s 451us/step - loss: 0.6668 - acc: 0.6143 - val_loss: 0.6096 - val_acc: 0.7371\n",
      "Epoch 11/15\n",
      "420/420 [==============================] - 0s 441us/step - loss: 0.6668 - acc: 0.6143 - val_loss: 0.6096 - val_acc: 0.7371\n",
      "Epoch 12/15\n",
      "420/420 [==============================] - 0s 437us/step - loss: 0.6669 - acc: 0.6143 - val_loss: 0.6096 - val_acc: 0.7371\n",
      "Epoch 13/15\n",
      "420/420 [==============================] - 0s 444us/step - loss: 0.6668 - acc: 0.6143 - val_loss: 0.6100 - val_acc: 0.7371\n",
      "Epoch 14/15\n",
      "420/420 [==============================] - 0s 462us/step - loss: 0.6669 - acc: 0.6143 - val_loss: 0.6100 - val_acc: 0.7371\n",
      "Epoch 15/15\n",
      "420/420 [==============================] - 0s 443us/step - loss: 0.6668 - acc: 0.6143 - val_loss: 0.6098 - val_acc: 0.7371\n",
      "232/232 [==============================] - 0s 52us/step\n",
      "Accuracy: 73.71%\n",
      "Train on 420 samples, validate on 232 samples\n",
      "Epoch 1/15\n",
      "420/420 [==============================] - 0s 375us/step - loss: 0.6669 - acc: 0.6143 - val_loss: 0.6099 - val_acc: 0.7371\n",
      "Epoch 2/15\n",
      "  6/420 [..............................] - ETA: 0s - loss: 0.7197 - acc: 0.5000"
     ]
    },
    {
     "name": "stderr",
     "output_type": "stream",
     "text": [
      "C:\\Users\\Home\\Anaconda3\\lib\\site-packages\\ipykernel_launcher.py:5: UserWarning: The `nb_epoch` argument in `fit` has been renamed `epochs`.\n",
      "  \"\"\"\n"
     ]
    },
    {
     "name": "stdout",
     "output_type": "stream",
     "text": [
      "420/420 [==============================] - 0s 391us/step - loss: 0.6668 - acc: 0.6143 - val_loss: 0.6096 - val_acc: 0.7371\n",
      "Epoch 3/15\n",
      "420/420 [==============================] - 0s 404us/step - loss: 0.6669 - acc: 0.6143 - val_loss: 0.6097 - val_acc: 0.7371\n",
      "Epoch 4/15\n",
      "420/420 [==============================] - 0s 392us/step - loss: 0.6668 - acc: 0.6143 - val_loss: 0.6097 - val_acc: 0.7371\n",
      "Epoch 5/15\n",
      "420/420 [==============================] - 0s 378us/step - loss: 0.6669 - acc: 0.6143 - val_loss: 0.6096 - val_acc: 0.7371\n",
      "Epoch 6/15\n",
      "420/420 [==============================] - 0s 383us/step - loss: 0.6670 - acc: 0.6143 - val_loss: 0.6101 - val_acc: 0.7371\n",
      "Epoch 7/15\n",
      "420/420 [==============================] - 0s 373us/step - loss: 0.6669 - acc: 0.6143 - val_loss: 0.6096 - val_acc: 0.7371\n",
      "Epoch 8/15\n",
      "420/420 [==============================] - 0s 369us/step - loss: 0.6669 - acc: 0.6143 - val_loss: 0.6100 - val_acc: 0.7371\n",
      "Epoch 9/15\n",
      "420/420 [==============================] - 0s 378us/step - loss: 0.6669 - acc: 0.6143 - val_loss: 0.6098 - val_acc: 0.7371\n",
      "Epoch 10/15\n",
      "420/420 [==============================] - 0s 375us/step - loss: 0.6668 - acc: 0.6143 - val_loss: 0.6095 - val_acc: 0.7371\n",
      "Epoch 11/15\n",
      "420/420 [==============================] - 0s 396us/step - loss: 0.6669 - acc: 0.6143 - val_loss: 0.6090 - val_acc: 0.7371\n",
      "Epoch 12/15\n",
      "420/420 [==============================] - 0s 381us/step - loss: 0.6669 - acc: 0.6143 - val_loss: 0.6096 - val_acc: 0.7371\n",
      "Epoch 13/15\n",
      "420/420 [==============================] - 0s 422us/step - loss: 0.6668 - acc: 0.6143 - val_loss: 0.6097 - val_acc: 0.7371\n",
      "Epoch 14/15\n",
      "420/420 [==============================] - 0s 422us/step - loss: 0.6669 - acc: 0.6143 - val_loss: 0.6096 - val_acc: 0.7371\n",
      "Epoch 15/15\n",
      "420/420 [==============================] - 0s 383us/step - loss: 0.6669 - acc: 0.6143 - val_loss: 0.6097 - val_acc: 0.7371\n",
      "232/232 [==============================] - 0s 57us/step\n",
      "Accuracy: 73.71%\n",
      "Train on 420 samples, validate on 232 samples\n",
      "Epoch 1/16\n",
      "405/420 [===========================>..] - ETA: 0s - loss: 0.6712 - acc: 0.6049"
     ]
    },
    {
     "name": "stderr",
     "output_type": "stream",
     "text": [
      "C:\\Users\\Home\\Anaconda3\\lib\\site-packages\\ipykernel_launcher.py:5: UserWarning: The `nb_epoch` argument in `fit` has been renamed `epochs`.\n",
      "  \"\"\"\n"
     ]
    },
    {
     "name": "stdout",
     "output_type": "stream",
     "text": [
      "420/420 [==============================] - 0s 476us/step - loss: 0.6669 - acc: 0.6143 - val_loss: 0.6099 - val_acc: 0.7371\n",
      "Epoch 2/16\n",
      "420/420 [==============================] - 0s 462us/step - loss: 0.6669 - acc: 0.6143 - val_loss: 0.6096 - val_acc: 0.7371\n",
      "Epoch 3/16\n",
      "420/420 [==============================] - 0s 454us/step - loss: 0.6669 - acc: 0.6143 - val_loss: 0.6097 - val_acc: 0.7371\n",
      "Epoch 4/16\n",
      "420/420 [==============================] - 0s 442us/step - loss: 0.6669 - acc: 0.6143 - val_loss: 0.6097 - val_acc: 0.7371\n",
      "Epoch 5/16\n",
      "420/420 [==============================] - 0s 438us/step - loss: 0.6668 - acc: 0.6143 - val_loss: 0.6097 - val_acc: 0.7371\n",
      "Epoch 6/16\n",
      "420/420 [==============================] - 0s 468us/step - loss: 0.6669 - acc: 0.6143 - val_loss: 0.6097 - val_acc: 0.7371\n",
      "Epoch 7/16\n",
      "420/420 [==============================] - 0s 482us/step - loss: 0.6669 - acc: 0.6143 - val_loss: 0.6098 - val_acc: 0.7371\n",
      "Epoch 8/16\n",
      "420/420 [==============================] - 0s 439us/step - loss: 0.6668 - acc: 0.6143 - val_loss: 0.6096 - val_acc: 0.7371\n",
      "Epoch 9/16\n",
      "420/420 [==============================] - 0s 431us/step - loss: 0.6669 - acc: 0.6143 - val_loss: 0.6095 - val_acc: 0.7371\n",
      "Epoch 10/16\n",
      "420/420 [==============================] - 0s 466us/step - loss: 0.6668 - acc: 0.6143 - val_loss: 0.6096 - val_acc: 0.7371\n",
      "Epoch 11/16\n",
      "420/420 [==============================] - 0s 446us/step - loss: 0.6668 - acc: 0.6143 - val_loss: 0.6097 - val_acc: 0.7371\n",
      "Epoch 12/16\n",
      "420/420 [==============================] - 0s 416us/step - loss: 0.6669 - acc: 0.6143 - val_loss: 0.6100 - val_acc: 0.7371\n",
      "Epoch 13/16\n",
      "420/420 [==============================] - 0s 410us/step - loss: 0.6669 - acc: 0.6143 - val_loss: 0.6094 - val_acc: 0.7371\n",
      "Epoch 14/16\n",
      "420/420 [==============================] - 0s 525us/step - loss: 0.6669 - acc: 0.6143 - val_loss: 0.6096 - val_acc: 0.7371\n",
      "Epoch 15/16\n",
      "420/420 [==============================] - 0s 512us/step - loss: 0.6669 - acc: 0.6143 - val_loss: 0.6099 - val_acc: 0.7371\n",
      "Epoch 16/16\n",
      "420/420 [==============================] - 0s 512us/step - loss: 0.6669 - acc: 0.6143 - val_loss: 0.6096 - val_acc: 0.7371\n",
      "232/232 [==============================] - 0s 41us/step\n",
      "Accuracy: 73.71%\n",
      "Train on 420 samples, validate on 232 samples\n",
      "Epoch 1/16\n",
      "420/420 [==============================] - 0s 413us/step - loss: 0.6669 - acc: 0.6143 - val_loss: 0.6097 - val_acc: 0.7371\n",
      "Epoch 2/16\n",
      "  6/420 [..............................] - ETA: 0s - loss: 0.7973 - acc: 0.3333"
     ]
    },
    {
     "name": "stderr",
     "output_type": "stream",
     "text": [
      "C:\\Users\\Home\\Anaconda3\\lib\\site-packages\\ipykernel_launcher.py:5: UserWarning: The `nb_epoch` argument in `fit` has been renamed `epochs`.\n",
      "  \"\"\"\n"
     ]
    },
    {
     "name": "stdout",
     "output_type": "stream",
     "text": [
      "420/420 [==============================] - 0s 405us/step - loss: 0.6668 - acc: 0.6143 - val_loss: 0.6097 - val_acc: 0.7371\n",
      "Epoch 3/16\n",
      "420/420 [==============================] - 0s 380us/step - loss: 0.6668 - acc: 0.6143 - val_loss: 0.6096 - val_acc: 0.7371\n",
      "Epoch 4/16\n",
      "420/420 [==============================] - 0s 392us/step - loss: 0.6669 - acc: 0.6143 - val_loss: 0.6097 - val_acc: 0.7371\n",
      "Epoch 5/16\n",
      "420/420 [==============================] - 0s 399us/step - loss: 0.6669 - acc: 0.6143 - val_loss: 0.6098 - val_acc: 0.7371\n",
      "Epoch 6/16\n",
      "420/420 [==============================] - 0s 381us/step - loss: 0.6669 - acc: 0.6143 - val_loss: 0.6097 - val_acc: 0.7371\n",
      "Epoch 7/16\n",
      "420/420 [==============================] - 0s 381us/step - loss: 0.6669 - acc: 0.6143 - val_loss: 0.6095 - val_acc: 0.7371\n",
      "Epoch 8/16\n",
      "420/420 [==============================] - 0s 527us/step - loss: 0.6669 - acc: 0.6143 - val_loss: 0.6096 - val_acc: 0.7371\n",
      "Epoch 9/16\n",
      "420/420 [==============================] - 0s 348us/step - loss: 0.6668 - acc: 0.6143 - val_loss: 0.6097 - val_acc: 0.7371\n",
      "Epoch 10/16\n",
      "420/420 [==============================] - 0s 361us/step - loss: 0.6669 - acc: 0.6143 - val_loss: 0.6094 - val_acc: 0.7371\n",
      "Epoch 11/16\n",
      "420/420 [==============================] - 0s 360us/step - loss: 0.6669 - acc: 0.6143 - val_loss: 0.6096 - val_acc: 0.7371\n",
      "Epoch 12/16\n",
      "420/420 [==============================] - 0s 333us/step - loss: 0.6668 - acc: 0.6143 - val_loss: 0.6094 - val_acc: 0.7371\n",
      "Epoch 13/16\n",
      "420/420 [==============================] - 0s 341us/step - loss: 0.6669 - acc: 0.6143 - val_loss: 0.6097 - val_acc: 0.7371\n",
      "Epoch 14/16\n",
      "420/420 [==============================] - 0s 355us/step - loss: 0.6668 - acc: 0.6143 - val_loss: 0.6097 - val_acc: 0.7371\n",
      "Epoch 15/16\n",
      "420/420 [==============================] - 0s 340us/step - loss: 0.6668 - acc: 0.6143 - val_loss: 0.6095 - val_acc: 0.7371\n",
      "Epoch 16/16\n",
      "420/420 [==============================] - 0s 383us/step - loss: 0.6669 - acc: 0.6143 - val_loss: 0.6097 - val_acc: 0.7371\n",
      "232/232 [==============================] - 0s 64us/step\n",
      "Accuracy: 73.71%\n",
      "Train on 420 samples, validate on 232 samples\n",
      "Epoch 1/17\n",
      "300/420 [====================>.........] - ETA: 0s - loss: 0.6610 - acc: 0.626"
     ]
    },
    {
     "name": "stderr",
     "output_type": "stream",
     "text": [
      "C:\\Users\\Home\\Anaconda3\\lib\\site-packages\\ipykernel_launcher.py:5: UserWarning: The `nb_epoch` argument in `fit` has been renamed `epochs`.\n",
      "  \"\"\"\n"
     ]
    },
    {
     "name": "stdout",
     "output_type": "stream",
     "text": [
      "420/420 [==============================] - 0s 426us/step - loss: 0.6669 - acc: 0.6143 - val_loss: 0.6092 - val_acc: 0.7371\n",
      "Epoch 2/17\n",
      "420/420 [==============================] - 0s 372us/step - loss: 0.6668 - acc: 0.6143 - val_loss: 0.6096 - val_acc: 0.7371\n",
      "Epoch 3/17\n",
      "420/420 [==============================] - 0s 409us/step - loss: 0.6670 - acc: 0.6143 - val_loss: 0.6101 - val_acc: 0.7371\n",
      "Epoch 4/17\n",
      "420/420 [==============================] - 0s 428us/step - loss: 0.6669 - acc: 0.6143 - val_loss: 0.6095 - val_acc: 0.7371\n",
      "Epoch 5/17\n",
      "420/420 [==============================] - 0s 395us/step - loss: 0.6668 - acc: 0.6143 - val_loss: 0.6095 - val_acc: 0.7371\n",
      "Epoch 6/17\n",
      "420/420 [==============================] - 0s 418us/step - loss: 0.6669 - acc: 0.6143 - val_loss: 0.6095 - val_acc: 0.7371\n",
      "Epoch 7/17\n",
      "420/420 [==============================] - 0s 397us/step - loss: 0.6669 - acc: 0.6143 - val_loss: 0.6099 - val_acc: 0.7371\n",
      "Epoch 8/17\n",
      "420/420 [==============================] - 0s 421us/step - loss: 0.6669 - acc: 0.6143 - val_loss: 0.6099 - val_acc: 0.7371\n",
      "Epoch 9/17\n",
      "420/420 [==============================] - 0s 423us/step - loss: 0.6669 - acc: 0.6143 - val_loss: 0.6097 - val_acc: 0.7371\n",
      "Epoch 10/17\n",
      "420/420 [==============================] - 0s 412us/step - loss: 0.6668 - acc: 0.6143 - val_loss: 0.6095 - val_acc: 0.7371\n",
      "Epoch 11/17\n",
      "420/420 [==============================] - 0s 465us/step - loss: 0.6668 - acc: 0.6143 - val_loss: 0.6097 - val_acc: 0.7371\n",
      "Epoch 12/17\n",
      "420/420 [==============================] - ETA: 0s - loss: 0.6658 - acc: 0.616 - 0s 420us/step - loss: 0.6669 - acc: 0.6143 - val_loss: 0.6094 - val_acc: 0.7371\n",
      "Epoch 13/17\n",
      "420/420 [==============================] - 0s 397us/step - loss: 0.6669 - acc: 0.6143 - val_loss: 0.6095 - val_acc: 0.7371\n",
      "Epoch 14/17\n",
      "420/420 [==============================] - 0s 419us/step - loss: 0.6668 - acc: 0.6143 - val_loss: 0.6095 - val_acc: 0.7371\n",
      "Epoch 15/17\n",
      "420/420 [==============================] - 0s 406us/step - loss: 0.6669 - acc: 0.6143 - val_loss: 0.6097 - val_acc: 0.7371\n",
      "Epoch 16/17\n",
      "420/420 [==============================] - 0s 419us/step - loss: 0.6669 - acc: 0.6143 - val_loss: 0.6099 - val_acc: 0.7371\n",
      "Epoch 17/17\n",
      "420/420 [==============================] - 0s 661us/step - loss: 0.6669 - acc: 0.6143 - val_loss: 0.6092 - val_acc: 0.7371\n",
      "232/232 [==============================] - 0s 36us/step\n",
      "Accuracy: 73.71%\n",
      "Train on 420 samples, validate on 232 samples\n",
      "Epoch 1/17\n",
      "234/420 [===============>..............] - ETA: 0s - loss: 0.6624 - acc: 0.623"
     ]
    },
    {
     "name": "stderr",
     "output_type": "stream",
     "text": [
      "C:\\Users\\Home\\Anaconda3\\lib\\site-packages\\ipykernel_launcher.py:5: UserWarning: The `nb_epoch` argument in `fit` has been renamed `epochs`.\n",
      "  \"\"\"\n"
     ]
    },
    {
     "name": "stdout",
     "output_type": "stream",
     "text": [
      "420/420 [==============================] - 0s 440us/step - loss: 0.6669 - acc: 0.6143 - val_loss: 0.6098 - val_acc: 0.7371\n",
      "Epoch 2/17\n",
      "420/420 [==============================] - 0s 359us/step - loss: 0.6669 - acc: 0.6143 - val_loss: 0.6098 - val_acc: 0.7371\n",
      "Epoch 3/17\n",
      "420/420 [==============================] - 0s 271us/step - loss: 0.6668 - acc: 0.6143 - val_loss: 0.6097 - val_acc: 0.7371\n",
      "Epoch 4/17\n",
      "420/420 [==============================] - 0s 353us/step - loss: 0.6669 - acc: 0.6143 - val_loss: 0.6093 - val_acc: 0.7371\n",
      "Epoch 5/17\n",
      "420/420 [==============================] - 0s 340us/step - loss: 0.6669 - acc: 0.6143 - val_loss: 0.6095 - val_acc: 0.7371\n",
      "Epoch 6/17\n",
      "420/420 [==============================] - 0s 335us/step - loss: 0.6668 - acc: 0.6143 - val_loss: 0.6095 - val_acc: 0.7371\n",
      "Epoch 7/17\n",
      "420/420 [==============================] - 0s 323us/step - loss: 0.6669 - acc: 0.6143 - val_loss: 0.6097 - val_acc: 0.7371\n",
      "Epoch 8/17\n",
      "420/420 [==============================] - 0s 338us/step - loss: 0.6669 - acc: 0.6143 - val_loss: 0.6098 - val_acc: 0.7371\n",
      "Epoch 9/17\n",
      "420/420 [==============================] - 0s 327us/step - loss: 0.6668 - acc: 0.6143 - val_loss: 0.6095 - val_acc: 0.7371\n",
      "Epoch 10/17\n",
      "420/420 [==============================] - 0s 337us/step - loss: 0.6669 - acc: 0.6143 - val_loss: 0.6099 - val_acc: 0.7371\n",
      "Epoch 11/17\n",
      "420/420 [==============================] - 0s 346us/step - loss: 0.6668 - acc: 0.6143 - val_loss: 0.6097 - val_acc: 0.7371\n",
      "Epoch 12/17\n",
      "420/420 [==============================] - 0s 327us/step - loss: 0.6668 - acc: 0.6143 - val_loss: 0.6093 - val_acc: 0.7371\n",
      "Epoch 13/17\n",
      "420/420 [==============================] - 0s 331us/step - loss: 0.6669 - acc: 0.6143 - val_loss: 0.6099 - val_acc: 0.7371\n",
      "Epoch 14/17\n",
      "420/420 [==============================] - 0s 341us/step - loss: 0.6669 - acc: 0.6143 - val_loss: 0.6099 - val_acc: 0.7371\n",
      "Epoch 15/17\n",
      "420/420 [==============================] - 0s 370us/step - loss: 0.6668 - acc: 0.6143 - val_loss: 0.6097 - val_acc: 0.7371\n",
      "Epoch 16/17\n",
      "420/420 [==============================] - 0s 379us/step - loss: 0.6669 - acc: 0.6143 - val_loss: 0.6093 - val_acc: 0.7371\n",
      "Epoch 17/17\n",
      "420/420 [==============================] - 0s 340us/step - loss: 0.6668 - acc: 0.6143 - val_loss: 0.6098 - val_acc: 0.7371\n",
      "232/232 [==============================] - 0s 54us/step\n",
      "Accuracy: 73.71%\n",
      "Train on 420 samples, validate on 232 samples\n",
      "Epoch 1/18\n",
      "395/420 [===========================>..] - ETA: 0s - loss: 0.6625 - acc: 0.623 - ETA: 0s - loss: 0.6593 - acc: 0.6304"
     ]
    },
    {
     "name": "stderr",
     "output_type": "stream",
     "text": [
      "C:\\Users\\Home\\Anaconda3\\lib\\site-packages\\ipykernel_launcher.py:5: UserWarning: The `nb_epoch` argument in `fit` has been renamed `epochs`.\n",
      "  \"\"\"\n"
     ]
    },
    {
     "name": "stdout",
     "output_type": "stream",
     "text": [
      "420/420 [==============================] - 0s 485us/step - loss: 0.6669 - acc: 0.6143 - val_loss: 0.6091 - val_acc: 0.7371\n",
      "Epoch 2/18\n",
      "420/420 [==============================] - 0s 479us/step - loss: 0.6669 - acc: 0.6143 - val_loss: 0.6095 - val_acc: 0.7371\n",
      "Epoch 3/18\n",
      "420/420 [==============================] - 0s 378us/step - loss: 0.6669 - acc: 0.6143 - val_loss: 0.6098 - val_acc: 0.7371\n",
      "Epoch 4/18\n",
      "420/420 [==============================] - 0s 433us/step - loss: 0.6669 - acc: 0.6143 - val_loss: 0.6098 - val_acc: 0.7371\n",
      "Epoch 5/18\n",
      "420/420 [==============================] - 0s 435us/step - loss: 0.6670 - acc: 0.6143 - val_loss: 0.6100 - val_acc: 0.7371\n",
      "Epoch 6/18\n",
      "420/420 [==============================] - 0s 479us/step - loss: 0.6669 - acc: 0.6143 - val_loss: 0.6098 - val_acc: 0.7371\n",
      "Epoch 7/18\n",
      "420/420 [==============================] - 0s 441us/step - loss: 0.6669 - acc: 0.6143 - val_loss: 0.6094 - val_acc: 0.7371\n",
      "Epoch 8/18\n",
      "420/420 [==============================] - 0s 430us/step - loss: 0.6669 - acc: 0.6143 - val_loss: 0.6096 - val_acc: 0.7371\n",
      "Epoch 9/18\n",
      "420/420 [==============================] - 0s 418us/step - loss: 0.6670 - acc: 0.6143 - val_loss: 0.6093 - val_acc: 0.7371\n",
      "Epoch 10/18\n",
      "420/420 [==============================] - 0s 404us/step - loss: 0.6669 - acc: 0.6143 - val_loss: 0.6100 - val_acc: 0.7371\n",
      "Epoch 11/18\n",
      "420/420 [==============================] - 0s 400us/step - loss: 0.6669 - acc: 0.6143 - val_loss: 0.6095 - val_acc: 0.7371\n",
      "Epoch 12/18\n",
      "420/420 [==============================] - 0s 401us/step - loss: 0.6669 - acc: 0.6143 - val_loss: 0.6096 - val_acc: 0.7371\n",
      "Epoch 13/18\n",
      "420/420 [==============================] - ETA: 0s - loss: 0.6642 - acc: 0.620 - 0s 415us/step - loss: 0.6668 - acc: 0.6143 - val_loss: 0.6097 - val_acc: 0.7371\n",
      "Epoch 14/18\n",
      "420/420 [==============================] - 0s 409us/step - loss: 0.6668 - acc: 0.6143 - val_loss: 0.6099 - val_acc: 0.7371\n",
      "Epoch 15/18\n",
      "420/420 [==============================] - 0s 415us/step - loss: 0.6669 - acc: 0.6143 - val_loss: 0.6099 - val_acc: 0.7371\n",
      "Epoch 16/18\n",
      "420/420 [==============================] - 0s 439us/step - loss: 0.6670 - acc: 0.6143 - val_loss: 0.6095 - val_acc: 0.7371\n",
      "Epoch 17/18\n",
      "420/420 [==============================] - 0s 326us/step - loss: 0.6669 - acc: 0.6143 - val_loss: 0.6101 - val_acc: 0.7371\n",
      "Epoch 18/18\n",
      "420/420 [==============================] - ETA: 0s - loss: 0.6698 - acc: 0.607 - 0s 346us/step - loss: 0.6669 - acc: 0.6143 - val_loss: 0.6100 - val_acc: 0.7371\n",
      "232/232 [==============================] - 0s 51us/step\n",
      "Accuracy: 73.71%\n",
      "Train on 420 samples, validate on 232 samples\n",
      "Epoch 1/18\n",
      "420/420 [==============================] - 0s 328us/step - loss: 0.6669 - acc: 0.6143 - val_loss: 0.6092 - val_acc: 0.7371\n",
      "Epoch 2/18\n",
      "204/420 [=============>................] - ETA: 0s - loss: 0.6835 - acc: 0.5784"
     ]
    },
    {
     "name": "stderr",
     "output_type": "stream",
     "text": [
      "C:\\Users\\Home\\Anaconda3\\lib\\site-packages\\ipykernel_launcher.py:5: UserWarning: The `nb_epoch` argument in `fit` has been renamed `epochs`.\n",
      "  \"\"\"\n"
     ]
    },
    {
     "name": "stdout",
     "output_type": "stream",
     "text": [
      "420/420 [==============================] - 0s 378us/step - loss: 0.6669 - acc: 0.6143 - val_loss: 0.6099 - val_acc: 0.7371\n",
      "Epoch 3/18\n",
      "420/420 [==============================] - 0s 366us/step - loss: 0.6668 - acc: 0.6143 - val_loss: 0.6099 - val_acc: 0.7371\n",
      "Epoch 4/18\n",
      "420/420 [==============================] - 0s 337us/step - loss: 0.6668 - acc: 0.6143 - val_loss: 0.6098 - val_acc: 0.7371\n",
      "Epoch 5/18\n",
      "420/420 [==============================] - 0s 350us/step - loss: 0.6669 - acc: 0.6143 - val_loss: 0.6096 - val_acc: 0.7371\n",
      "Epoch 6/18\n",
      "420/420 [==============================] - 0s 357us/step - loss: 0.6669 - acc: 0.6143 - val_loss: 0.6097 - val_acc: 0.7371\n",
      "Epoch 7/18\n",
      "420/420 [==============================] - 0s 353us/step - loss: 0.6668 - acc: 0.6143 - val_loss: 0.6096 - val_acc: 0.7371\n",
      "Epoch 8/18\n",
      "420/420 [==============================] - 0s 347us/step - loss: 0.6669 - acc: 0.6143 - val_loss: 0.6097 - val_acc: 0.7371\n",
      "Epoch 9/18\n",
      "420/420 [==============================] - 0s 347us/step - loss: 0.6668 - acc: 0.6143 - val_loss: 0.6099 - val_acc: 0.7371\n",
      "Epoch 10/18\n",
      "420/420 [==============================] - 0s 353us/step - loss: 0.6668 - acc: 0.6143 - val_loss: 0.6097 - val_acc: 0.7371\n",
      "Epoch 11/18\n",
      "420/420 [==============================] - 0s 357us/step - loss: 0.6668 - acc: 0.6143 - val_loss: 0.6097 - val_acc: 0.7371\n",
      "Epoch 12/18\n",
      "420/420 [==============================] - 0s 361us/step - loss: 0.6668 - acc: 0.6143 - val_loss: 0.6096 - val_acc: 0.7371\n",
      "Epoch 13/18\n",
      "420/420 [==============================] - 0s 363us/step - loss: 0.6669 - acc: 0.6143 - val_loss: 0.6096 - val_acc: 0.7371\n",
      "Epoch 14/18\n",
      "420/420 [==============================] - 0s 339us/step - loss: 0.6668 - acc: 0.6143 - val_loss: 0.6097 - val_acc: 0.7371\n",
      "Epoch 15/18\n",
      "420/420 [==============================] - 0s 334us/step - loss: 0.6669 - acc: 0.6143 - val_loss: 0.6096 - val_acc: 0.7371\n",
      "Epoch 16/18\n",
      "420/420 [==============================] - 0s 321us/step - loss: 0.6669 - acc: 0.6143 - val_loss: 0.6099 - val_acc: 0.7371\n",
      "Epoch 17/18\n",
      "420/420 [==============================] - 0s 325us/step - loss: 0.6669 - acc: 0.6143 - val_loss: 0.6097 - val_acc: 0.7371\n",
      "Epoch 18/18\n",
      "420/420 [==============================] - 0s 336us/step - loss: 0.6669 - acc: 0.6143 - val_loss: 0.6095 - val_acc: 0.7371\n",
      "232/232 [==============================] - 0s 39us/step\n",
      "Accuracy: 73.71%\n",
      "Train on 420 samples, validate on 232 samples\n",
      "Epoch 1/19\n",
      "300/420 [====================>.........] - ETA: 0s - loss: 0.6642 - acc: 0.620"
     ]
    },
    {
     "name": "stderr",
     "output_type": "stream",
     "text": [
      "C:\\Users\\Home\\Anaconda3\\lib\\site-packages\\ipykernel_launcher.py:5: UserWarning: The `nb_epoch` argument in `fit` has been renamed `epochs`.\n",
      "  \"\"\"\n"
     ]
    },
    {
     "name": "stdout",
     "output_type": "stream",
     "text": [
      "420/420 [==============================] - 0s 435us/step - loss: 0.6668 - acc: 0.6143 - val_loss: 0.6095 - val_acc: 0.7371\n",
      "Epoch 2/19\n",
      "420/420 [==============================] - 0s 407us/step - loss: 0.6669 - acc: 0.6143 - val_loss: 0.6093 - val_acc: 0.7371\n",
      "Epoch 3/19\n",
      "420/420 [==============================] - 0s 429us/step - loss: 0.6669 - acc: 0.6143 - val_loss: 0.6100 - val_acc: 0.7371\n",
      "Epoch 4/19\n",
      "420/420 [==============================] - 0s 425us/step - loss: 0.6669 - acc: 0.6143 - val_loss: 0.6098 - val_acc: 0.7371\n",
      "Epoch 5/19\n",
      "420/420 [==============================] - 0s 412us/step - loss: 0.6669 - acc: 0.6143 - val_loss: 0.6092 - val_acc: 0.7371\n",
      "Epoch 6/19\n",
      "420/420 [==============================] - 0s 427us/step - loss: 0.6669 - acc: 0.6143 - val_loss: 0.6098 - val_acc: 0.7371\n",
      "Epoch 7/19\n",
      "420/420 [==============================] - 0s 385us/step - loss: 0.6669 - acc: 0.6143 - val_loss: 0.6092 - val_acc: 0.7371\n",
      "Epoch 8/19\n",
      "420/420 [==============================] - 0s 415us/step - loss: 0.6669 - acc: 0.6143 - val_loss: 0.6101 - val_acc: 0.7371\n",
      "Epoch 9/19\n",
      "420/420 [==============================] - 0s 405us/step - loss: 0.6671 - acc: 0.6143 - val_loss: 0.6101 - val_acc: 0.7371\n",
      "Epoch 10/19\n",
      "420/420 [==============================] - 0s 428us/step - loss: 0.6668 - acc: 0.6143 - val_loss: 0.6096 - val_acc: 0.7371\n",
      "Epoch 11/19\n",
      "420/420 [==============================] - 0s 429us/step - loss: 0.6669 - acc: 0.6143 - val_loss: 0.6099 - val_acc: 0.7371\n",
      "Epoch 12/19\n",
      "420/420 [==============================] - 0s 417us/step - loss: 0.6669 - acc: 0.6143 - val_loss: 0.6097 - val_acc: 0.7371\n",
      "Epoch 13/19\n",
      "420/420 [==============================] - 0s 414us/step - loss: 0.6669 - acc: 0.6143 - val_loss: 0.6096 - val_acc: 0.7371\n",
      "Epoch 14/19\n",
      "420/420 [==============================] - 0s 407us/step - loss: 0.6669 - acc: 0.6143 - val_loss: 0.6099 - val_acc: 0.7371\n",
      "Epoch 15/19\n",
      "420/420 [==============================] - 0s 416us/step - loss: 0.6670 - acc: 0.6143 - val_loss: 0.6094 - val_acc: 0.7371\n",
      "Epoch 16/19\n",
      "420/420 [==============================] - 0s 367us/step - loss: 0.6669 - acc: 0.6143 - val_loss: 0.6100 - val_acc: 0.7371\n",
      "Epoch 17/19\n",
      "420/420 [==============================] - 0s 398us/step - loss: 0.6668 - acc: 0.6143 - val_loss: 0.6097 - val_acc: 0.7371\n",
      "Epoch 18/19\n",
      "420/420 [==============================] - 0s 433us/step - loss: 0.6668 - acc: 0.6143 - val_loss: 0.6094 - val_acc: 0.7371\n",
      "Epoch 19/19\n",
      "420/420 [==============================] - 0s 388us/step - loss: 0.6669 - acc: 0.6143 - val_loss: 0.6097 - val_acc: 0.7371\n",
      "232/232 [==============================] - 0s 45us/step\n",
      "Accuracy: 73.71%\n",
      "Train on 420 samples, validate on 232 samples\n",
      "Epoch 1/19\n",
      "420/420 [==============================] - 0s 319us/step - loss: 0.6668 - acc: 0.6143 - val_loss: 0.6096 - val_acc: 0.7371\n",
      "Epoch 2/19\n",
      "  6/420 [..............................] - ETA: 0s - loss: 0.5647 - acc: 0.8333"
     ]
    },
    {
     "name": "stderr",
     "output_type": "stream",
     "text": [
      "C:\\Users\\Home\\Anaconda3\\lib\\site-packages\\ipykernel_launcher.py:5: UserWarning: The `nb_epoch` argument in `fit` has been renamed `epochs`.\n",
      "  \"\"\"\n"
     ]
    },
    {
     "name": "stdout",
     "output_type": "stream",
     "text": [
      "420/420 [==============================] - 0s 314us/step - loss: 0.6670 - acc: 0.6143 - val_loss: 0.6091 - val_acc: 0.7371\n",
      "Epoch 3/19\n",
      "420/420 [==============================] - 0s 329us/step - loss: 0.6668 - acc: 0.6143 - val_loss: 0.6094 - val_acc: 0.7371\n",
      "Epoch 4/19\n",
      "420/420 [==============================] - 0s 333us/step - loss: 0.6668 - acc: 0.6143 - val_loss: 0.6096 - val_acc: 0.7371\n",
      "Epoch 5/19\n",
      "420/420 [==============================] - 0s 332us/step - loss: 0.6669 - acc: 0.6143 - val_loss: 0.6099 - val_acc: 0.7371\n",
      "Epoch 6/19\n",
      "420/420 [==============================] - 0s 342us/step - loss: 0.6669 - acc: 0.6143 - val_loss: 0.6097 - val_acc: 0.7371\n",
      "Epoch 7/19\n",
      "420/420 [==============================] - 0s 341us/step - loss: 0.6668 - acc: 0.6143 - val_loss: 0.6098 - val_acc: 0.7371\n",
      "Epoch 8/19\n",
      "420/420 [==============================] - 0s 356us/step - loss: 0.6669 - acc: 0.6143 - val_loss: 0.6097 - val_acc: 0.7371\n",
      "Epoch 9/19\n",
      "420/420 [==============================] - 0s 332us/step - loss: 0.6668 - acc: 0.6143 - val_loss: 0.6096 - val_acc: 0.7371\n",
      "Epoch 10/19\n",
      "420/420 [==============================] - 0s 325us/step - loss: 0.6669 - acc: 0.6143 - val_loss: 0.6095 - val_acc: 0.7371\n",
      "Epoch 11/19\n",
      "420/420 [==============================] - 0s 327us/step - loss: 0.6668 - acc: 0.6143 - val_loss: 0.6097 - val_acc: 0.7371\n",
      "Epoch 12/19\n",
      "420/420 [==============================] - 0s 322us/step - loss: 0.6668 - acc: 0.6143 - val_loss: 0.6099 - val_acc: 0.7371\n",
      "Epoch 13/19\n",
      "420/420 [==============================] - 0s 323us/step - loss: 0.6669 - acc: 0.6143 - val_loss: 0.6091 - val_acc: 0.7371\n",
      "Epoch 14/19\n",
      "420/420 [==============================] - 0s 316us/step - loss: 0.6668 - acc: 0.6143 - val_loss: 0.6095 - val_acc: 0.7371\n",
      "Epoch 15/19\n",
      "420/420 [==============================] - 0s 327us/step - loss: 0.6668 - acc: 0.6143 - val_loss: 0.6097 - val_acc: 0.7371\n",
      "Epoch 16/19\n",
      "420/420 [==============================] - 0s 329us/step - loss: 0.6668 - acc: 0.6143 - val_loss: 0.6096 - val_acc: 0.7371\n",
      "Epoch 17/19\n",
      "420/420 [==============================] - 0s 324us/step - loss: 0.6669 - acc: 0.6143 - val_loss: 0.6098 - val_acc: 0.7371\n",
      "Epoch 18/19\n",
      "420/420 [==============================] - 0s 323us/step - loss: 0.6669 - acc: 0.6143 - val_loss: 0.6099 - val_acc: 0.7371\n",
      "Epoch 19/19\n",
      "420/420 [==============================] - 0s 297us/step - loss: 0.6669 - acc: 0.6143 - val_loss: 0.6096 - val_acc: 0.7371\n",
      "232/232 [==============================] - 0s 32us/step\n",
      "Accuracy: 73.71%\n"
     ]
    }
   ],
   "source": [
    "\n",
    "model.fit(X_train, Y_train, validation_data=(X_valid, Y_valid), nb_epoch=100, batch_size=5)\n",
    "for epoch in range (5,20):\n",
    "    for batch in range(5,7):\n",
    "        model.fit(X_train, Y_train, validation_data=(X_valid, Y_valid), nb_epoch=epoch, batch_size=batch)\n",
    "        scores = model.evaluate(X_valid, Y_valid)\n",
    "        score.append(scores)\n",
    "        print (\"Accuracy: %.2f%%\" %(scores[1]*100))"
   ]
  },
  {
   "cell_type": "code",
   "execution_count": null,
   "metadata": {},
   "outputs": [],
   "source": []
  },
  {
   "cell_type": "code",
   "execution_count": 13,
   "metadata": {},
   "outputs": [
    {
     "data": {
      "text/plain": [
       "<matplotlib.axes._subplots.AxesSubplot at 0x1ee80c111d0>"
      ]
     },
     "execution_count": 13,
     "metadata": {},
     "output_type": "execute_result"
    },
    {
     "data": {
      "image/png": "[encoded data removed]",
      "text/plain": [
       "<Figure size 576x432 with 1 Axes>"
      ]
     },
     "metadata": {
      "needs_background": "light"
     },
     "output_type": "display_data"
    }
   ],
   "source": [
    "null_vals = mydf_train_valid.isnull().sum()/len(mydf_train_valid)*100\n",
    "null_vals = pd.DataFrame(null_vals)\n",
    "null_vals.reset_index(inplace = True)\n",
    "null_vals.columns = [\"Feature\",\"Percent missing\"]\n",
    "plt.figure(figsize = (8,6))\n",
    "plt.xticks(rotation=45)\n",
    "sns.barplot(x = \"Feature\",y =\"Percent missing\",data = null_vals)"
   ]
  },
  {
   "cell_type": "code",
   "execution_count": 14,
   "metadata": {},
   "outputs": [],
   "source": [
    "import missingno"
   ]
  },
  {
   "cell_type": "code",
   "execution_count": 15,
   "metadata": {},
   "outputs": [
    {
     "data": {
      "text/plain": [
       "<matplotlib.axes._subplots.AxesSubplot at 0x1ee84f05a58>"
      ]
     },
     "execution_count": 15,
     "metadata": {},
     "output_type": "execute_result"
    },
    {
     "data": {
      "image/png": "[encoded data removed]",
      "text/plain": [
       "<Figure size 720x720 with 2 Axes>"
      ]
     },
     "metadata": {
      "needs_background": "light"
     },
     "output_type": "display_data"
    }
   ],
   "source": [
    "missingno.matrix(my_df, figsize = (10,10))"
   ]
  },
  {
   "cell_type": "code",
   "execution_count": 16,
   "metadata": {},
   "outputs": [
    {
     "name": "stdout",
     "output_type": "stream",
     "text": [
      "<class 'pandas.core.frame.DataFrame'>\n",
      "RangeIndex: 652 entries, 0 to 651\n",
      "Data columns (total 9 columns):\n",
      "Pregnancies                 652 non-null int64\n",
      "Glucose                     652 non-null int64\n",
      "BloodPressure               652 non-null int64\n",
      "SkinThickness               652 non-null int64\n",
      "Insulin                     652 non-null int64\n",
      "BMI                         652 non-null float64\n",
      "DiabetesPedigreeFunction    652 non-null float64\n",
      "Age                         652 non-null int64\n",
      "Outcome                     652 non-null int64\n",
      "dtypes: float64(2), int64(7)\n",
      "memory usage: 45.9 KB\n"
     ]
    }
   ],
   "source": [
    "mydf_train_valid.info()"
   ]
  },
  {
   "cell_type": "code",
   "execution_count": 17,
   "metadata": {},
   "outputs": [
    {
     "name": "stdout",
     "output_type": "stream",
     "text": [
      "(652, 8) (652,)\n"
     ]
    }
   ],
   "source": [
    "Y = mydf_train_valid[\"Outcome\"]\n",
    "X = mydf_train_valid.drop([\"Outcome\"],axis = 1)\n",
    "\n",
    "print(X.shape,Y.shape)"
   ]
  },
  {
   "cell_type": "code",
   "execution_count": 18,
   "metadata": {},
   "outputs": [
    {
     "data": {
      "text/plain": [
       "0    1\n",
       "1    0\n",
       "2    1\n",
       "3    0\n",
       "4    1\n",
       "Name: Outcome, dtype: int64"
      ]
     },
     "execution_count": 18,
     "metadata": {},
     "output_type": "execute_result"
    }
   ],
   "source": [
    "Y.head()"
   ]
  },
  {
   "cell_type": "code",
   "execution_count": 19,
   "metadata": {},
   "outputs": [
    {
     "name": "stdout",
     "output_type": "stream",
     "text": [
      "(456, 8) (196, 8) (456,) (196,)\n"
     ]
    }
   ],
   "source": [
    "X_train,X_valid = mydf_splitter(X,456)\n",
    "Y_train,Y_valid = mydf_splitter(Y,456)\n",
    "\n",
    "print(X_train.shape,X_valid.shape,Y_train.shape,Y_valid.shape)"
   ]
  },
  {
   "cell_type": "markdown",
   "metadata": {},
   "source": [
    "# Build the deep neural network"
   ]
  },
  {
   "cell_type": "code",
   "execution_count": 20,
   "metadata": {},
   "outputs": [
    {
     "name": "stderr",
     "output_type": "stream",
     "text": [
      "C:\\Users\\Home\\Anaconda3\\lib\\site-packages\\ipykernel_launcher.py:3: UserWarning: Update your `Dense` call to the Keras 2 API: `Dense(10, input_dim=8, activation=\"relu\", kernel_initializer=\"uniform\")`\n",
      "  This is separate from the ipykernel package so we can avoid doing imports until\n",
      "C:\\Users\\Home\\Anaconda3\\lib\\site-packages\\ipykernel_launcher.py:4: UserWarning: Update your `Dense` call to the Keras 2 API: `Dense(6, activation=\"relu\", kernel_initializer=\"uniform\")`\n",
      "  after removing the cwd from sys.path.\n",
      "C:\\Users\\Home\\Anaconda3\\lib\\site-packages\\ipykernel_launcher.py:5: UserWarning: Update your `Dense` call to the Keras 2 API: `Dense(1, activation=\"sigmoid\", kernel_initializer=\"uniform\")`\n",
      "  \"\"\"\n"
     ]
    }
   ],
   "source": [
    "\n",
    "model = Sequential()\n",
    "model.add(Dense(10, input_dim=8, init='uniform', activation='relu'))\n",
    "model.add(Dense(6, init='uniform', activation='relu'))\n",
    "model.add(Dense(1, init='uniform', activation='sigmoid'))"
   ]
  },
  {
   "cell_type": "markdown",
   "metadata": {},
   "source": [
    "# Compile the DNN"
   ]
  },
  {
   "cell_type": "code",
   "execution_count": 21,
   "metadata": {},
   "outputs": [],
   "source": [
    "\n",
    "\n",
    "model.compile(loss='binary_crossentropy', optimizer='adam', metrics=['accuracy'])"
   ]
  },
  {
   "cell_type": "code",
   "execution_count": 22,
   "metadata": {},
   "outputs": [],
   "source": [
    "score= list()\n",
    "accuracy_list=list()\n",
    "epoch=list()\n",
    "batch= list()"
   ]
  },
  {
   "cell_type": "markdown",
   "metadata": {},
   "source": [
    "\n",
    "for epoch in range (5,10):\n",
    "    model.compile(loss='binary_crossentropy', optimizer='adam', metrics=['accuracy'])\n",
    "    model.fit(X_train, Y_train, validation_data=(X_valid, Y_valid), nb_epoch=epoch)\n",
    "    accuracy = model.evaluate(X_valid, Y_valid)\n",
    "    accuracy_list.append(accuracy)\n",
    "        \n",
    "        "
   ]
  },
  {
   "cell_type": "markdown",
   "metadata": {},
   "source": [
    "# Fit the DNN with your train data and Hyperparameter Tuning"
   ]
  },
  {
   "cell_type": "code",
   "execution_count": 24,
   "metadata": {},
   "outputs": [
    {
     "name": "stdout",
     "output_type": "stream",
     "text": [
      "(652, 8) (652,)\n"
     ]
    }
   ],
   "source": [
    "Y_test = mydf_test[\"Outcome\"]\n",
    "X_test = mydf_test.drop([\"Outcome\"],axis = 1)\n",
    "\n",
    "print(X.shape,Y.shape)"
   ]
  },
  {
   "cell_type": "code",
   "execution_count": 25,
   "metadata": {},
   "outputs": [
    {
     "name": "stderr",
     "output_type": "stream",
     "text": [
      "C:\\Users\\Home\\Anaconda3\\lib\\site-packages\\ipykernel_launcher.py:2: UserWarning: The `nb_epoch` argument in `fit` has been renamed `epochs`.\n",
      "  \n"
     ]
    },
    {
     "name": "stdout",
     "output_type": "stream",
     "text": [
      "Train on 456 samples, validate on 116 samples\n",
      "Epoch 1/100\n",
      "456/456 [==============================] - 2s 4ms/step - loss: 0.6904 - acc: 0.5943 - val_loss: 0.6882 - val_acc: 0.6121\n",
      "Epoch 2/100\n",
      "456/456 [==============================] - 0s 378us/step - loss: 0.6855 - acc: 0.6118 - val_loss: 0.6836 - val_acc: 0.6121\n",
      "Epoch 3/100\n",
      "456/456 [==============================] - 0s 370us/step - loss: 0.6821 - acc: 0.6162 - val_loss: 0.6814 - val_acc: 0.6121\n",
      "Epoch 4/100\n",
      "456/456 [==============================] - 0s 356us/step - loss: 0.6785 - acc: 0.6184 - val_loss: 0.6792 - val_acc: 0.6121\n",
      "Epoch 5/100\n",
      "456/456 [==============================] - 0s 359us/step - loss: 0.6761 - acc: 0.6184 - val_loss: 0.6762 - val_acc: 0.6379\n",
      "Epoch 6/100\n",
      "456/456 [==============================] - 0s 359us/step - loss: 0.6725 - acc: 0.6338 - val_loss: 0.6766 - val_acc: 0.6293\n",
      "Epoch 7/100\n",
      "456/456 [==============================] - 0s 375us/step - loss: 0.6716 - acc: 0.6294 - val_loss: 0.6748 - val_acc: 0.6293\n",
      "Epoch 8/100\n",
      "456/456 [==============================] - 0s 346us/step - loss: 0.6676 - acc: 0.6228 - val_loss: 0.6693 - val_acc: 0.6293\n",
      "Epoch 9/100\n",
      "456/456 [==============================] - 0s 354us/step - loss: 0.6676 - acc: 0.6228 - val_loss: 0.6635 - val_acc: 0.6121\n",
      "Epoch 10/100\n",
      "456/456 [==============================] - 0s 354us/step - loss: 0.6580 - acc: 0.6623 - val_loss: 0.6542 - val_acc: 0.6552\n",
      "Epoch 11/100\n",
      "456/456 [==============================] - 0s 360us/step - loss: 0.6515 - acc: 0.6776 - val_loss: 0.6507 - val_acc: 0.6552\n",
      "Epoch 12/100\n",
      "456/456 [==============================] - 0s 354us/step - loss: 0.6446 - acc: 0.6864 - val_loss: 0.6403 - val_acc: 0.6724\n",
      "Epoch 13/100\n",
      "456/456 [==============================] - 0s 374us/step - loss: 0.6401 - acc: 0.6711 - val_loss: 0.6369 - val_acc: 0.6724\n",
      "Epoch 14/100\n",
      "456/456 [==============================] - 0s 343us/step - loss: 0.6317 - acc: 0.6864 - val_loss: 0.6482 - val_acc: 0.6379\n",
      "Epoch 15/100\n",
      "456/456 [==============================] - 0s 343us/step - loss: 0.6303 - acc: 0.6711 - val_loss: 0.6259 - val_acc: 0.7241\n",
      "Epoch 16/100\n",
      "456/456 [==============================] - 0s 350us/step - loss: 0.6258 - acc: 0.6798 - val_loss: 0.6164 - val_acc: 0.6983\n",
      "Epoch 17/100\n",
      "456/456 [==============================] - 0s 323us/step - loss: 0.6219 - acc: 0.6776 - val_loss: 0.6181 - val_acc: 0.6983\n",
      "Epoch 18/100\n",
      "456/456 [==============================] - 0s 402us/step - loss: 0.6175 - acc: 0.6908 - val_loss: 0.6107 - val_acc: 0.6724\n",
      "Epoch 19/100\n",
      "456/456 [==============================] - 0s 348us/step - loss: 0.6135 - acc: 0.7018 - val_loss: 0.6173 - val_acc: 0.7500\n",
      "Epoch 20/100\n",
      "456/456 [==============================] - 0s 365us/step - loss: 0.6101 - acc: 0.7018 - val_loss: 0.6095 - val_acc: 0.6983\n",
      "Epoch 21/100\n",
      "456/456 [==============================] - 0s 330us/step - loss: 0.6078 - acc: 0.6908 - val_loss: 0.6139 - val_acc: 0.6638\n",
      "Epoch 22/100\n",
      "456/456 [==============================] - 0s 338us/step - loss: 0.6061 - acc: 0.6974 - val_loss: 0.6106 - val_acc: 0.6638\n",
      "Epoch 23/100\n",
      "456/456 [==============================] - 0s 383us/step - loss: 0.6025 - acc: 0.7018 - val_loss: 0.6097 - val_acc: 0.6638\n",
      "Epoch 24/100\n",
      "456/456 [==============================] - 0s 363us/step - loss: 0.6004 - acc: 0.7018 - val_loss: 0.6064 - val_acc: 0.7500\n",
      "Epoch 25/100\n",
      "456/456 [==============================] - 0s 354us/step - loss: 0.6044 - acc: 0.6864 - val_loss: 0.5945 - val_acc: 0.7241\n",
      "Epoch 26/100\n",
      "456/456 [==============================] - 0s 330us/step - loss: 0.5895 - acc: 0.7193 - val_loss: 0.6120 - val_acc: 0.7155\n",
      "Epoch 27/100\n",
      "456/456 [==============================] - 0s 364us/step - loss: 0.5998 - acc: 0.7039 - val_loss: 0.5974 - val_acc: 0.6810\n",
      "Epoch 28/100\n",
      "456/456 [==============================] - 0s 353us/step - loss: 0.5983 - acc: 0.6886 - val_loss: 0.5909 - val_acc: 0.7155\n",
      "Epoch 29/100\n",
      "456/456 [==============================] - 0s 354us/step - loss: 0.5919 - acc: 0.7105 - val_loss: 0.6063 - val_acc: 0.6724\n",
      "Epoch 30/100\n",
      "456/456 [==============================] - 0s 347us/step - loss: 0.5900 - acc: 0.6996 - val_loss: 0.5914 - val_acc: 0.7155\n",
      "Epoch 31/100\n",
      "456/456 [==============================] - 0s 325us/step - loss: 0.5865 - acc: 0.7018 - val_loss: 0.5818 - val_acc: 0.7414\n",
      "Epoch 32/100\n",
      "456/456 [==============================] - 0s 365us/step - loss: 0.5865 - acc: 0.6974 - val_loss: 0.5849 - val_acc: 0.7241\n",
      "Epoch 33/100\n",
      "456/456 [==============================] - 0s 348us/step - loss: 0.5848 - acc: 0.7061 - val_loss: 0.5805 - val_acc: 0.7155\n",
      "Epoch 34/100\n",
      "456/456 [==============================] - 0s 348us/step - loss: 0.5809 - acc: 0.6974 - val_loss: 0.5808 - val_acc: 0.7241\n",
      "Epoch 35/100\n",
      "456/456 [==============================] - 0s 356us/step - loss: 0.5787 - acc: 0.7018 - val_loss: 0.5803 - val_acc: 0.7155\n",
      "Epoch 36/100\n",
      "456/456 [==============================] - 0s 347us/step - loss: 0.5820 - acc: 0.7018 - val_loss: 0.5904 - val_acc: 0.6810\n",
      "Epoch 37/100\n",
      "456/456 [==============================] - 0s 349us/step - loss: 0.5812 - acc: 0.6952 - val_loss: 0.5818 - val_acc: 0.7241\n",
      "Epoch 38/100\n",
      "456/456 [==============================] - 0s 346us/step - loss: 0.5740 - acc: 0.7083 - val_loss: 0.5822 - val_acc: 0.7069\n",
      "Epoch 39/100\n",
      "456/456 [==============================] - 0s 346us/step - loss: 0.5733 - acc: 0.7105 - val_loss: 0.5765 - val_acc: 0.7155\n",
      "Epoch 40/100\n",
      "456/456 [==============================] - 0s 335us/step - loss: 0.5697 - acc: 0.6974 - val_loss: 0.5737 - val_acc: 0.7241\n",
      "Epoch 41/100\n",
      "456/456 [==============================] - 0s 331us/step - loss: 0.5745 - acc: 0.7193 - val_loss: 0.5779 - val_acc: 0.7414\n",
      "Epoch 42/100\n",
      "456/456 [==============================] - 0s 330us/step - loss: 0.5786 - acc: 0.6952 - val_loss: 0.5745 - val_acc: 0.7414\n",
      "Epoch 43/100\n",
      "456/456 [==============================] - 0s 338us/step - loss: 0.5713 - acc: 0.7149 - val_loss: 0.5729 - val_acc: 0.7328\n",
      "Epoch 44/100\n",
      "456/456 [==============================] - 0s 324us/step - loss: 0.5691 - acc: 0.6952 - val_loss: 0.5800 - val_acc: 0.7328\n",
      "Epoch 45/100\n",
      "456/456 [==============================] - 0s 331us/step - loss: 0.5654 - acc: 0.7039 - val_loss: 0.5728 - val_acc: 0.7241\n",
      "Epoch 46/100\n",
      "456/456 [==============================] - 0s 334us/step - loss: 0.5654 - acc: 0.7105 - val_loss: 0.5697 - val_acc: 0.7241\n",
      "Epoch 47/100\n",
      "456/456 [==============================] - 0s 319us/step - loss: 0.5626 - acc: 0.7325 - val_loss: 0.5728 - val_acc: 0.7241\n",
      "Epoch 48/100\n",
      "456/456 [==============================] - 0s 307us/step - loss: 0.5655 - acc: 0.7105 - val_loss: 0.5689 - val_acc: 0.7155\n",
      "Epoch 49/100\n",
      "456/456 [==============================] - 0s 325us/step - loss: 0.5617 - acc: 0.7149 - val_loss: 0.5715 - val_acc: 0.7241\n",
      "Epoch 50/100\n",
      "456/456 [==============================] - 0s 315us/step - loss: 0.5698 - acc: 0.7061 - val_loss: 0.5657 - val_acc: 0.7500\n",
      "Epoch 51/100\n",
      "456/456 [==============================] - 0s 290us/step - loss: 0.5640 - acc: 0.7105 - val_loss: 0.5667 - val_acc: 0.7500\n",
      "Epoch 52/100\n",
      "456/456 [==============================] - 0s 331us/step - loss: 0.5591 - acc: 0.7281 - val_loss: 0.5650 - val_acc: 0.7414\n",
      "Epoch 53/100\n",
      "456/456 [==============================] - 0s 355us/step - loss: 0.5586 - acc: 0.7171 - val_loss: 0.5628 - val_acc: 0.7500\n",
      "Epoch 54/100\n",
      "456/456 [==============================] - 0s 336us/step - loss: 0.5615 - acc: 0.7193 - val_loss: 0.5793 - val_acc: 0.6983\n",
      "Epoch 55/100\n",
      "456/456 [==============================] - 0s 349us/step - loss: 0.5605 - acc: 0.7303 - val_loss: 0.5654 - val_acc: 0.7328\n",
      "Epoch 56/100\n",
      "456/456 [==============================] - 0s 357us/step - loss: 0.5626 - acc: 0.7127 - val_loss: 0.5624 - val_acc: 0.7500\n",
      "Epoch 57/100\n",
      "456/456 [==============================] - 0s 301us/step - loss: 0.5607 - acc: 0.7281 - val_loss: 0.5708 - val_acc: 0.7328\n",
      "Epoch 58/100\n",
      "456/456 [==============================] - 0s 354us/step - loss: 0.5570 - acc: 0.7281 - val_loss: 0.5609 - val_acc: 0.7414\n",
      "Epoch 59/100\n",
      "456/456 [==============================] - 0s 317us/step - loss: 0.5613 - acc: 0.7346 - val_loss: 0.5629 - val_acc: 0.7586\n",
      "Epoch 60/100\n",
      "456/456 [==============================] - 0s 357us/step - loss: 0.5619 - acc: 0.6996 - val_loss: 0.5688 - val_acc: 0.7241\n"
     ]
    },
    {
     "name": "stdout",
     "output_type": "stream",
     "text": [
      "Epoch 61/100\n",
      "456/456 [==============================] - 0s 336us/step - loss: 0.5513 - acc: 0.7171 - val_loss: 0.5629 - val_acc: 0.7414\n",
      "Epoch 62/100\n",
      "456/456 [==============================] - 0s 344us/step - loss: 0.5519 - acc: 0.7215 - val_loss: 0.5598 - val_acc: 0.7414\n",
      "Epoch 63/100\n",
      "456/456 [==============================] - 0s 352us/step - loss: 0.5584 - acc: 0.7039 - val_loss: 0.5598 - val_acc: 0.7414\n",
      "Epoch 64/100\n",
      "456/456 [==============================] - 0s 354us/step - loss: 0.5565 - acc: 0.7259 - val_loss: 0.5621 - val_acc: 0.7414\n",
      "Epoch 65/100\n",
      "456/456 [==============================] - 0s 361us/step - loss: 0.5530 - acc: 0.7281 - val_loss: 0.5739 - val_acc: 0.7241\n",
      "Epoch 66/100\n",
      "456/456 [==============================] - 0s 362us/step - loss: 0.5542 - acc: 0.7281 - val_loss: 0.5669 - val_acc: 0.7328\n",
      "Epoch 67/100\n",
      "456/456 [==============================] - 0s 346us/step - loss: 0.5568 - acc: 0.7149 - val_loss: 0.5634 - val_acc: 0.7414\n",
      "Epoch 68/100\n",
      "456/456 [==============================] - 0s 354us/step - loss: 0.5540 - acc: 0.7149 - val_loss: 0.5607 - val_acc: 0.7328\n",
      "Epoch 69/100\n",
      "456/456 [==============================] - 0s 362us/step - loss: 0.5500 - acc: 0.7149 - val_loss: 0.5858 - val_acc: 0.6810\n",
      "Epoch 70/100\n",
      "456/456 [==============================] - 0s 363us/step - loss: 0.5611 - acc: 0.7193 - val_loss: 0.5710 - val_acc: 0.7241\n",
      "Epoch 71/100\n",
      "456/456 [==============================] - 0s 379us/step - loss: 0.5499 - acc: 0.7281 - val_loss: 0.5648 - val_acc: 0.7500\n",
      "Epoch 72/100\n",
      "456/456 [==============================] - 0s 353us/step - loss: 0.5454 - acc: 0.7368 - val_loss: 0.5632 - val_acc: 0.7414\n",
      "Epoch 73/100\n",
      "456/456 [==============================] - 0s 369us/step - loss: 0.5485 - acc: 0.7368 - val_loss: 0.5701 - val_acc: 0.7155\n",
      "Epoch 74/100\n",
      "456/456 [==============================] - 0s 376us/step - loss: 0.5468 - acc: 0.7434 - val_loss: 0.5614 - val_acc: 0.7672\n",
      "Epoch 75/100\n",
      "456/456 [==============================] - 0s 386us/step - loss: 0.5428 - acc: 0.7303 - val_loss: 0.5867 - val_acc: 0.6810\n",
      "Epoch 76/100\n",
      "456/456 [==============================] - 0s 395us/step - loss: 0.5458 - acc: 0.7149 - val_loss: 0.5750 - val_acc: 0.7155\n",
      "Epoch 77/100\n",
      "456/456 [==============================] - ETA: 0s - loss: 0.5503 - acc: 0.731 - 0s 402us/step - loss: 0.5547 - acc: 0.7325 - val_loss: 0.5620 - val_acc: 0.7414\n",
      "Epoch 78/100\n",
      "456/456 [==============================] - 0s 406us/step - loss: 0.5481 - acc: 0.7325 - val_loss: 0.5554 - val_acc: 0.7586\n",
      "Epoch 79/100\n",
      "456/456 [==============================] - 0s 407us/step - loss: 0.5447 - acc: 0.7303 - val_loss: 0.5599 - val_acc: 0.7586\n",
      "Epoch 80/100\n",
      "456/456 [==============================] - 0s 406us/step - loss: 0.5510 - acc: 0.7325 - val_loss: 0.5597 - val_acc: 0.7586\n",
      "Epoch 81/100\n",
      "456/456 [==============================] - 0s 470us/step - loss: 0.5457 - acc: 0.7346 - val_loss: 0.5641 - val_acc: 0.7241\n",
      "Epoch 82/100\n",
      "456/456 [==============================] - 0s 414us/step - loss: 0.5429 - acc: 0.7325 - val_loss: 0.5576 - val_acc: 0.7500\n",
      "Epoch 83/100\n",
      "456/456 [==============================] - 0s 322us/step - loss: 0.5401 - acc: 0.7412 - val_loss: 0.5527 - val_acc: 0.7672\n",
      "Epoch 84/100\n",
      "456/456 [==============================] - 0s 336us/step - loss: 0.5388 - acc: 0.7522 - val_loss: 0.5569 - val_acc: 0.7414\n",
      "Epoch 85/100\n",
      "456/456 [==============================] - 0s 331us/step - loss: 0.5359 - acc: 0.7368 - val_loss: 0.5801 - val_acc: 0.6983\n",
      "Epoch 86/100\n",
      "456/456 [==============================] - 0s 347us/step - loss: 0.5395 - acc: 0.7434 - val_loss: 0.5774 - val_acc: 0.7155\n",
      "Epoch 87/100\n",
      "456/456 [==============================] - 0s 337us/step - loss: 0.5442 - acc: 0.7325 - val_loss: 0.5533 - val_acc: 0.7500\n",
      "Epoch 88/100\n",
      "456/456 [==============================] - 0s 322us/step - loss: 0.5361 - acc: 0.7259 - val_loss: 0.5631 - val_acc: 0.7241\n",
      "Epoch 89/100\n",
      "456/456 [==============================] - 0s 332us/step - loss: 0.5385 - acc: 0.7259 - val_loss: 0.5624 - val_acc: 0.7586\n",
      "Epoch 90/100\n",
      "456/456 [==============================] - 0s 350us/step - loss: 0.5378 - acc: 0.7522 - val_loss: 0.5530 - val_acc: 0.7672\n",
      "Epoch 91/100\n",
      "456/456 [==============================] - 0s 326us/step - loss: 0.5390 - acc: 0.7434 - val_loss: 0.5533 - val_acc: 0.7672\n",
      "Epoch 92/100\n",
      "456/456 [==============================] - 0s 328us/step - loss: 0.5425 - acc: 0.7478 - val_loss: 0.5807 - val_acc: 0.6983\n",
      "Epoch 93/100\n",
      "456/456 [==============================] - 0s 316us/step - loss: 0.5382 - acc: 0.7434 - val_loss: 0.5747 - val_acc: 0.6983\n",
      "Epoch 94/100\n",
      "456/456 [==============================] - 0s 336us/step - loss: 0.5336 - acc: 0.7544 - val_loss: 0.5524 - val_acc: 0.7500\n",
      "Epoch 95/100\n",
      "456/456 [==============================] - 0s 333us/step - loss: 0.5359 - acc: 0.7544 - val_loss: 0.5681 - val_acc: 0.7500\n",
      "Epoch 96/100\n",
      "456/456 [==============================] - 0s 315us/step - loss: 0.5333 - acc: 0.7390 - val_loss: 0.5533 - val_acc: 0.7414\n",
      "Epoch 97/100\n",
      "456/456 [==============================] - 0s 335us/step - loss: 0.5361 - acc: 0.7390 - val_loss: 0.5536 - val_acc: 0.7586\n",
      "Epoch 98/100\n",
      "456/456 [==============================] - 0s 332us/step - loss: 0.5435 - acc: 0.7259 - val_loss: 0.5610 - val_acc: 0.7241\n",
      "Epoch 99/100\n",
      "456/456 [==============================] - 0s 327us/step - loss: 0.5331 - acc: 0.7281 - val_loss: 0.5539 - val_acc: 0.7500\n",
      "Epoch 100/100\n",
      "456/456 [==============================] - 0s 340us/step - loss: 0.5354 - acc: 0.7325 - val_loss: 0.5792 - val_acc: 0.6897\n",
      "Train on 456 samples, validate on 196 samples\n",
      "Epoch 1/5\n",
      "456/456 [==============================] - 0s 350us/step - loss: 0.5378 - acc: 0.7259 - val_loss: 0.4583 - val_acc: 0.8469\n",
      "Epoch 2/5\n",
      "  5/456 [..............................] - ETA: 0s - loss: 0.4338 - acc: 0.8000"
     ]
    },
    {
     "name": "stderr",
     "output_type": "stream",
     "text": [
      "C:\\Users\\Home\\Anaconda3\\lib\\site-packages\\ipykernel_launcher.py:5: UserWarning: The `nb_epoch` argument in `fit` has been renamed `epochs`.\n",
      "  \"\"\"\n"
     ]
    },
    {
     "name": "stdout",
     "output_type": "stream",
     "text": [
      "456/456 [==============================] - 0s 301us/step - loss: 0.5269 - acc: 0.7478 - val_loss: 0.4559 - val_acc: 0.7908\n",
      "Epoch 3/5\n",
      "456/456 [==============================] - 0s 362us/step - loss: 0.5338 - acc: 0.7522 - val_loss: 0.5023 - val_acc: 0.7959\n",
      "Epoch 4/5\n",
      "456/456 [==============================] - 0s 381us/step - loss: 0.5324 - acc: 0.7346 - val_loss: 0.4981 - val_acc: 0.8061\n",
      "Epoch 5/5\n",
      "456/456 [==============================] - ETA: 0s - loss: 0.5427 - acc: 0.737 - 0s 371us/step - loss: 0.5348 - acc: 0.7500 - val_loss: 0.5214 - val_acc: 0.7755\n",
      "196/196 [==============================] - 0s 33us/step\n",
      "Accuracy: 77.55%\n",
      "Train on 456 samples, validate on 196 samples\n",
      "Epoch 1/5\n",
      "456/456 [==============================] - 0s 309us/step - loss: 0.5300 - acc: 0.7478 - val_loss: 0.4668 - val_acc: 0.8520\n",
      "Epoch 2/5\n",
      "  6/456 [..............................] - ETA: 0s - loss: 0.3775 - acc: 0.8333"
     ]
    },
    {
     "name": "stderr",
     "output_type": "stream",
     "text": [
      "C:\\Users\\Home\\Anaconda3\\lib\\site-packages\\ipykernel_launcher.py:5: UserWarning: The `nb_epoch` argument in `fit` has been renamed `epochs`.\n",
      "  \"\"\"\n"
     ]
    },
    {
     "name": "stdout",
     "output_type": "stream",
     "text": [
      "456/456 [==============================] - 0s 317us/step - loss: 0.5282 - acc: 0.7456 - val_loss: 0.4536 - val_acc: 0.8367\n",
      "Epoch 3/5\n",
      "456/456 [==============================] - 0s 327us/step - loss: 0.5267 - acc: 0.7412 - val_loss: 0.4732 - val_acc: 0.8316\n",
      "Epoch 4/5\n",
      "456/456 [==============================] - 0s 317us/step - loss: 0.5270 - acc: 0.7478 - val_loss: 0.4826 - val_acc: 0.8163\n",
      "Epoch 5/5\n",
      "456/456 [==============================] - 0s 302us/step - loss: 0.5255 - acc: 0.7412 - val_loss: 0.4795 - val_acc: 0.8214\n",
      "196/196 [==============================] - 0s 37us/step\n",
      "Accuracy: 82.14%\n",
      "Train on 456 samples, validate on 196 samples\n",
      "Epoch 1/6\n",
      "456/456 [==============================] - 0s 365us/step - loss: 0.5240 - acc: 0.7434 - val_loss: 0.4677 - val_acc: 0.8469\n",
      "Epoch 2/6\n",
      "  5/456 [..............................] - ETA: 0s - loss: 0.3495 - acc: 1.0000"
     ]
    },
    {
     "name": "stderr",
     "output_type": "stream",
     "text": [
      "C:\\Users\\Home\\Anaconda3\\lib\\site-packages\\ipykernel_launcher.py:5: UserWarning: The `nb_epoch` argument in `fit` has been renamed `epochs`.\n",
      "  \"\"\"\n"
     ]
    },
    {
     "name": "stdout",
     "output_type": "stream",
     "text": [
      "456/456 [==============================] - 0s 355us/step - loss: 0.5387 - acc: 0.7390 - val_loss: 0.4605 - val_acc: 0.8520\n",
      "Epoch 3/6\n",
      "456/456 [==============================] - 0s 363us/step - loss: 0.5312 - acc: 0.7478 - val_loss: 0.4540 - val_acc: 0.8316\n",
      "Epoch 4/6\n",
      "456/456 [==============================] - 0s 392us/step - loss: 0.5283 - acc: 0.7697 - val_loss: 0.4616 - val_acc: 0.8469\n",
      "Epoch 5/6\n",
      "456/456 [==============================] - 0s 351us/step - loss: 0.5246 - acc: 0.7522 - val_loss: 0.4514 - val_acc: 0.8418\n",
      "Epoch 6/6\n",
      "456/456 [==============================] - 0s 369us/step - loss: 0.5252 - acc: 0.7544 - val_loss: 0.4637 - val_acc: 0.8265\n",
      "196/196 [==============================] - 0s 44us/step\n",
      "Accuracy: 82.65%\n",
      "Train on 456 samples, validate on 196 samples\n",
      "Epoch 1/6\n",
      "456/456 [==============================] - 0s 314us/step - loss: 0.5200 - acc: 0.7522 - val_loss: 0.4597 - val_acc: 0.8469\n",
      "Epoch 2/6\n",
      "  6/456 [..............................] - ETA: 0s - loss: 0.2358 - acc: 1.0000"
     ]
    },
    {
     "name": "stderr",
     "output_type": "stream",
     "text": [
      "C:\\Users\\Home\\Anaconda3\\lib\\site-packages\\ipykernel_launcher.py:5: UserWarning: The `nb_epoch` argument in `fit` has been renamed `epochs`.\n",
      "  \"\"\"\n"
     ]
    },
    {
     "name": "stdout",
     "output_type": "stream",
     "text": [
      "456/456 [==============================] - 0s 313us/step - loss: 0.5271 - acc: 0.7544 - val_loss: 0.4572 - val_acc: 0.8571\n",
      "Epoch 3/6\n",
      "456/456 [==============================] - 0s 317us/step - loss: 0.5207 - acc: 0.7544 - val_loss: 0.4571 - val_acc: 0.8571\n",
      "Epoch 4/6\n",
      "456/456 [==============================] - 0s 326us/step - loss: 0.5187 - acc: 0.7500 - val_loss: 0.4733 - val_acc: 0.8418\n",
      "Epoch 5/6\n",
      "456/456 [==============================] - 0s 331us/step - loss: 0.5246 - acc: 0.7434 - val_loss: 0.4619 - val_acc: 0.8469\n",
      "Epoch 6/6\n",
      "456/456 [==============================] - 0s 313us/step - loss: 0.5209 - acc: 0.7544 - val_loss: 0.4413 - val_acc: 0.8010\n",
      "196/196 [==============================] - 0s 44us/step\n",
      "Accuracy: 80.10%\n",
      "Train on 456 samples, validate on 196 samples\n",
      "Epoch 1/7\n",
      "456/456 [==============================] - 0s 353us/step - loss: 0.5213 - acc: 0.7522 - val_loss: 0.4425 - val_acc: 0.8316\n",
      "Epoch 2/7\n",
      "  5/456 [..............................] - ETA: 0s - loss: 0.1902 - acc: 1.0000"
     ]
    },
    {
     "name": "stderr",
     "output_type": "stream",
     "text": [
      "C:\\Users\\Home\\Anaconda3\\lib\\site-packages\\ipykernel_launcher.py:5: UserWarning: The `nb_epoch` argument in `fit` has been renamed `epochs`.\n",
      "  \"\"\"\n"
     ]
    },
    {
     "name": "stdout",
     "output_type": "stream",
     "text": [
      "456/456 [==============================] - 0s 379us/step - loss: 0.5174 - acc: 0.7522 - val_loss: 0.4794 - val_acc: 0.8061\n",
      "Epoch 3/7\n",
      "456/456 [==============================] - 0s 368us/step - loss: 0.5259 - acc: 0.7478 - val_loss: 0.4433 - val_acc: 0.8061\n",
      "Epoch 4/7\n",
      "456/456 [==============================] - 0s 421us/step - loss: 0.5211 - acc: 0.7456 - val_loss: 0.4669 - val_acc: 0.8469\n",
      "Epoch 5/7\n",
      "456/456 [==============================] - 0s 386us/step - loss: 0.5180 - acc: 0.7632 - val_loss: 0.4727 - val_acc: 0.8418\n",
      "Epoch 6/7\n",
      "456/456 [==============================] - 0s 385us/step - loss: 0.5206 - acc: 0.7544 - val_loss: 0.4653 - val_acc: 0.8520\n",
      "Epoch 7/7\n",
      "456/456 [==============================] - 0s 372us/step - loss: 0.5205 - acc: 0.7654 - val_loss: 0.4405 - val_acc: 0.8520\n",
      "196/196 [==============================] - 0s 37us/step\n",
      "Accuracy: 85.20%\n",
      "Train on 456 samples, validate on 196 samples\n",
      "Epoch 1/7\n",
      "456/456 [==============================] - 0s 324us/step - loss: 0.5166 - acc: 0.7456 - val_loss: 0.4793 - val_acc: 0.8010\n",
      "Epoch 2/7\n",
      "  6/456 [..............................] - ETA: 0s - loss: 0.2405 - acc: 1.0000"
     ]
    },
    {
     "name": "stderr",
     "output_type": "stream",
     "text": [
      "C:\\Users\\Home\\Anaconda3\\lib\\site-packages\\ipykernel_launcher.py:5: UserWarning: The `nb_epoch` argument in `fit` has been renamed `epochs`.\n",
      "  \"\"\"\n"
     ]
    },
    {
     "name": "stdout",
     "output_type": "stream",
     "text": [
      "456/456 [==============================] - 0s 322us/step - loss: 0.5200 - acc: 0.7434 - val_loss: 0.5185 - val_acc: 0.7908\n",
      "Epoch 3/7\n",
      "456/456 [==============================] - 0s 296us/step - loss: 0.5172 - acc: 0.7500 - val_loss: 0.4733 - val_acc: 0.8112\n",
      "Epoch 4/7\n",
      "456/456 [==============================] - 0s 320us/step - loss: 0.5208 - acc: 0.7544 - val_loss: 0.4475 - val_acc: 0.8469\n",
      "Epoch 5/7\n",
      "456/456 [==============================] - 0s 302us/step - loss: 0.5129 - acc: 0.7478 - val_loss: 0.4363 - val_acc: 0.8214\n",
      "Epoch 6/7\n",
      "456/456 [==============================] - 0s 303us/step - loss: 0.5180 - acc: 0.7544 - val_loss: 0.4469 - val_acc: 0.8520\n",
      "Epoch 7/7\n",
      "456/456 [==============================] - 0s 301us/step - loss: 0.5225 - acc: 0.7390 - val_loss: 0.4635 - val_acc: 0.8265\n",
      "196/196 [==============================] - 0s 46us/step\n",
      "Accuracy: 82.65%\n",
      "Train on 456 samples, validate on 196 samples\n",
      "Epoch 1/8\n",
      "456/456 [==============================] - 0s 368us/step - loss: 0.5145 - acc: 0.7500 - val_loss: 0.4925 - val_acc: 0.8163\n",
      "Epoch 2/8\n",
      "  5/456 [..............................] - ETA: 0s - loss: 0.5453 - acc: 0.4000"
     ]
    },
    {
     "name": "stderr",
     "output_type": "stream",
     "text": [
      "C:\\Users\\Home\\Anaconda3\\lib\\site-packages\\ipykernel_launcher.py:5: UserWarning: The `nb_epoch` argument in `fit` has been renamed `epochs`.\n",
      "  \"\"\"\n"
     ]
    },
    {
     "name": "stdout",
     "output_type": "stream",
     "text": [
      "456/456 [==============================] - 0s 377us/step - loss: 0.5168 - acc: 0.7500 - val_loss: 0.4484 - val_acc: 0.8469\n",
      "Epoch 3/8\n",
      "456/456 [==============================] - 0s 390us/step - loss: 0.5088 - acc: 0.7478 - val_loss: 0.4496 - val_acc: 0.8418\n",
      "Epoch 4/8\n",
      "456/456 [==============================] - 0s 398us/step - loss: 0.5145 - acc: 0.7632 - val_loss: 0.4524 - val_acc: 0.8469\n",
      "Epoch 5/8\n",
      "456/456 [==============================] - 0s 364us/step - loss: 0.5229 - acc: 0.7456 - val_loss: 0.4582 - val_acc: 0.8316\n",
      "Epoch 6/8\n",
      "456/456 [==============================] - 0s 352us/step - loss: 0.5109 - acc: 0.7478 - val_loss: 0.4365 - val_acc: 0.8163\n",
      "Epoch 7/8\n",
      "456/456 [==============================] - 0s 367us/step - loss: 0.5146 - acc: 0.7522 - val_loss: 0.4569 - val_acc: 0.8418\n",
      "Epoch 8/8\n",
      "456/456 [==============================] - 0s 375us/step - loss: 0.5130 - acc: 0.7500 - val_loss: 0.4393 - val_acc: 0.8520\n",
      "196/196 [==============================] - 0s 41us/step\n",
      "Accuracy: 85.20%\n",
      "Train on 456 samples, validate on 196 samples\n",
      "Epoch 1/8\n",
      "456/456 [==============================] - 0s 312us/step - loss: 0.5124 - acc: 0.7610 - val_loss: 0.4372 - val_acc: 0.8214\n",
      "Epoch 2/8\n",
      "  6/456 [..............................] - ETA: 0s - loss: 0.5895 - acc: 0.8333"
     ]
    },
    {
     "name": "stderr",
     "output_type": "stream",
     "text": [
      "C:\\Users\\Home\\Anaconda3\\lib\\site-packages\\ipykernel_launcher.py:5: UserWarning: The `nb_epoch` argument in `fit` has been renamed `epochs`.\n",
      "  \"\"\"\n"
     ]
    },
    {
     "name": "stdout",
     "output_type": "stream",
     "text": [
      "456/456 [==============================] - 0s 332us/step - loss: 0.5123 - acc: 0.7456 - val_loss: 0.4406 - val_acc: 0.8418\n",
      "Epoch 3/8\n",
      "456/456 [==============================] - 0s 309us/step - loss: 0.5144 - acc: 0.7478 - val_loss: 0.4909 - val_acc: 0.8010\n",
      "Epoch 4/8\n",
      "456/456 [==============================] - 0s 303us/step - loss: 0.5184 - acc: 0.7390 - val_loss: 0.4428 - val_acc: 0.7959\n",
      "Epoch 5/8\n",
      "456/456 [==============================] - 0s 301us/step - loss: 0.5087 - acc: 0.7610 - val_loss: 0.4323 - val_acc: 0.8163\n",
      "Epoch 6/8\n",
      "456/456 [==============================] - 0s 317us/step - loss: 0.5116 - acc: 0.7434 - val_loss: 0.4609 - val_acc: 0.8367\n",
      "Epoch 7/8\n",
      "456/456 [==============================] - 0s 308us/step - loss: 0.5158 - acc: 0.7544 - val_loss: 0.4554 - val_acc: 0.8265\n",
      "Epoch 8/8\n",
      "456/456 [==============================] - 0s 303us/step - loss: 0.5097 - acc: 0.7500 - val_loss: 0.4982 - val_acc: 0.7959\n",
      "196/196 [==============================] - 0s 41us/step\n",
      "Accuracy: 79.59%\n",
      "Train on 456 samples, validate on 196 samples\n",
      "Epoch 1/9\n",
      "456/456 [==============================] - 0s 370us/step - loss: 0.5106 - acc: 0.7500 - val_loss: 0.5067 - val_acc: 0.7806\n",
      "Epoch 2/9\n",
      "  5/456 [..............................] - ETA: 0s - loss: 0.6851 - acc: 0.4000"
     ]
    },
    {
     "name": "stderr",
     "output_type": "stream",
     "text": [
      "C:\\Users\\Home\\Anaconda3\\lib\\site-packages\\ipykernel_launcher.py:5: UserWarning: The `nb_epoch` argument in `fit` has been renamed `epochs`.\n",
      "  \"\"\"\n"
     ]
    },
    {
     "name": "stdout",
     "output_type": "stream",
     "text": [
      "456/456 [==============================] - 0s 360us/step - loss: 0.5163 - acc: 0.7522 - val_loss: 0.4385 - val_acc: 0.8469\n",
      "Epoch 3/9\n",
      "456/456 [==============================] - 0s 375us/step - loss: 0.5152 - acc: 0.7544 - val_loss: 0.4972 - val_acc: 0.7959\n",
      "Epoch 4/9\n",
      "456/456 [==============================] - 0s 366us/step - loss: 0.5100 - acc: 0.7434 - val_loss: 0.4448 - val_acc: 0.8418\n",
      "Epoch 5/9\n",
      "456/456 [==============================] - 0s 382us/step - loss: 0.5145 - acc: 0.7368 - val_loss: 0.4493 - val_acc: 0.8316\n",
      "Epoch 6/9\n",
      "456/456 [==============================] - 0s 377us/step - loss: 0.5196 - acc: 0.7412 - val_loss: 0.4377 - val_acc: 0.8316\n",
      "Epoch 7/9\n",
      "456/456 [==============================] - 0s 387us/step - loss: 0.5128 - acc: 0.7588 - val_loss: 0.4885 - val_acc: 0.8112\n",
      "Epoch 8/9\n",
      "456/456 [==============================] - 0s 373us/step - loss: 0.5161 - acc: 0.7325 - val_loss: 0.4730 - val_acc: 0.8214\n",
      "Epoch 9/9\n",
      "456/456 [==============================] - 0s 352us/step - loss: 0.5092 - acc: 0.7478 - val_loss: 0.4781 - val_acc: 0.8061\n",
      "196/196 [==============================] - 0s 45us/step\n",
      "Accuracy: 80.61%\n",
      "Train on 456 samples, validate on 196 samples\n",
      "Epoch 1/9\n",
      "456/456 [==============================] - 0s 311us/step - loss: 0.5112 - acc: 0.7566 - val_loss: 0.4363 - val_acc: 0.8367\n",
      "Epoch 2/9\n",
      "  6/456 [..............................] - ETA: 0s - loss: 0.7768 - acc: 0.5000"
     ]
    },
    {
     "name": "stderr",
     "output_type": "stream",
     "text": [
      "C:\\Users\\Home\\Anaconda3\\lib\\site-packages\\ipykernel_launcher.py:5: UserWarning: The `nb_epoch` argument in `fit` has been renamed `epochs`.\n",
      "  \"\"\"\n"
     ]
    },
    {
     "name": "stdout",
     "output_type": "stream",
     "text": [
      "456/456 [==============================] - 0s 291us/step - loss: 0.5060 - acc: 0.7544 - val_loss: 0.4374 - val_acc: 0.8265\n",
      "Epoch 3/9\n",
      "456/456 [==============================] - 0s 311us/step - loss: 0.5129 - acc: 0.7500 - val_loss: 0.4703 - val_acc: 0.8214\n",
      "Epoch 4/9\n",
      "456/456 [==============================] - 0s 302us/step - loss: 0.5064 - acc: 0.7654 - val_loss: 0.4571 - val_acc: 0.8214\n",
      "Epoch 5/9\n",
      "456/456 [==============================] - 0s 300us/step - loss: 0.5033 - acc: 0.7566 - val_loss: 0.4242 - val_acc: 0.8163\n",
      "Epoch 6/9\n",
      "456/456 [==============================] - 0s 302us/step - loss: 0.5002 - acc: 0.7544 - val_loss: 0.4376 - val_acc: 0.8418\n",
      "Epoch 7/9\n",
      "456/456 [==============================] - 0s 304us/step - loss: 0.5059 - acc: 0.7522 - val_loss: 0.4328 - val_acc: 0.8265\n",
      "Epoch 8/9\n",
      "456/456 [==============================] - 0s 306us/step - loss: 0.5061 - acc: 0.7544 - val_loss: 0.4257 - val_acc: 0.8163\n",
      "Epoch 9/9\n",
      "456/456 [==============================] - 0s 292us/step - loss: 0.5051 - acc: 0.7368 - val_loss: 0.4739 - val_acc: 0.8163\n",
      "196/196 [==============================] - 0s 34us/step\n",
      "Accuracy: 81.63%\n",
      "Train on 456 samples, validate on 196 samples\n",
      "Epoch 1/10\n",
      "456/456 [==============================] - 0s 370us/step - loss: 0.5077 - acc: 0.7412 - val_loss: 0.4705 - val_acc: 0.8163\n",
      "Epoch 2/10\n",
      "  5/456 [..............................] - ETA: 0s - loss: 0.6634 - acc: 0.8000"
     ]
    },
    {
     "name": "stderr",
     "output_type": "stream",
     "text": [
      "C:\\Users\\Home\\Anaconda3\\lib\\site-packages\\ipykernel_launcher.py:5: UserWarning: The `nb_epoch` argument in `fit` has been renamed `epochs`.\n",
      "  \"\"\"\n"
     ]
    },
    {
     "name": "stdout",
     "output_type": "stream",
     "text": [
      "456/456 [==============================] - 0s 384us/step - loss: 0.5052 - acc: 0.7675 - val_loss: 0.4243 - val_acc: 0.8112\n",
      "Epoch 3/10\n",
      "456/456 [==============================] - 0s 366us/step - loss: 0.4974 - acc: 0.7588 - val_loss: 0.4298 - val_acc: 0.8367\n",
      "Epoch 4/10\n",
      "456/456 [==============================] - 0s 374us/step - loss: 0.5096 - acc: 0.7632 - val_loss: 0.4236 - val_acc: 0.8418\n",
      "Epoch 5/10\n",
      "456/456 [==============================] - 0s 378us/step - loss: 0.5273 - acc: 0.7412 - val_loss: 0.4396 - val_acc: 0.8214\n",
      "Epoch 6/10\n",
      "456/456 [==============================] - 0s 365us/step - loss: 0.5065 - acc: 0.7675 - val_loss: 0.4349 - val_acc: 0.8265\n",
      "Epoch 7/10\n",
      "456/456 [==============================] - 0s 382us/step - loss: 0.5166 - acc: 0.7456 - val_loss: 0.4466 - val_acc: 0.8418\n",
      "Epoch 8/10\n",
      "456/456 [==============================] - 0s 382us/step - loss: 0.5095 - acc: 0.7434 - val_loss: 0.4363 - val_acc: 0.8367\n",
      "Epoch 9/10\n",
      "456/456 [==============================] - 0s 375us/step - loss: 0.5039 - acc: 0.7522 - val_loss: 0.4704 - val_acc: 0.8265\n",
      "Epoch 10/10\n",
      "456/456 [==============================] - 0s 357us/step - loss: 0.4995 - acc: 0.7632 - val_loss: 0.4235 - val_acc: 0.8112\n",
      "196/196 [==============================] - 0s 43us/step\n",
      "Accuracy: 81.12%\n",
      "Train on 456 samples, validate on 196 samples\n",
      "Epoch 1/10\n",
      "456/456 [==============================] - 0s 312us/step - loss: 0.4893 - acc: 0.7654 - val_loss: 0.4375 - val_acc: 0.8061\n",
      "Epoch 2/10\n",
      "  6/456 [..............................] - ETA: 0s - loss: 0.5363 - acc: 0.8333"
     ]
    },
    {
     "name": "stderr",
     "output_type": "stream",
     "text": [
      "C:\\Users\\Home\\Anaconda3\\lib\\site-packages\\ipykernel_launcher.py:5: UserWarning: The `nb_epoch` argument in `fit` has been renamed `epochs`.\n",
      "  \"\"\"\n"
     ]
    },
    {
     "name": "stdout",
     "output_type": "stream",
     "text": [
      "456/456 [==============================] - 0s 296us/step - loss: 0.5093 - acc: 0.7478 - val_loss: 0.4351 - val_acc: 0.8061\n",
      "Epoch 3/10\n",
      "456/456 [==============================] - ETA: 0s - loss: 0.4901 - acc: 0.780 - 0s 307us/step - loss: 0.5021 - acc: 0.7697 - val_loss: 0.4270 - val_acc: 0.8418\n",
      "Epoch 4/10\n",
      "456/456 [==============================] - 0s 318us/step - loss: 0.4996 - acc: 0.7456 - val_loss: 0.4433 - val_acc: 0.8214\n",
      "Epoch 5/10\n",
      "456/456 [==============================] - 0s 301us/step - loss: 0.5099 - acc: 0.7390 - val_loss: 0.4189 - val_acc: 0.8061\n",
      "Epoch 6/10\n",
      "456/456 [==============================] - 0s 305us/step - loss: 0.4953 - acc: 0.7632 - val_loss: 0.4733 - val_acc: 0.8418\n",
      "Epoch 7/10\n",
      "456/456 [==============================] - 0s 315us/step - loss: 0.4966 - acc: 0.7610 - val_loss: 0.4165 - val_acc: 0.8214\n",
      "Epoch 8/10\n",
      "456/456 [==============================] - 0s 309us/step - loss: 0.4947 - acc: 0.7478 - val_loss: 0.4406 - val_acc: 0.8316\n",
      "Epoch 9/10\n",
      "456/456 [==============================] - 0s 300us/step - loss: 0.5015 - acc: 0.7544 - val_loss: 0.4287 - val_acc: 0.8214\n",
      "Epoch 10/10\n",
      "456/456 [==============================] - 0s 310us/step - loss: 0.4986 - acc: 0.7456 - val_loss: 0.5046 - val_acc: 0.8163\n",
      "196/196 [==============================] - 0s 58us/step\n",
      "Accuracy: 81.63%\n",
      "Train on 456 samples, validate on 196 samples\n",
      "Epoch 1/11\n",
      "335/456 [=====================>........] - ETA: 0s - loss: 0.4845 - acc: 0.779"
     ]
    },
    {
     "name": "stderr",
     "output_type": "stream",
     "text": [
      "C:\\Users\\Home\\Anaconda3\\lib\\site-packages\\ipykernel_launcher.py:5: UserWarning: The `nb_epoch` argument in `fit` has been renamed `epochs`.\n",
      "  \"\"\"\n"
     ]
    },
    {
     "name": "stdout",
     "output_type": "stream",
     "text": [
      "456/456 [==============================] - 0s 366us/step - loss: 0.5012 - acc: 0.7654 - val_loss: 0.4132 - val_acc: 0.8163\n",
      "Epoch 2/11\n",
      "456/456 [==============================] - 0s 419us/step - loss: 0.5007 - acc: 0.7303 - val_loss: 0.4190 - val_acc: 0.8316\n",
      "Epoch 3/11\n",
      "456/456 [==============================] - 0s 559us/step - loss: 0.5013 - acc: 0.7522 - val_loss: 0.4401 - val_acc: 0.8265\n",
      "Epoch 4/11\n",
      "456/456 [==============================] - 0s 580us/step - loss: 0.5017 - acc: 0.7566 - val_loss: 0.4254 - val_acc: 0.8265\n",
      "Epoch 5/11\n",
      "456/456 [==============================] - 0s 414us/step - loss: 0.5025 - acc: 0.7632 - val_loss: 0.4266 - val_acc: 0.8061\n",
      "Epoch 6/11\n",
      "456/456 [==============================] - 0s 420us/step - loss: 0.5051 - acc: 0.7390 - val_loss: 0.4300 - val_acc: 0.8061\n",
      "Epoch 7/11\n",
      "456/456 [==============================] - 0s 350us/step - loss: 0.5025 - acc: 0.7697 - val_loss: 0.4236 - val_acc: 0.8316\n",
      "Epoch 8/11\n",
      "456/456 [==============================] - 0s 377us/step - loss: 0.4984 - acc: 0.7610 - val_loss: 0.4287 - val_acc: 0.8214\n",
      "Epoch 9/11\n",
      "456/456 [==============================] - 0s 379us/step - loss: 0.4955 - acc: 0.7588 - val_loss: 0.4153 - val_acc: 0.8061\n",
      "Epoch 10/11\n",
      "456/456 [==============================] - 0s 371us/step - loss: 0.5017 - acc: 0.7368 - val_loss: 0.4306 - val_acc: 0.8265\n",
      "Epoch 11/11\n",
      "456/456 [==============================] - 0s 371us/step - loss: 0.4969 - acc: 0.7654 - val_loss: 0.4287 - val_acc: 0.8214\n",
      "196/196 [==============================] - 0s 32us/step\n",
      "Accuracy: 82.14%\n",
      "Train on 456 samples, validate on 196 samples\n",
      "Epoch 1/11\n",
      "456/456 [==============================] - 0s 292us/step - loss: 0.4924 - acc: 0.7610 - val_loss: 0.4239 - val_acc: 0.8112\n",
      "Epoch 2/11\n",
      "  6/456 [..............................] - ETA: 0s - loss: 0.2799 - acc: 1.0000"
     ]
    },
    {
     "name": "stderr",
     "output_type": "stream",
     "text": [
      "C:\\Users\\Home\\Anaconda3\\lib\\site-packages\\ipykernel_launcher.py:5: UserWarning: The `nb_epoch` argument in `fit` has been renamed `epochs`.\n",
      "  \"\"\"\n"
     ]
    },
    {
     "name": "stdout",
     "output_type": "stream",
     "text": [
      "456/456 [==============================] - 0s 317us/step - loss: 0.4846 - acc: 0.7741 - val_loss: 0.4201 - val_acc: 0.8163\n",
      "Epoch 3/11\n",
      "456/456 [==============================] - 0s 307us/step - loss: 0.5232 - acc: 0.7588 - val_loss: 0.4445 - val_acc: 0.8367\n",
      "Epoch 4/11\n",
      "456/456 [==============================] - ETA: 0s - loss: 0.4918 - acc: 0.757 - 0s 320us/step - loss: 0.4975 - acc: 0.7544 - val_loss: 0.4392 - val_acc: 0.8316\n",
      "Epoch 5/11\n",
      "456/456 [==============================] - ETA: 0s - loss: 0.5139 - acc: 0.746 - 0s 305us/step - loss: 0.5032 - acc: 0.7522 - val_loss: 0.4279 - val_acc: 0.8316\n",
      "Epoch 6/11\n",
      "456/456 [==============================] - 0s 314us/step - loss: 0.4914 - acc: 0.7610 - val_loss: 0.4197 - val_acc: 0.8112\n",
      "Epoch 7/11\n",
      "456/456 [==============================] - 0s 309us/step - loss: 0.4968 - acc: 0.7368 - val_loss: 0.4304 - val_acc: 0.8265\n",
      "Epoch 8/11\n",
      "456/456 [==============================] - 0s 307us/step - loss: 0.4978 - acc: 0.7610 - val_loss: 0.4172 - val_acc: 0.8265\n",
      "Epoch 9/11\n",
      "456/456 [==============================] - 0s 309us/step - loss: 0.4970 - acc: 0.7654 - val_loss: 0.4379 - val_acc: 0.8316\n",
      "Epoch 10/11\n",
      "456/456 [==============================] - 0s 306us/step - loss: 0.4839 - acc: 0.7566 - val_loss: 0.4315 - val_acc: 0.8316\n",
      "Epoch 11/11\n",
      "456/456 [==============================] - 0s 310us/step - loss: 0.4895 - acc: 0.7566 - val_loss: 0.4228 - val_acc: 0.8265\n",
      "196/196 [==============================] - 0s 53us/step\n",
      "Accuracy: 82.65%\n",
      "Train on 456 samples, validate on 196 samples\n",
      "Epoch 1/12\n",
      "335/456 [=====================>........] - ETA: 0s - loss: 0.4941 - acc: 0.764"
     ]
    },
    {
     "name": "stderr",
     "output_type": "stream",
     "text": [
      "C:\\Users\\Home\\Anaconda3\\lib\\site-packages\\ipykernel_launcher.py:5: UserWarning: The `nb_epoch` argument in `fit` has been renamed `epochs`.\n",
      "  \"\"\"\n"
     ]
    },
    {
     "name": "stdout",
     "output_type": "stream",
     "text": [
      "456/456 [==============================] - 0s 385us/step - loss: 0.4927 - acc: 0.7632 - val_loss: 0.4614 - val_acc: 0.8418\n",
      "Epoch 2/12\n",
      "456/456 [==============================] - 0s 385us/step - loss: 0.4972 - acc: 0.7654 - val_loss: 0.4602 - val_acc: 0.8214\n",
      "Epoch 3/12\n",
      "456/456 [==============================] - 0s 427us/step - loss: 0.5129 - acc: 0.7566 - val_loss: 0.4812 - val_acc: 0.8214\n",
      "Epoch 4/12\n",
      "456/456 [==============================] - 0s 436us/step - loss: 0.4947 - acc: 0.7610 - val_loss: 0.4757 - val_acc: 0.8520\n",
      "Epoch 5/12\n",
      "456/456 [==============================] - 0s 419us/step - loss: 0.4972 - acc: 0.7456 - val_loss: 0.5397 - val_acc: 0.8061\n",
      "Epoch 6/12\n",
      "456/456 [==============================] - 0s 362us/step - loss: 0.5068 - acc: 0.7456 - val_loss: 0.4512 - val_acc: 0.8265\n",
      "Epoch 7/12\n",
      "456/456 [==============================] - 0s 393us/step - loss: 0.4949 - acc: 0.7522 - val_loss: 0.4352 - val_acc: 0.8265\n",
      "Epoch 8/12\n",
      "456/456 [==============================] - 0s 473us/step - loss: 0.4956 - acc: 0.7478 - val_loss: 0.4268 - val_acc: 0.8214\n",
      "Epoch 9/12\n",
      "456/456 [==============================] - 0s 370us/step - loss: 0.4864 - acc: 0.7654 - val_loss: 0.4100 - val_acc: 0.8112\n",
      "Epoch 10/12\n",
      "456/456 [==============================] - 0s 374us/step - loss: 0.5087 - acc: 0.7368 - val_loss: 0.4152 - val_acc: 0.8112\n",
      "Epoch 11/12\n",
      "456/456 [==============================] - 0s 374us/step - loss: 0.5043 - acc: 0.7259 - val_loss: 0.4233 - val_acc: 0.8265\n",
      "Epoch 12/12\n",
      "456/456 [==============================] - 0s 379us/step - loss: 0.4824 - acc: 0.7522 - val_loss: 0.4231 - val_acc: 0.8163\n",
      "196/196 [==============================] - 0s 41us/step\n",
      "Accuracy: 81.63%\n",
      "Train on 456 samples, validate on 196 samples\n",
      "Epoch 1/12\n",
      "456/456 [==============================] - 0s 303us/step - loss: 0.5024 - acc: 0.7522 - val_loss: 0.4184 - val_acc: 0.8061\n",
      "Epoch 2/12\n",
      "  6/456 [..............................] - ETA: 0s - loss: 0.2605 - acc: 1.0000"
     ]
    },
    {
     "name": "stderr",
     "output_type": "stream",
     "text": [
      "C:\\Users\\Home\\Anaconda3\\lib\\site-packages\\ipykernel_launcher.py:5: UserWarning: The `nb_epoch` argument in `fit` has been renamed `epochs`.\n",
      "  \"\"\"\n"
     ]
    },
    {
     "name": "stdout",
     "output_type": "stream",
     "text": [
      "456/456 [==============================] - 0s 302us/step - loss: 0.4924 - acc: 0.7544 - val_loss: 0.4625 - val_acc: 0.8418\n",
      "Epoch 3/12\n",
      "456/456 [==============================] - 0s 319us/step - loss: 0.4858 - acc: 0.7654 - val_loss: 0.4211 - val_acc: 0.8163\n",
      "Epoch 4/12\n",
      "456/456 [==============================] - 0s 312us/step - loss: 0.4949 - acc: 0.7566 - val_loss: 0.4636 - val_acc: 0.8367\n",
      "Epoch 5/12\n",
      "456/456 [==============================] - 0s 298us/step - loss: 0.4853 - acc: 0.7632 - val_loss: 0.4189 - val_acc: 0.8112\n",
      "Epoch 6/12\n",
      "456/456 [==============================] - 0s 314us/step - loss: 0.4913 - acc: 0.7654 - val_loss: 0.4960 - val_acc: 0.8163\n",
      "Epoch 7/12\n",
      "456/456 [==============================] - 0s 305us/step - loss: 0.4856 - acc: 0.7434 - val_loss: 0.4280 - val_acc: 0.8061\n",
      "Epoch 8/12\n",
      "456/456 [==============================] - 0s 299us/step - loss: 0.4867 - acc: 0.7697 - val_loss: 0.4237 - val_acc: 0.8367\n",
      "Epoch 9/12\n",
      "456/456 [==============================] - 0s 310us/step - loss: 0.4867 - acc: 0.7675 - val_loss: 0.4417 - val_acc: 0.8265\n",
      "Epoch 10/12\n",
      "456/456 [==============================] - 0s 308us/step - loss: 0.4839 - acc: 0.7610 - val_loss: 0.4251 - val_acc: 0.7959\n",
      "Epoch 11/12\n",
      "456/456 [==============================] - 0s 310us/step - loss: 0.4902 - acc: 0.7632 - val_loss: 0.4265 - val_acc: 0.8112\n",
      "Epoch 12/12\n",
      "456/456 [==============================] - 0s 303us/step - loss: 0.4875 - acc: 0.7500 - val_loss: 0.4739 - val_acc: 0.8214\n",
      "196/196 [==============================] - 0s 32us/step\n",
      "Accuracy: 82.14%\n",
      "Train on 456 samples, validate on 196 samples\n",
      "Epoch 1/13\n",
      "456/456 [==============================] - 0s 371us/step - loss: 0.4886 - acc: 0.7544 - val_loss: 0.4373 - val_acc: 0.8367\n",
      "Epoch 2/13\n",
      "  5/456 [..............................] - ETA: 0s - loss: 0.5232 - acc: 0.8000"
     ]
    },
    {
     "name": "stderr",
     "output_type": "stream",
     "text": [
      "C:\\Users\\Home\\Anaconda3\\lib\\site-packages\\ipykernel_launcher.py:5: UserWarning: The `nb_epoch` argument in `fit` has been renamed `epochs`.\n",
      "  \"\"\"\n"
     ]
    },
    {
     "name": "stdout",
     "output_type": "stream",
     "text": [
      "456/456 [==============================] - 0s 377us/step - loss: 0.4878 - acc: 0.7632 - val_loss: 0.4316 - val_acc: 0.8265\n",
      "Epoch 3/13\n",
      "456/456 [==============================] - 0s 409us/step - loss: 0.4926 - acc: 0.7588 - val_loss: 0.4969 - val_acc: 0.8112\n",
      "Epoch 4/13\n",
      "456/456 [==============================] - 0s 444us/step - loss: 0.4910 - acc: 0.7544 - val_loss: 0.4307 - val_acc: 0.8265\n",
      "Epoch 5/13\n",
      "456/456 [==============================] - 0s 363us/step - loss: 0.4887 - acc: 0.7675 - val_loss: 0.4127 - val_acc: 0.8061\n",
      "Epoch 6/13\n",
      "456/456 [==============================] - 0s 369us/step - loss: 0.4944 - acc: 0.7522 - val_loss: 0.4551 - val_acc: 0.8316\n",
      "Epoch 7/13\n",
      "456/456 [==============================] - 0s 362us/step - loss: 0.4825 - acc: 0.7675 - val_loss: 0.4455 - val_acc: 0.8367\n",
      "Epoch 8/13\n",
      "456/456 [==============================] - 0s 369us/step - loss: 0.4840 - acc: 0.7500 - val_loss: 0.4233 - val_acc: 0.8061\n",
      "Epoch 9/13\n",
      "456/456 [==============================] - 0s 373us/step - loss: 0.4847 - acc: 0.7522 - val_loss: 0.4134 - val_acc: 0.8214\n",
      "Epoch 10/13\n",
      "456/456 [==============================] - 0s 379us/step - loss: 0.4843 - acc: 0.7675 - val_loss: 0.4468 - val_acc: 0.8265\n",
      "Epoch 11/13\n",
      "456/456 [==============================] - 0s 372us/step - loss: 0.4944 - acc: 0.7522 - val_loss: 0.4734 - val_acc: 0.8265\n",
      "Epoch 12/13\n",
      "456/456 [==============================] - 0s 394us/step - loss: 0.4843 - acc: 0.7478 - val_loss: 0.4431 - val_acc: 0.8367\n",
      "Epoch 13/13\n",
      "456/456 [==============================] - 0s 399us/step - loss: 0.4870 - acc: 0.7544 - val_loss: 0.4220 - val_acc: 0.8214\n",
      "196/196 [==============================] - 0s 53us/step\n",
      "Accuracy: 82.14%\n",
      "Train on 456 samples, validate on 196 samples\n",
      "Epoch 1/13\n",
      "456/456 [==============================] - 0s 290us/step - loss: 0.4926 - acc: 0.7697 - val_loss: 0.4220 - val_acc: 0.8265\n",
      "Epoch 2/13\n",
      "  6/456 [..............................] - ETA: 0s - loss: 0.3674 - acc: 0.833"
     ]
    },
    {
     "name": "stderr",
     "output_type": "stream",
     "text": [
      "C:\\Users\\Home\\Anaconda3\\lib\\site-packages\\ipykernel_launcher.py:5: UserWarning: The `nb_epoch` argument in `fit` has been renamed `epochs`.\n",
      "  \"\"\"\n"
     ]
    },
    {
     "name": "stdout",
     "output_type": "stream",
     "text": [
      "456/456 [==============================] - 0s 317us/step - loss: 0.4870 - acc: 0.7478 - val_loss: 0.4382 - val_acc: 0.8367\n",
      "Epoch 3/13\n",
      "456/456 [==============================] - 0s 321us/step - loss: 0.4812 - acc: 0.7610 - val_loss: 0.4303 - val_acc: 0.8316\n",
      "Epoch 4/13\n",
      "456/456 [==============================] - 0s 324us/step - loss: 0.4783 - acc: 0.7675 - val_loss: 0.4270 - val_acc: 0.8316\n",
      "Epoch 5/13\n",
      "456/456 [==============================] - 0s 300us/step - loss: 0.4823 - acc: 0.7632 - val_loss: 0.4450 - val_acc: 0.8367\n",
      "Epoch 6/13\n",
      "456/456 [==============================] - 0s 293us/step - loss: 0.4771 - acc: 0.7588 - val_loss: 0.4373 - val_acc: 0.8265\n",
      "Epoch 7/13\n",
      "456/456 [==============================] - 0s 317us/step - loss: 0.4866 - acc: 0.7610 - val_loss: 0.4243 - val_acc: 0.8367\n",
      "Epoch 8/13\n",
      "456/456 [==============================] - 0s 310us/step - loss: 0.4823 - acc: 0.7588 - val_loss: 0.4201 - val_acc: 0.8112\n",
      "Epoch 9/13\n",
      "456/456 [==============================] - 0s 320us/step - loss: 0.4792 - acc: 0.7719 - val_loss: 0.4245 - val_acc: 0.8316\n",
      "Epoch 10/13\n",
      "456/456 [==============================] - 0s 357us/step - loss: 0.4772 - acc: 0.7675 - val_loss: 0.4258 - val_acc: 0.8367\n",
      "Epoch 11/13\n",
      "456/456 [==============================] - 0s 367us/step - loss: 0.4883 - acc: 0.7390 - val_loss: 0.4242 - val_acc: 0.8163\n",
      "Epoch 12/13\n",
      "456/456 [==============================] - 0s 338us/step - loss: 0.4756 - acc: 0.7632 - val_loss: 0.4137 - val_acc: 0.8112\n",
      "Epoch 13/13\n",
      "456/456 [==============================] - 0s 370us/step - loss: 0.4814 - acc: 0.7610 - val_loss: 0.4349 - val_acc: 0.8316\n",
      "196/196 [==============================] - 0s 41us/step\n",
      "Accuracy: 83.16%\n",
      "Train on 456 samples, validate on 196 samples\n",
      "Epoch 1/14\n",
      "435/456 [===========================>..] - ETA: 0s - loss: 0.5027 - acc: 0.7494"
     ]
    },
    {
     "name": "stderr",
     "output_type": "stream",
     "text": [
      "C:\\Users\\Home\\Anaconda3\\lib\\site-packages\\ipykernel_launcher.py:5: UserWarning: The `nb_epoch` argument in `fit` has been renamed `epochs`.\n",
      "  \"\"\"\n"
     ]
    },
    {
     "name": "stdout",
     "output_type": "stream",
     "text": [
      "456/456 [==============================] - 0s 425us/step - loss: 0.4995 - acc: 0.7500 - val_loss: 0.4799 - val_acc: 0.8265\n",
      "Epoch 2/14\n",
      "456/456 [==============================] - 0s 429us/step - loss: 0.4938 - acc: 0.7500 - val_loss: 0.4267 - val_acc: 0.8112\n",
      "Epoch 3/14\n",
      "456/456 [==============================] - 0s 434us/step - loss: 0.4795 - acc: 0.7478 - val_loss: 0.4481 - val_acc: 0.8418\n",
      "Epoch 4/14\n",
      "456/456 [==============================] - 0s 414us/step - loss: 0.4822 - acc: 0.7522 - val_loss: 0.4610 - val_acc: 0.8418\n",
      "Epoch 5/14\n",
      "456/456 [==============================] - 0s 368us/step - loss: 0.4917 - acc: 0.7456 - val_loss: 0.4336 - val_acc: 0.8316\n",
      "Epoch 6/14\n",
      "456/456 [==============================] - 0s 379us/step - loss: 0.5007 - acc: 0.7478 - val_loss: 0.4240 - val_acc: 0.8265\n",
      "Epoch 7/14\n",
      "456/456 [==============================] - 0s 364us/step - loss: 0.4797 - acc: 0.7434 - val_loss: 0.4208 - val_acc: 0.8112\n",
      "Epoch 8/14\n",
      "456/456 [==============================] - 0s 382us/step - loss: 0.4876 - acc: 0.7522 - val_loss: 0.4199 - val_acc: 0.8010\n",
      "Epoch 9/14\n",
      "456/456 [==============================] - 0s 371us/step - loss: 0.4889 - acc: 0.7588 - val_loss: 0.4241 - val_acc: 0.8112\n",
      "Epoch 10/14\n",
      "456/456 [==============================] - 0s 371us/step - loss: 0.4838 - acc: 0.7610 - val_loss: 0.4541 - val_acc: 0.8367\n",
      "Epoch 11/14\n",
      "456/456 [==============================] - 0s 368us/step - loss: 0.4750 - acc: 0.7500 - val_loss: 0.4352 - val_acc: 0.8112\n",
      "Epoch 12/14\n",
      "456/456 [==============================] - 0s 376us/step - loss: 0.4729 - acc: 0.7654 - val_loss: 0.4117 - val_acc: 0.8214\n",
      "Epoch 13/14\n",
      "456/456 [==============================] - 0s 362us/step - loss: 0.4907 - acc: 0.7500 - val_loss: 0.4256 - val_acc: 0.8112\n",
      "Epoch 14/14\n",
      "456/456 [==============================] - 0s 377us/step - loss: 0.4761 - acc: 0.7478 - val_loss: 0.4212 - val_acc: 0.8265\n",
      "196/196 [==============================] - 0s 42us/step\n",
      "Accuracy: 82.65%\n",
      "Train on 456 samples, validate on 196 samples\n",
      "Epoch 1/14\n",
      "456/456 [==============================] - 0s 308us/step - loss: 0.4864 - acc: 0.7390 - val_loss: 0.4446 - val_acc: 0.8469\n",
      "Epoch 2/14\n",
      "  6/456 [..............................] - ETA: 0s - loss: 0.2925 - acc: 0.8333"
     ]
    },
    {
     "name": "stderr",
     "output_type": "stream",
     "text": [
      "C:\\Users\\Home\\Anaconda3\\lib\\site-packages\\ipykernel_launcher.py:5: UserWarning: The `nb_epoch` argument in `fit` has been renamed `epochs`.\n",
      "  \"\"\"\n"
     ]
    },
    {
     "name": "stdout",
     "output_type": "stream",
     "text": [
      "456/456 [==============================] - 0s 311us/step - loss: 0.4722 - acc: 0.7741 - val_loss: 0.4258 - val_acc: 0.8265\n",
      "Epoch 3/14\n",
      "456/456 [==============================] - 0s 309us/step - loss: 0.4739 - acc: 0.7566 - val_loss: 0.4410 - val_acc: 0.8520\n",
      "Epoch 4/14\n",
      "456/456 [==============================] - 0s 307us/step - loss: 0.4833 - acc: 0.7500 - val_loss: 0.4356 - val_acc: 0.8265\n",
      "Epoch 5/14\n",
      "456/456 [==============================] - 0s 310us/step - loss: 0.4787 - acc: 0.7675 - val_loss: 0.4604 - val_acc: 0.8265\n",
      "Epoch 6/14\n",
      "456/456 [==============================] - 0s 320us/step - loss: 0.4868 - acc: 0.7566 - val_loss: 0.4617 - val_acc: 0.8367\n",
      "Epoch 7/14\n",
      "456/456 [==============================] - 0s 308us/step - loss: 0.4694 - acc: 0.7719 - val_loss: 0.4196 - val_acc: 0.8214\n",
      "Epoch 8/14\n",
      "456/456 [==============================] - 0s 299us/step - loss: 0.4916 - acc: 0.7544 - val_loss: 0.5315 - val_acc: 0.8061\n",
      "Epoch 9/14\n",
      "456/456 [==============================] - 0s 303us/step - loss: 0.4742 - acc: 0.7654 - val_loss: 0.4129 - val_acc: 0.8163\n",
      "Epoch 10/14\n",
      "456/456 [==============================] - 0s 300us/step - loss: 0.4750 - acc: 0.7610 - val_loss: 0.4159 - val_acc: 0.8163\n",
      "Epoch 11/14\n",
      "456/456 [==============================] - 0s 306us/step - loss: 0.4756 - acc: 0.7500 - val_loss: 0.4360 - val_acc: 0.8316\n",
      "Epoch 12/14\n",
      "456/456 [==============================] - 0s 295us/step - loss: 0.4722 - acc: 0.7654 - val_loss: 0.4228 - val_acc: 0.8265\n",
      "Epoch 13/14\n",
      "456/456 [==============================] - 0s 306us/step - loss: 0.4717 - acc: 0.7675 - val_loss: 0.4299 - val_acc: 0.8214\n",
      "Epoch 14/14\n",
      "456/456 [==============================] - 0s 334us/step - loss: 0.4733 - acc: 0.7544 - val_loss: 0.4505 - val_acc: 0.8214\n",
      "196/196 [==============================] - 0s 42us/step\n",
      "Accuracy: 82.14%\n",
      "Train on 456 samples, validate on 196 samples\n",
      "Epoch 1/15\n",
      "455/456 [============================>.] - ETA: 0s - loss: 0.4771 - acc: 0.784"
     ]
    },
    {
     "name": "stderr",
     "output_type": "stream",
     "text": [
      "C:\\Users\\Home\\Anaconda3\\lib\\site-packages\\ipykernel_launcher.py:5: UserWarning: The `nb_epoch` argument in `fit` has been renamed `epochs`.\n",
      "  \"\"\"\n"
     ]
    },
    {
     "name": "stdout",
     "output_type": "stream",
     "text": [
      "456/456 [==============================] - 0s 397us/step - loss: 0.4762 - acc: 0.7851 - val_loss: 0.4228 - val_acc: 0.8112\n",
      "Epoch 2/15\n",
      "456/456 [==============================] - 0s 410us/step - loss: 0.4745 - acc: 0.7632 - val_loss: 0.4236 - val_acc: 0.8112\n",
      "Epoch 3/15\n",
      "456/456 [==============================] - 0s 359us/step - loss: 0.4885 - acc: 0.7522 - val_loss: 0.4152 - val_acc: 0.8112\n",
      "Epoch 4/15\n",
      "456/456 [==============================] - 0s 378us/step - loss: 0.4796 - acc: 0.7632 - val_loss: 0.4273 - val_acc: 0.8265\n",
      "Epoch 5/15\n",
      "456/456 [==============================] - 0s 375us/step - loss: 0.4817 - acc: 0.7588 - val_loss: 0.4352 - val_acc: 0.8265\n",
      "Epoch 6/15\n",
      "456/456 [==============================] - 0s 374us/step - loss: 0.4628 - acc: 0.7697 - val_loss: 0.4991 - val_acc: 0.8214\n",
      "Epoch 7/15\n",
      "456/456 [==============================] - 0s 349us/step - loss: 0.5000 - acc: 0.7478 - val_loss: 0.4223 - val_acc: 0.8214\n",
      "Epoch 8/15\n",
      "456/456 [==============================] - 0s 365us/step - loss: 0.4680 - acc: 0.7785 - val_loss: 0.4168 - val_acc: 0.8163\n",
      "Epoch 9/15\n",
      "456/456 [==============================] - 0s 364us/step - loss: 0.4778 - acc: 0.7632 - val_loss: 0.4569 - val_acc: 0.8214\n",
      "Epoch 10/15\n",
      "456/456 [==============================] - 0s 362us/step - loss: 0.4706 - acc: 0.7522 - val_loss: 0.4334 - val_acc: 0.8163\n",
      "Epoch 11/15\n",
      "456/456 [==============================] - 0s 361us/step - loss: 0.4699 - acc: 0.7719 - val_loss: 0.4215 - val_acc: 0.8265\n",
      "Epoch 12/15\n",
      "456/456 [==============================] - 0s 387us/step - loss: 0.4727 - acc: 0.7829 - val_loss: 0.4145 - val_acc: 0.8214\n",
      "Epoch 13/15\n",
      "456/456 [==============================] - 0s 354us/step - loss: 0.4661 - acc: 0.7719 - val_loss: 0.5140 - val_acc: 0.7959\n",
      "Epoch 14/15\n",
      "456/456 [==============================] - 0s 355us/step - loss: 0.4770 - acc: 0.7632 - val_loss: 0.4286 - val_acc: 0.8367\n",
      "Epoch 15/15\n",
      "456/456 [==============================] - 0s 369us/step - loss: 0.4755 - acc: 0.7566 - val_loss: 0.4555 - val_acc: 0.8418\n",
      "196/196 [==============================] - 0s 61us/step\n",
      "Accuracy: 84.18%\n",
      "Train on 456 samples, validate on 196 samples\n",
      "Epoch 1/15\n",
      "456/456 [==============================] - 0s 301us/step - loss: 0.4733 - acc: 0.7544 - val_loss: 0.4395 - val_acc: 0.8316\n",
      "Epoch 2/15\n",
      "  6/456 [..............................] - ETA: 0s - loss: 0.3234 - acc: 0.8333"
     ]
    },
    {
     "name": "stderr",
     "output_type": "stream",
     "text": [
      "C:\\Users\\Home\\Anaconda3\\lib\\site-packages\\ipykernel_launcher.py:5: UserWarning: The `nb_epoch` argument in `fit` has been renamed `epochs`.\n",
      "  \"\"\"\n"
     ]
    },
    {
     "name": "stdout",
     "output_type": "stream",
     "text": [
      "456/456 [==============================] - 0s 314us/step - loss: 0.4664 - acc: 0.7785 - val_loss: 0.4204 - val_acc: 0.8265\n",
      "Epoch 3/15\n",
      "456/456 [==============================] - 0s 315us/step - loss: 0.4666 - acc: 0.7741 - val_loss: 0.4316 - val_acc: 0.8367\n",
      "Epoch 4/15\n",
      "456/456 [==============================] - 0s 299us/step - loss: 0.4823 - acc: 0.7632 - val_loss: 0.4645 - val_acc: 0.8214\n",
      "Epoch 5/15\n",
      "456/456 [==============================] - 0s 347us/step - loss: 0.4721 - acc: 0.7566 - val_loss: 0.4767 - val_acc: 0.8214\n",
      "Epoch 6/15\n",
      "456/456 [==============================] - 0s 309us/step - loss: 0.4664 - acc: 0.7785 - val_loss: 0.4275 - val_acc: 0.8265\n",
      "Epoch 7/15\n",
      "456/456 [==============================] - 0s 315us/step - loss: 0.4689 - acc: 0.7566 - val_loss: 0.4576 - val_acc: 0.8316\n",
      "Epoch 8/15\n",
      "456/456 [==============================] - 0s 321us/step - loss: 0.4735 - acc: 0.7610 - val_loss: 0.4206 - val_acc: 0.8163\n",
      "Epoch 9/15\n",
      "456/456 [==============================] - 0s 322us/step - loss: 0.4678 - acc: 0.7851 - val_loss: 0.4926 - val_acc: 0.8367\n",
      "Epoch 10/15\n",
      "456/456 [==============================] - 0s 317us/step - loss: 0.4652 - acc: 0.7741 - val_loss: 0.4497 - val_acc: 0.8367\n",
      "Epoch 11/15\n",
      "456/456 [==============================] - 0s 302us/step - loss: 0.4711 - acc: 0.7719 - val_loss: 0.4525 - val_acc: 0.8265\n",
      "Epoch 12/15\n",
      "456/456 [==============================] - 0s 310us/step - loss: 0.4641 - acc: 0.7741 - val_loss: 0.5092 - val_acc: 0.7959\n",
      "Epoch 13/15\n",
      "456/456 [==============================] - 0s 309us/step - loss: 0.4968 - acc: 0.7478 - val_loss: 0.4370 - val_acc: 0.8367\n",
      "Epoch 14/15\n",
      "456/456 [==============================] - 0s 303us/step - loss: 0.4651 - acc: 0.7763 - val_loss: 0.4204 - val_acc: 0.8112\n",
      "Epoch 15/15\n",
      "456/456 [==============================] - 0s 295us/step - loss: 0.4628 - acc: 0.7544 - val_loss: 0.4231 - val_acc: 0.8265\n",
      "196/196 [==============================] - 0s 36us/step\n",
      "Accuracy: 82.65%\n",
      "Train on 456 samples, validate on 196 samples\n",
      "Epoch 1/16\n",
      "456/456 [==============================] - 0s 360us/step - loss: 0.4837 - acc: 0.7632 - val_loss: 0.4185 - val_acc: 0.8214\n",
      "Epoch 2/16\n",
      "  5/456 [..............................] - ETA: 0s - loss: 0.6524 - acc: 0.6000"
     ]
    },
    {
     "name": "stderr",
     "output_type": "stream",
     "text": [
      "C:\\Users\\Home\\Anaconda3\\lib\\site-packages\\ipykernel_launcher.py:5: UserWarning: The `nb_epoch` argument in `fit` has been renamed `epochs`.\n",
      "  \"\"\"\n"
     ]
    },
    {
     "name": "stdout",
     "output_type": "stream",
     "text": [
      "456/456 [==============================] - 0s 365us/step - loss: 0.4908 - acc: 0.7412 - val_loss: 0.4144 - val_acc: 0.7959\n",
      "Epoch 3/16\n",
      "456/456 [==============================] - 0s 372us/step - loss: 0.4808 - acc: 0.7632 - val_loss: 0.4706 - val_acc: 0.8367\n",
      "Epoch 4/16\n",
      "456/456 [==============================] - 0s 360us/step - loss: 0.4714 - acc: 0.7654 - val_loss: 0.4136 - val_acc: 0.8112\n",
      "Epoch 5/16\n",
      "456/456 [==============================] - 0s 361us/step - loss: 0.4717 - acc: 0.7588 - val_loss: 0.4152 - val_acc: 0.8214\n",
      "Epoch 6/16\n",
      "456/456 [==============================] - 0s 351us/step - loss: 0.4727 - acc: 0.7675 - val_loss: 0.4327 - val_acc: 0.8316\n",
      "Epoch 7/16\n",
      "456/456 [==============================] - 0s 361us/step - loss: 0.4826 - acc: 0.7763 - val_loss: 0.4243 - val_acc: 0.8112\n",
      "Epoch 8/16\n",
      "456/456 [==============================] - 0s 367us/step - loss: 0.4717 - acc: 0.7807 - val_loss: 0.4229 - val_acc: 0.8163\n",
      "Epoch 9/16\n",
      "456/456 [==============================] - 0s 365us/step - loss: 0.4834 - acc: 0.7588 - val_loss: 0.4672 - val_acc: 0.8265\n",
      "Epoch 10/16\n",
      "456/456 [==============================] - 0s 355us/step - loss: 0.4667 - acc: 0.7566 - val_loss: 0.4116 - val_acc: 0.8112\n",
      "Epoch 11/16\n",
      "456/456 [==============================] - 0s 369us/step - loss: 0.4688 - acc: 0.7566 - val_loss: 0.4203 - val_acc: 0.8265\n",
      "Epoch 12/16\n",
      "456/456 [==============================] - 0s 374us/step - loss: 0.4687 - acc: 0.7610 - val_loss: 0.4222 - val_acc: 0.8214\n",
      "Epoch 13/16\n",
      "456/456 [==============================] - 0s 349us/step - loss: 0.4759 - acc: 0.7544 - val_loss: 0.4721 - val_acc: 0.8265\n",
      "Epoch 14/16\n",
      "456/456 [==============================] - 0s 364us/step - loss: 0.4646 - acc: 0.7785 - val_loss: 0.4156 - val_acc: 0.8112\n",
      "Epoch 15/16\n",
      "456/456 [==============================] - 0s 352us/step - loss: 0.4675 - acc: 0.7719 - val_loss: 0.4231 - val_acc: 0.8265\n",
      "Epoch 16/16\n",
      "456/456 [==============================] - 0s 365us/step - loss: 0.4636 - acc: 0.7654 - val_loss: 0.4403 - val_acc: 0.8367\n",
      "196/196 [==============================] - 0s 32us/step\n",
      "Accuracy: 83.67%\n",
      "Train on 456 samples, validate on 196 samples\n",
      "Epoch 1/16\n",
      "456/456 [==============================] - 0s 285us/step - loss: 0.4625 - acc: 0.7807 - val_loss: 0.4269 - val_acc: 0.8112\n",
      "Epoch 2/16\n",
      "  6/456 [..............................] - ETA: 0s - loss: 0.4986 - acc: 0.8333"
     ]
    },
    {
     "name": "stderr",
     "output_type": "stream",
     "text": [
      "C:\\Users\\Home\\Anaconda3\\lib\\site-packages\\ipykernel_launcher.py:5: UserWarning: The `nb_epoch` argument in `fit` has been renamed `epochs`.\n",
      "  \"\"\"\n"
     ]
    },
    {
     "name": "stdout",
     "output_type": "stream",
     "text": [
      "456/456 [==============================] - 0s 293us/step - loss: 0.4682 - acc: 0.7697 - val_loss: 0.4487 - val_acc: 0.8316\n",
      "Epoch 3/16\n",
      "456/456 [==============================] - 0s 313us/step - loss: 0.4761 - acc: 0.7741 - val_loss: 0.4572 - val_acc: 0.8265\n",
      "Epoch 4/16\n",
      "456/456 [==============================] - 0s 313us/step - loss: 0.4702 - acc: 0.7566 - val_loss: 0.4457 - val_acc: 0.8265\n",
      "Epoch 5/16\n",
      "456/456 [==============================] - 0s 304us/step - loss: 0.4624 - acc: 0.7632 - val_loss: 0.4227 - val_acc: 0.8112\n",
      "Epoch 6/16\n",
      "456/456 [==============================] - 0s 320us/step - loss: 0.4603 - acc: 0.7741 - val_loss: 0.4228 - val_acc: 0.8163\n",
      "Epoch 7/16\n",
      "456/456 [==============================] - 0s 330us/step - loss: 0.4601 - acc: 0.7675 - val_loss: 0.4476 - val_acc: 0.8418\n",
      "Epoch 8/16\n",
      "456/456 [==============================] - 0s 316us/step - loss: 0.4656 - acc: 0.7807 - val_loss: 0.4206 - val_acc: 0.8163\n",
      "Epoch 9/16\n",
      "456/456 [==============================] - 0s 307us/step - loss: 0.4715 - acc: 0.7632 - val_loss: 0.4475 - val_acc: 0.8214\n",
      "Epoch 10/16\n",
      "456/456 [==============================] - 0s 315us/step - loss: 0.4646 - acc: 0.7719 - val_loss: 0.4149 - val_acc: 0.8316\n",
      "Epoch 11/16\n",
      "456/456 [==============================] - 0s 334us/step - loss: 0.4599 - acc: 0.7675 - val_loss: 0.4276 - val_acc: 0.8163\n",
      "Epoch 12/16\n",
      "456/456 [==============================] - 0s 326us/step - loss: 0.4579 - acc: 0.7895 - val_loss: 0.4306 - val_acc: 0.8214\n",
      "Epoch 13/16\n",
      "456/456 [==============================] - 0s 319us/step - loss: 0.4590 - acc: 0.7654 - val_loss: 0.4577 - val_acc: 0.8367\n",
      "Epoch 14/16\n",
      "456/456 [==============================] - 0s 325us/step - loss: 0.4608 - acc: 0.7566 - val_loss: 0.4766 - val_acc: 0.8265\n",
      "Epoch 15/16\n",
      "456/456 [==============================] - 0s 317us/step - loss: 0.4664 - acc: 0.7763 - val_loss: 0.4230 - val_acc: 0.8214\n",
      "Epoch 16/16\n",
      "456/456 [==============================] - 0s 334us/step - loss: 0.4809 - acc: 0.7632 - val_loss: 0.4427 - val_acc: 0.8214\n",
      "196/196 [==============================] - 0s 36us/step\n",
      "Accuracy: 82.14%\n",
      "Train on 456 samples, validate on 196 samples\n",
      "Epoch 1/17\n",
      "456/456 [==============================] - 0s 381us/step - loss: 0.4666 - acc: 0.7654 - val_loss: 0.4180 - val_acc: 0.8265\n",
      "Epoch 2/17\n",
      "  5/456 [..............................] - ETA: 0s - loss: 0.8602 - acc: 0.2000"
     ]
    },
    {
     "name": "stderr",
     "output_type": "stream",
     "text": [
      "C:\\Users\\Home\\Anaconda3\\lib\\site-packages\\ipykernel_launcher.py:5: UserWarning: The `nb_epoch` argument in `fit` has been renamed `epochs`.\n",
      "  \"\"\"\n"
     ]
    },
    {
     "name": "stdout",
     "output_type": "stream",
     "text": [
      "456/456 [==============================] - 0s 397us/step - loss: 0.4694 - acc: 0.7610 - val_loss: 0.4867 - val_acc: 0.8214\n",
      "Epoch 3/17\n",
      "456/456 [==============================] - 0s 375us/step - loss: 0.4874 - acc: 0.7610 - val_loss: 0.4713 - val_acc: 0.8214\n",
      "Epoch 4/17\n",
      "456/456 [==============================] - 0s 366us/step - loss: 0.4640 - acc: 0.7763 - val_loss: 0.4201 - val_acc: 0.8214\n",
      "Epoch 5/17\n",
      "456/456 [==============================] - 0s 378us/step - loss: 0.4709 - acc: 0.7829 - val_loss: 0.4199 - val_acc: 0.8265\n",
      "Epoch 6/17\n",
      "456/456 [==============================] - 0s 365us/step - loss: 0.4626 - acc: 0.7632 - val_loss: 0.4200 - val_acc: 0.8010\n",
      "Epoch 7/17\n",
      "456/456 [==============================] - 0s 363us/step - loss: 0.4691 - acc: 0.7763 - val_loss: 0.4396 - val_acc: 0.8265\n",
      "Epoch 8/17\n",
      "456/456 [==============================] - 0s 360us/step - loss: 0.4624 - acc: 0.7697 - val_loss: 0.4409 - val_acc: 0.8163\n",
      "Epoch 9/17\n",
      "456/456 [==============================] - 0s 356us/step - loss: 0.4791 - acc: 0.7412 - val_loss: 0.4329 - val_acc: 0.8214\n",
      "Epoch 10/17\n",
      "456/456 [==============================] - 0s 349us/step - loss: 0.4580 - acc: 0.7829 - val_loss: 0.4335 - val_acc: 0.7959\n",
      "Epoch 11/17\n",
      "456/456 [==============================] - 0s 355us/step - loss: 0.4671 - acc: 0.7632 - val_loss: 0.4369 - val_acc: 0.8214\n",
      "Epoch 12/17\n",
      "456/456 [==============================] - 0s 352us/step - loss: 0.4670 - acc: 0.7807 - val_loss: 0.4503 - val_acc: 0.8265\n",
      "Epoch 13/17\n",
      "456/456 [==============================] - 0s 363us/step - loss: 0.4663 - acc: 0.7675 - val_loss: 0.4636 - val_acc: 0.8316\n",
      "Epoch 14/17\n",
      "456/456 [==============================] - 0s 381us/step - loss: 0.4593 - acc: 0.7785 - val_loss: 0.4401 - val_acc: 0.8265\n",
      "Epoch 15/17\n",
      "456/456 [==============================] - 0s 347us/step - loss: 0.4573 - acc: 0.7763 - val_loss: 0.4254 - val_acc: 0.8163\n",
      "Epoch 16/17\n",
      "456/456 [==============================] - 0s 365us/step - loss: 0.4746 - acc: 0.7610 - val_loss: 0.4251 - val_acc: 0.8265\n",
      "Epoch 17/17\n",
      "456/456 [==============================] - 0s 351us/step - loss: 0.4849 - acc: 0.7610 - val_loss: 0.4859 - val_acc: 0.8418\n",
      "196/196 [==============================] - 0s 32us/step\n",
      "Accuracy: 84.18%\n",
      "Train on 456 samples, validate on 196 samples\n",
      "Epoch 1/17\n",
      "456/456 [==============================] - 0s 300us/step - loss: 0.4555 - acc: 0.7719 - val_loss: 0.4281 - val_acc: 0.8112\n",
      "Epoch 2/17\n",
      "  6/456 [..............................] - ETA: 0s - loss: 0.6943 - acc: 0.5000"
     ]
    },
    {
     "name": "stderr",
     "output_type": "stream",
     "text": [
      "C:\\Users\\Home\\Anaconda3\\lib\\site-packages\\ipykernel_launcher.py:5: UserWarning: The `nb_epoch` argument in `fit` has been renamed `epochs`.\n",
      "  \"\"\"\n"
     ]
    },
    {
     "name": "stdout",
     "output_type": "stream",
     "text": [
      "456/456 [==============================] - 0s 298us/step - loss: 0.4581 - acc: 0.7763 - val_loss: 0.4384 - val_acc: 0.8316\n",
      "Epoch 3/17\n",
      "456/456 [==============================] - 0s 310us/step - loss: 0.4673 - acc: 0.7697 - val_loss: 0.4325 - val_acc: 0.8316\n",
      "Epoch 4/17\n",
      "456/456 [==============================] - 0s 309us/step - loss: 0.4562 - acc: 0.7632 - val_loss: 0.4250 - val_acc: 0.8112\n",
      "Epoch 5/17\n",
      "456/456 [==============================] - 0s 301us/step - loss: 0.4550 - acc: 0.7632 - val_loss: 0.4523 - val_acc: 0.8316\n",
      "Epoch 6/17\n",
      "456/456 [==============================] - 0s 304us/step - loss: 0.4589 - acc: 0.7719 - val_loss: 0.4278 - val_acc: 0.8163\n",
      "Epoch 7/17\n",
      "456/456 [==============================] - 0s 286us/step - loss: 0.4634 - acc: 0.7807 - val_loss: 0.4414 - val_acc: 0.8265\n",
      "Epoch 8/17\n",
      "456/456 [==============================] - 0s 309us/step - loss: 0.4631 - acc: 0.7632 - val_loss: 0.4528 - val_acc: 0.8265\n",
      "Epoch 9/17\n",
      "456/456 [==============================] - 0s 310us/step - loss: 0.4699 - acc: 0.7807 - val_loss: 0.4551 - val_acc: 0.8265\n",
      "Epoch 10/17\n",
      "456/456 [==============================] - 0s 308us/step - loss: 0.4618 - acc: 0.7654 - val_loss: 0.4557 - val_acc: 0.8316\n",
      "Epoch 11/17\n",
      "456/456 [==============================] - 0s 319us/step - loss: 0.4585 - acc: 0.7588 - val_loss: 0.4361 - val_acc: 0.8367\n",
      "Epoch 12/17\n",
      "456/456 [==============================] - 0s 302us/step - loss: 0.4766 - acc: 0.7544 - val_loss: 0.4260 - val_acc: 0.8112\n",
      "Epoch 13/17\n",
      "456/456 [==============================] - 0s 303us/step - loss: 0.4582 - acc: 0.7675 - val_loss: 0.4328 - val_acc: 0.8163\n",
      "Epoch 14/17\n",
      "456/456 [==============================] - 0s 290us/step - loss: 0.4658 - acc: 0.7719 - val_loss: 0.4311 - val_acc: 0.8163\n",
      "Epoch 15/17\n",
      "456/456 [==============================] - 0s 290us/step - loss: 0.4623 - acc: 0.7610 - val_loss: 0.4570 - val_acc: 0.8265\n",
      "Epoch 16/17\n",
      "456/456 [==============================] - 0s 280us/step - loss: 0.4561 - acc: 0.7785 - val_loss: 0.4257 - val_acc: 0.8265\n",
      "Epoch 17/17\n",
      "456/456 [==============================] - 0s 279us/step - loss: 0.4567 - acc: 0.7697 - val_loss: 0.4431 - val_acc: 0.8265\n",
      "196/196 [==============================] - 0s 46us/step\n",
      "Accuracy: 82.65%\n",
      "Train on 456 samples, validate on 196 samples\n",
      "Epoch 1/18\n",
      "456/456 [==============================] - 0s 342us/step - loss: 0.4662 - acc: 0.7654 - val_loss: 0.4418 - val_acc: 0.8265\n",
      "Epoch 2/18\n",
      "  5/456 [..............................] - ETA: 0s - loss: 0.3970 - acc: 0.8000"
     ]
    },
    {
     "name": "stderr",
     "output_type": "stream",
     "text": [
      "C:\\Users\\Home\\Anaconda3\\lib\\site-packages\\ipykernel_launcher.py:5: UserWarning: The `nb_epoch` argument in `fit` has been renamed `epochs`.\n",
      "  \"\"\"\n"
     ]
    },
    {
     "name": "stdout",
     "output_type": "stream",
     "text": [
      "456/456 [==============================] - 0s 349us/step - loss: 0.4650 - acc: 0.7763 - val_loss: 0.4677 - val_acc: 0.8367\n",
      "Epoch 3/18\n",
      "456/456 [==============================] - 0s 355us/step - loss: 0.4630 - acc: 0.7741 - val_loss: 0.4649 - val_acc: 0.8316\n",
      "Epoch 4/18\n",
      "456/456 [==============================] - 0s 361us/step - loss: 0.4639 - acc: 0.7697 - val_loss: 0.4435 - val_acc: 0.8265\n",
      "Epoch 5/18\n",
      "456/456 [==============================] - 0s 368us/step - loss: 0.4547 - acc: 0.7588 - val_loss: 0.4915 - val_acc: 0.8265\n",
      "Epoch 6/18\n",
      "456/456 [==============================] - 0s 360us/step - loss: 0.4647 - acc: 0.7610 - val_loss: 0.4413 - val_acc: 0.8163\n",
      "Epoch 7/18\n",
      "456/456 [==============================] - 0s 372us/step - loss: 0.4682 - acc: 0.7632 - val_loss: 0.4490 - val_acc: 0.8265\n",
      "Epoch 8/18\n",
      "456/456 [==============================] - 0s 363us/step - loss: 0.4618 - acc: 0.7654 - val_loss: 0.4864 - val_acc: 0.8265\n",
      "Epoch 9/18\n",
      "456/456 [==============================] - 0s 354us/step - loss: 0.4591 - acc: 0.7961 - val_loss: 0.4342 - val_acc: 0.8163\n",
      "Epoch 10/18\n",
      "456/456 [==============================] - 0s 365us/step - loss: 0.4521 - acc: 0.7763 - val_loss: 0.4821 - val_acc: 0.8163\n",
      "Epoch 11/18\n",
      "456/456 [==============================] - 0s 375us/step - loss: 0.4553 - acc: 0.7719 - val_loss: 0.4421 - val_acc: 0.8316\n",
      "Epoch 12/18\n",
      "456/456 [==============================] - 0s 349us/step - loss: 0.4681 - acc: 0.7610 - val_loss: 0.4283 - val_acc: 0.8163\n",
      "Epoch 13/18\n",
      "456/456 [==============================] - 0s 363us/step - loss: 0.4576 - acc: 0.7675 - val_loss: 0.4288 - val_acc: 0.8214\n",
      "Epoch 14/18\n",
      "456/456 [==============================] - 0s 351us/step - loss: 0.4643 - acc: 0.7610 - val_loss: 0.4733 - val_acc: 0.8316\n",
      "Epoch 15/18\n",
      "456/456 [==============================] - 0s 355us/step - loss: 0.4619 - acc: 0.7610 - val_loss: 0.4387 - val_acc: 0.8163\n",
      "Epoch 16/18\n",
      "456/456 [==============================] - 0s 360us/step - loss: 0.4811 - acc: 0.7632 - val_loss: 0.4533 - val_acc: 0.8214\n",
      "Epoch 17/18\n",
      "456/456 [==============================] - 0s 351us/step - loss: 0.4579 - acc: 0.7675 - val_loss: 0.4250 - val_acc: 0.8112\n",
      "Epoch 18/18\n",
      "456/456 [==============================] - 0s 403us/step - loss: 0.4673 - acc: 0.7632 - val_loss: 0.4676 - val_acc: 0.8418\n",
      "196/196 [==============================] - 0s 52us/step\n",
      "Accuracy: 84.18%\n",
      "Train on 456 samples, validate on 196 samples\n",
      "Epoch 1/18\n",
      "456/456 [==============================] - 0s 295us/step - loss: 0.4822 - acc: 0.7544 - val_loss: 0.4601 - val_acc: 0.8316\n",
      "Epoch 2/18\n",
      "  6/456 [..............................] - ETA: 0s - loss: 0.3960 - acc: 0.8333"
     ]
    },
    {
     "name": "stderr",
     "output_type": "stream",
     "text": [
      "C:\\Users\\Home\\Anaconda3\\lib\\site-packages\\ipykernel_launcher.py:5: UserWarning: The `nb_epoch` argument in `fit` has been renamed `epochs`.\n",
      "  \"\"\"\n"
     ]
    },
    {
     "name": "stdout",
     "output_type": "stream",
     "text": [
      "456/456 [==============================] - 0s 311us/step - loss: 0.4557 - acc: 0.7610 - val_loss: 0.4391 - val_acc: 0.8214\n",
      "Epoch 3/18\n",
      "456/456 [==============================] - 0s 313us/step - loss: 0.4576 - acc: 0.7763 - val_loss: 0.4491 - val_acc: 0.8316\n",
      "Epoch 4/18\n",
      "456/456 [==============================] - 0s 322us/step - loss: 0.4624 - acc: 0.7500 - val_loss: 0.4464 - val_acc: 0.8163\n",
      "Epoch 5/18\n",
      "456/456 [==============================] - 0s 299us/step - loss: 0.4568 - acc: 0.7697 - val_loss: 0.4362 - val_acc: 0.8214\n",
      "Epoch 6/18\n",
      "456/456 [==============================] - 0s 304us/step - loss: 0.4563 - acc: 0.7610 - val_loss: 0.4550 - val_acc: 0.8367\n",
      "Epoch 7/18\n",
      "456/456 [==============================] - 0s 296us/step - loss: 0.4579 - acc: 0.7654 - val_loss: 0.4380 - val_acc: 0.8265\n",
      "Epoch 8/18\n",
      "456/456 [==============================] - 0s 286us/step - loss: 0.4606 - acc: 0.7654 - val_loss: 0.4518 - val_acc: 0.8316\n",
      "Epoch 9/18\n",
      "456/456 [==============================] - 0s 315us/step - loss: 0.4532 - acc: 0.7763 - val_loss: 0.4675 - val_acc: 0.8469\n",
      "Epoch 10/18\n",
      "456/456 [==============================] - 0s 278us/step - loss: 0.4582 - acc: 0.7763 - val_loss: 0.4474 - val_acc: 0.8163\n",
      "Epoch 11/18\n",
      "456/456 [==============================] - 0s 325us/step - loss: 0.4458 - acc: 0.7719 - val_loss: 0.4533 - val_acc: 0.8163\n",
      "Epoch 12/18\n",
      "456/456 [==============================] - 0s 321us/step - loss: 0.4606 - acc: 0.7741 - val_loss: 0.4275 - val_acc: 0.8316\n",
      "Epoch 13/18\n",
      "456/456 [==============================] - 0s 332us/step - loss: 0.4542 - acc: 0.7873 - val_loss: 0.4410 - val_acc: 0.8163\n",
      "Epoch 14/18\n",
      "456/456 [==============================] - 0s 309us/step - loss: 0.4535 - acc: 0.7675 - val_loss: 0.4616 - val_acc: 0.8316\n",
      "Epoch 15/18\n",
      "456/456 [==============================] - 0s 305us/step - loss: 0.4637 - acc: 0.7588 - val_loss: 0.5304 - val_acc: 0.8112\n",
      "Epoch 16/18\n",
      "456/456 [==============================] - 0s 333us/step - loss: 0.4672 - acc: 0.7610 - val_loss: 0.4353 - val_acc: 0.8163\n",
      "Epoch 17/18\n",
      "456/456 [==============================] - 0s 310us/step - loss: 0.4644 - acc: 0.7522 - val_loss: 0.4504 - val_acc: 0.8163\n",
      "Epoch 18/18\n",
      "456/456 [==============================] - 0s 306us/step - loss: 0.4560 - acc: 0.7719 - val_loss: 0.4616 - val_acc: 0.8265\n",
      "196/196 [==============================] - 0s 56us/step\n",
      "Accuracy: 82.65%\n",
      "Train on 456 samples, validate on 196 samples\n",
      "Epoch 1/19\n",
      "305/456 [===================>..........] - ETA: 0s - loss: 0.4485 - acc: 0.773"
     ]
    },
    {
     "name": "stderr",
     "output_type": "stream",
     "text": [
      "C:\\Users\\Home\\Anaconda3\\lib\\site-packages\\ipykernel_launcher.py:5: UserWarning: The `nb_epoch` argument in `fit` has been renamed `epochs`.\n",
      "  \"\"\"\n"
     ]
    },
    {
     "name": "stdout",
     "output_type": "stream",
     "text": [
      "456/456 [==============================] - 0s 379us/step - loss: 0.4565 - acc: 0.7654 - val_loss: 0.4519 - val_acc: 0.8214\n",
      "Epoch 2/19\n",
      "456/456 [==============================] - 0s 375us/step - loss: 0.4537 - acc: 0.7763 - val_loss: 0.5584 - val_acc: 0.7806\n",
      "Epoch 3/19\n",
      "456/456 [==============================] - 0s 414us/step - loss: 0.4602 - acc: 0.7675 - val_loss: 0.5632 - val_acc: 0.7857\n",
      "Epoch 4/19\n",
      "456/456 [==============================] - 0s 398us/step - loss: 0.4744 - acc: 0.7697 - val_loss: 0.4642 - val_acc: 0.8418\n",
      "Epoch 5/19\n",
      "456/456 [==============================] - 0s 377us/step - loss: 0.4665 - acc: 0.7719 - val_loss: 0.4983 - val_acc: 0.8163\n",
      "Epoch 6/19\n",
      "456/456 [==============================] - 0s 422us/step - loss: 0.4628 - acc: 0.7632 - val_loss: 0.4283 - val_acc: 0.8214\n",
      "Epoch 7/19\n",
      "456/456 [==============================] - 0s 382us/step - loss: 0.4716 - acc: 0.7566 - val_loss: 0.4376 - val_acc: 0.8163\n",
      "Epoch 8/19\n",
      "456/456 [==============================] - 0s 374us/step - loss: 0.4570 - acc: 0.7719 - val_loss: 0.4510 - val_acc: 0.8214\n",
      "Epoch 9/19\n",
      "456/456 [==============================] - 0s 363us/step - loss: 0.4549 - acc: 0.7675 - val_loss: 0.4542 - val_acc: 0.8214\n",
      "Epoch 10/19\n",
      "456/456 [==============================] - 0s 361us/step - loss: 0.4689 - acc: 0.7939 - val_loss: 0.4349 - val_acc: 0.8214\n",
      "Epoch 11/19\n",
      "456/456 [==============================] - 0s 357us/step - loss: 0.4635 - acc: 0.7675 - val_loss: 0.4407 - val_acc: 0.8163\n",
      "Epoch 12/19\n",
      "456/456 [==============================] - 0s 369us/step - loss: 0.4610 - acc: 0.7719 - val_loss: 0.4810 - val_acc: 0.8418\n",
      "Epoch 13/19\n",
      "456/456 [==============================] - 0s 372us/step - loss: 0.4540 - acc: 0.7741 - val_loss: 0.4524 - val_acc: 0.8265\n",
      "Epoch 14/19\n",
      "456/456 [==============================] - 0s 354us/step - loss: 0.4518 - acc: 0.7763 - val_loss: 0.4297 - val_acc: 0.8112\n",
      "Epoch 15/19\n",
      "456/456 [==============================] - 0s 365us/step - loss: 0.4655 - acc: 0.7500 - val_loss: 0.4802 - val_acc: 0.8367\n",
      "Epoch 16/19\n",
      "456/456 [==============================] - 0s 390us/step - loss: 0.4710 - acc: 0.7588 - val_loss: 0.4620 - val_acc: 0.8265\n",
      "Epoch 17/19\n",
      "456/456 [==============================] - 0s 366us/step - loss: 0.4546 - acc: 0.7741 - val_loss: 0.4348 - val_acc: 0.8316\n",
      "Epoch 18/19\n",
      "456/456 [==============================] - 0s 382us/step - loss: 0.4521 - acc: 0.7807 - val_loss: 0.4758 - val_acc: 0.8214\n",
      "Epoch 19/19\n",
      "456/456 [==============================] - 0s 373us/step - loss: 0.4700 - acc: 0.7390 - val_loss: 0.4420 - val_acc: 0.8214\n",
      "196/196 [==============================] - 0s 32us/step\n",
      "Accuracy: 82.14%\n",
      "Train on 456 samples, validate on 196 samples\n",
      "Epoch 1/19\n",
      "456/456 [==============================] - 0s 301us/step - loss: 0.4592 - acc: 0.7632 - val_loss: 0.4728 - val_acc: 0.8367\n",
      "Epoch 2/19\n",
      "  6/456 [..............................] - ETA: 0s - loss: 0.4420 - acc: 0.6667"
     ]
    },
    {
     "name": "stderr",
     "output_type": "stream",
     "text": [
      "C:\\Users\\Home\\Anaconda3\\lib\\site-packages\\ipykernel_launcher.py:5: UserWarning: The `nb_epoch` argument in `fit` has been renamed `epochs`.\n",
      "  \"\"\"\n"
     ]
    },
    {
     "name": "stdout",
     "output_type": "stream",
     "text": [
      "456/456 [==============================] - 0s 312us/step - loss: 0.4543 - acc: 0.7851 - val_loss: 0.4609 - val_acc: 0.8367\n",
      "Epoch 3/19\n",
      "456/456 [==============================] - 0s 328us/step - loss: 0.4558 - acc: 0.7654 - val_loss: 0.4481 - val_acc: 0.8214\n",
      "Epoch 4/19\n",
      "456/456 [==============================] - 0s 340us/step - loss: 0.4514 - acc: 0.7719 - val_loss: 0.4618 - val_acc: 0.8418\n",
      "Epoch 5/19\n",
      "456/456 [==============================] - 0s 353us/step - loss: 0.4491 - acc: 0.7741 - val_loss: 0.4706 - val_acc: 0.8316\n",
      "Epoch 6/19\n",
      "456/456 [==============================] - 0s 353us/step - loss: 0.4519 - acc: 0.7807 - val_loss: 0.4585 - val_acc: 0.8265\n",
      "Epoch 7/19\n",
      "456/456 [==============================] - 0s 320us/step - loss: 0.4608 - acc: 0.7654 - val_loss: 0.4940 - val_acc: 0.8163\n",
      "Epoch 8/19\n",
      "456/456 [==============================] - 0s 349us/step - loss: 0.4676 - acc: 0.7610 - val_loss: 0.4489 - val_acc: 0.8265\n",
      "Epoch 9/19\n",
      "456/456 [==============================] - 0s 365us/step - loss: 0.4666 - acc: 0.7544 - val_loss: 0.4580 - val_acc: 0.8265\n",
      "Epoch 10/19\n",
      "456/456 [==============================] - 0s 341us/step - loss: 0.4507 - acc: 0.7741 - val_loss: 0.4683 - val_acc: 0.8316\n",
      "Epoch 11/19\n",
      "456/456 [==============================] - 0s 398us/step - loss: 0.4529 - acc: 0.7719 - val_loss: 0.4788 - val_acc: 0.8214\n",
      "Epoch 12/19\n",
      "456/456 [==============================] - 0s 375us/step - loss: 0.4588 - acc: 0.7719 - val_loss: 0.4690 - val_acc: 0.8265\n",
      "Epoch 13/19\n",
      "456/456 [==============================] - 0s 354us/step - loss: 0.4555 - acc: 0.7544 - val_loss: 0.4529 - val_acc: 0.8469\n",
      "Epoch 14/19\n",
      "456/456 [==============================] - 0s 313us/step - loss: 0.4585 - acc: 0.7697 - val_loss: 0.4483 - val_acc: 0.8061\n",
      "Epoch 15/19\n",
      "456/456 [==============================] - 0s 295us/step - loss: 0.4699 - acc: 0.7610 - val_loss: 0.4994 - val_acc: 0.8214\n",
      "Epoch 16/19\n",
      "456/456 [==============================] - 0s 301us/step - loss: 0.4649 - acc: 0.7763 - val_loss: 0.4766 - val_acc: 0.8316\n",
      "Epoch 17/19\n",
      "456/456 [==============================] - 0s 332us/step - loss: 0.4679 - acc: 0.7632 - val_loss: 0.4474 - val_acc: 0.8214\n",
      "Epoch 18/19\n",
      "456/456 [==============================] - 0s 306us/step - loss: 0.4588 - acc: 0.7785 - val_loss: 0.4511 - val_acc: 0.8061\n",
      "Epoch 19/19\n",
      "456/456 [==============================] - 0s 296us/step - loss: 0.4545 - acc: 0.7763 - val_loss: 0.4493 - val_acc: 0.8010\n",
      "196/196 [==============================] - 0s 39us/step\n",
      "Accuracy: 80.10%\n"
     ]
    }
   ],
   "source": [
    "\n",
    "model.fit(X_train, Y_train, validation_data=(X_test, Y_test), nb_epoch=100, batch_size=5)\n",
    "for epoch in range (5,20):\n",
    "    for batch in range(5,7):\n",
    "        model.fit(X_train, Y_train, validation_data=(X_valid, Y_valid), nb_epoch=epoch, batch_size=batch)\n",
    "        scores = model.evaluate(X_valid, Y_valid)\n",
    "        score.append(scores)\n",
    "        print (\"Accuracy: %.2f%%\" %(scores[1]*100))"
   ]
  },
  {
   "cell_type": "code",
   "execution_count": 26,
   "metadata": {},
   "outputs": [
    {
     "name": "stdout",
     "output_type": "stream",
     "text": [
      "Train on 456 samples, validate on 116 samples\n",
      "Epoch 1/100\n",
      "456/456 [==============================] - 0s 375us/step - loss: 0.4693 - acc: 0.7610 - val_loss: 0.6188 - val_acc: 0.7155\n"
     ]
    },
    {
     "name": "stderr",
     "output_type": "stream",
     "text": [
      "C:\\Users\\Home\\Anaconda3\\lib\\site-packages\\ipykernel_launcher.py:1: UserWarning: The `nb_epoch` argument in `fit` has been renamed `epochs`.\n",
      "  \"\"\"Entry point for launching an IPython kernel.\n"
     ]
    },
    {
     "name": "stdout",
     "output_type": "stream",
     "text": [
      "Epoch 2/100\n",
      "456/456 [==============================] - 0s 412us/step - loss: 0.4800 - acc: 0.7654 - val_loss: 0.5836 - val_acc: 0.7500\n",
      "Epoch 3/100\n",
      "456/456 [==============================] - 0s 392us/step - loss: 0.4618 - acc: 0.7588 - val_loss: 0.6094 - val_acc: 0.7500\n",
      "Epoch 4/100\n",
      "456/456 [==============================] - 0s 343us/step - loss: 0.4581 - acc: 0.7654 - val_loss: 0.5786 - val_acc: 0.7414\n",
      "Epoch 5/100\n",
      "456/456 [==============================] - 0s 349us/step - loss: 0.4584 - acc: 0.7719 - val_loss: 0.5922 - val_acc: 0.7241\n",
      "Epoch 6/100\n",
      "456/456 [==============================] - 0s 383us/step - loss: 0.4566 - acc: 0.7588 - val_loss: 0.5931 - val_acc: 0.7500\n",
      "Epoch 7/100\n",
      "456/456 [==============================] - 0s 367us/step - loss: 0.4610 - acc: 0.7741 - val_loss: 0.6022 - val_acc: 0.7328\n",
      "Epoch 8/100\n",
      "456/456 [==============================] - 0s 393us/step - loss: 0.4563 - acc: 0.7544 - val_loss: 0.6184 - val_acc: 0.7241\n",
      "Epoch 9/100\n",
      "456/456 [==============================] - 0s 357us/step - loss: 0.4597 - acc: 0.7807 - val_loss: 0.5857 - val_acc: 0.7328\n",
      "Epoch 10/100\n",
      "456/456 [==============================] - 0s 448us/step - loss: 0.4515 - acc: 0.7632 - val_loss: 0.5869 - val_acc: 0.7500\n",
      "Epoch 11/100\n",
      "456/456 [==============================] - 0s 350us/step - loss: 0.4515 - acc: 0.7675 - val_loss: 0.5730 - val_acc: 0.7586\n",
      "Epoch 12/100\n",
      "456/456 [==============================] - 0s 365us/step - loss: 0.4557 - acc: 0.7522 - val_loss: 0.5852 - val_acc: 0.7500\n",
      "Epoch 13/100\n",
      "456/456 [==============================] - 0s 349us/step - loss: 0.4544 - acc: 0.7478 - val_loss: 0.5806 - val_acc: 0.7414\n",
      "Epoch 14/100\n",
      "456/456 [==============================] - 0s 362us/step - loss: 0.4686 - acc: 0.7588 - val_loss: 0.6146 - val_acc: 0.7155\n",
      "Epoch 15/100\n",
      "456/456 [==============================] - 0s 401us/step - loss: 0.4708 - acc: 0.7697 - val_loss: 0.5876 - val_acc: 0.7500\n",
      "Epoch 16/100\n",
      "456/456 [==============================] - 0s 374us/step - loss: 0.4628 - acc: 0.7588 - val_loss: 0.5712 - val_acc: 0.7500\n",
      "Epoch 17/100\n",
      "456/456 [==============================] - 0s 363us/step - loss: 0.4557 - acc: 0.7675 - val_loss: 0.5805 - val_acc: 0.7414\n",
      "Epoch 18/100\n",
      "456/456 [==============================] - 0s 390us/step - loss: 0.4560 - acc: 0.7829 - val_loss: 0.5640 - val_acc: 0.7759\n",
      "Epoch 19/100\n",
      "456/456 [==============================] - 0s 369us/step - loss: 0.4525 - acc: 0.7675 - val_loss: 0.5834 - val_acc: 0.7414\n",
      "Epoch 20/100\n",
      "456/456 [==============================] - 0s 364us/step - loss: 0.4559 - acc: 0.7917 - val_loss: 0.5763 - val_acc: 0.7500\n",
      "Epoch 21/100\n",
      "456/456 [==============================] - 0s 373us/step - loss: 0.4502 - acc: 0.7807 - val_loss: 0.6061 - val_acc: 0.7328\n",
      "Epoch 22/100\n",
      "456/456 [==============================] - 0s 373us/step - loss: 0.4655 - acc: 0.7697 - val_loss: 0.5791 - val_acc: 0.7414\n",
      "Epoch 23/100\n",
      "456/456 [==============================] - 0s 361us/step - loss: 0.4595 - acc: 0.7719 - val_loss: 0.5754 - val_acc: 0.7328\n",
      "Epoch 24/100\n",
      "456/456 [==============================] - 0s 347us/step - loss: 0.4556 - acc: 0.7719 - val_loss: 0.5905 - val_acc: 0.7414\n",
      "Epoch 25/100\n",
      "456/456 [==============================] - 0s 389us/step - loss: 0.4547 - acc: 0.7697 - val_loss: 0.5909 - val_acc: 0.7500\n",
      "Epoch 26/100\n",
      "456/456 [==============================] - 0s 369us/step - loss: 0.4602 - acc: 0.7500 - val_loss: 0.5762 - val_acc: 0.7500\n",
      "Epoch 27/100\n",
      "456/456 [==============================] - 0s 357us/step - loss: 0.4528 - acc: 0.7675 - val_loss: 0.5929 - val_acc: 0.7328\n",
      "Epoch 28/100\n",
      "456/456 [==============================] - 0s 405us/step - loss: 0.4554 - acc: 0.7719 - val_loss: 0.5832 - val_acc: 0.7500\n",
      "Epoch 29/100\n",
      "456/456 [==============================] - 0s 370us/step - loss: 0.4503 - acc: 0.7719 - val_loss: 0.6025 - val_acc: 0.7414\n",
      "Epoch 30/100\n",
      "456/456 [==============================] - 0s 341us/step - loss: 0.4537 - acc: 0.7807 - val_loss: 0.5748 - val_acc: 0.7672\n",
      "Epoch 31/100\n",
      "456/456 [==============================] - 0s 364us/step - loss: 0.4593 - acc: 0.7610 - val_loss: 0.5949 - val_acc: 0.7155\n",
      "Epoch 32/100\n",
      "456/456 [==============================] - 0s 343us/step - loss: 0.4548 - acc: 0.7675 - val_loss: 0.6120 - val_acc: 0.7414\n",
      "Epoch 33/100\n",
      "456/456 [==============================] - 0s 345us/step - loss: 0.4528 - acc: 0.7675 - val_loss: 0.5870 - val_acc: 0.7500\n",
      "Epoch 34/100\n",
      "456/456 [==============================] - 0s 364us/step - loss: 0.4539 - acc: 0.7675 - val_loss: 0.5890 - val_acc: 0.7328\n",
      "Epoch 35/100\n",
      "456/456 [==============================] - 0s 353us/step - loss: 0.4505 - acc: 0.7785 - val_loss: 0.6038 - val_acc: 0.7328\n",
      "Epoch 36/100\n",
      "456/456 [==============================] - 0s 320us/step - loss: 0.4513 - acc: 0.7785 - val_loss: 0.5903 - val_acc: 0.7414\n",
      "Epoch 37/100\n",
      "456/456 [==============================] - 0s 390us/step - loss: 0.4616 - acc: 0.7632 - val_loss: 0.5901 - val_acc: 0.7414\n",
      "Epoch 38/100\n",
      "456/456 [==============================] - 0s 341us/step - loss: 0.4597 - acc: 0.7719 - val_loss: 0.6015 - val_acc: 0.7328\n",
      "Epoch 39/100\n",
      "456/456 [==============================] - 0s 327us/step - loss: 0.4641 - acc: 0.7566 - val_loss: 0.5850 - val_acc: 0.7500\n",
      "Epoch 40/100\n",
      "456/456 [==============================] - 0s 356us/step - loss: 0.4677 - acc: 0.7807 - val_loss: 0.5897 - val_acc: 0.7414\n",
      "Epoch 41/100\n",
      "456/456 [==============================] - 0s 339us/step - loss: 0.4577 - acc: 0.7632 - val_loss: 0.6009 - val_acc: 0.7328\n",
      "Epoch 42/100\n",
      "456/456 [==============================] - 0s 328us/step - loss: 0.4473 - acc: 0.7697 - val_loss: 0.5881 - val_acc: 0.7414\n",
      "Epoch 43/100\n",
      "456/456 [==============================] - 0s 338us/step - loss: 0.4637 - acc: 0.7851 - val_loss: 0.5790 - val_acc: 0.7414\n",
      "Epoch 44/100\n",
      "456/456 [==============================] - 0s 336us/step - loss: 0.4493 - acc: 0.7873 - val_loss: 0.6674 - val_acc: 0.6810\n",
      "Epoch 45/100\n",
      "456/456 [==============================] - 0s 347us/step - loss: 0.4545 - acc: 0.7566 - val_loss: 0.5946 - val_acc: 0.7328\n",
      "Epoch 46/100\n",
      "456/456 [==============================] - 0s 357us/step - loss: 0.4434 - acc: 0.7807 - val_loss: 0.5953 - val_acc: 0.7328\n",
      "Epoch 47/100\n",
      "456/456 [==============================] - 0s 360us/step - loss: 0.4513 - acc: 0.7654 - val_loss: 0.5975 - val_acc: 0.7500\n",
      "Epoch 48/100\n",
      "456/456 [==============================] - 0s 352us/step - loss: 0.4484 - acc: 0.7763 - val_loss: 0.5866 - val_acc: 0.7586\n",
      "Epoch 49/100\n",
      "456/456 [==============================] - 0s 349us/step - loss: 0.4515 - acc: 0.7544 - val_loss: 0.5957 - val_acc: 0.7586\n",
      "Epoch 50/100\n",
      "456/456 [==============================] - 0s 379us/step - loss: 0.4514 - acc: 0.7632 - val_loss: 0.5870 - val_acc: 0.7672\n",
      "Epoch 51/100\n",
      "456/456 [==============================] - 0s 295us/step - loss: 0.4509 - acc: 0.7697 - val_loss: 0.6003 - val_acc: 0.7414\n",
      "Epoch 52/100\n",
      "456/456 [==============================] - 0s 334us/step - loss: 0.4461 - acc: 0.7807 - val_loss: 0.5879 - val_acc: 0.7500\n",
      "Epoch 53/100\n",
      "456/456 [==============================] - 0s 333us/step - loss: 0.4626 - acc: 0.7632 - val_loss: 0.5826 - val_acc: 0.7500\n",
      "Epoch 54/100\n",
      "456/456 [==============================] - 0s 314us/step - loss: 0.4582 - acc: 0.7851 - val_loss: 0.6214 - val_acc: 0.7328\n",
      "Epoch 55/100\n",
      "456/456 [==============================] - 0s 317us/step - loss: 0.4678 - acc: 0.7829 - val_loss: 0.6273 - val_acc: 0.7069\n",
      "Epoch 56/100\n",
      "456/456 [==============================] - 0s 329us/step - loss: 0.4557 - acc: 0.7719 - val_loss: 0.5906 - val_acc: 0.7328\n",
      "Epoch 57/100\n",
      "456/456 [==============================] - 0s 318us/step - loss: 0.4496 - acc: 0.7632 - val_loss: 0.5879 - val_acc: 0.7586\n",
      "Epoch 58/100\n",
      "456/456 [==============================] - 0s 322us/step - loss: 0.4479 - acc: 0.7719 - val_loss: 0.6273 - val_acc: 0.7155\n",
      "Epoch 59/100\n",
      "456/456 [==============================] - 0s 338us/step - loss: 0.4607 - acc: 0.7697 - val_loss: 0.6060 - val_acc: 0.7500\n",
      "Epoch 60/100\n",
      "456/456 [==============================] - 0s 315us/step - loss: 0.4469 - acc: 0.7807 - val_loss: 0.6022 - val_acc: 0.7500\n",
      "Epoch 61/100\n",
      "456/456 [==============================] - 0s 303us/step - loss: 0.4506 - acc: 0.7741 - val_loss: 0.5910 - val_acc: 0.7500\n",
      "Epoch 62/100\n"
     ]
    },
    {
     "name": "stdout",
     "output_type": "stream",
     "text": [
      "456/456 [==============================] - 0s 333us/step - loss: 0.4509 - acc: 0.7654 - val_loss: 0.6384 - val_acc: 0.7328\n",
      "Epoch 63/100\n",
      "456/456 [==============================] - 0s 329us/step - loss: 0.4589 - acc: 0.7741 - val_loss: 0.5825 - val_acc: 0.7586\n",
      "Epoch 64/100\n",
      "456/456 [==============================] - 0s 336us/step - loss: 0.4595 - acc: 0.7500 - val_loss: 0.6171 - val_acc: 0.7155\n",
      "Epoch 65/100\n",
      "456/456 [==============================] - 0s 365us/step - loss: 0.4512 - acc: 0.7719 - val_loss: 0.6135 - val_acc: 0.7328\n",
      "Epoch 66/100\n",
      "456/456 [==============================] - 0s 345us/step - loss: 0.4563 - acc: 0.7741 - val_loss: 0.5946 - val_acc: 0.7672\n",
      "Epoch 67/100\n",
      "456/456 [==============================] - 0s 365us/step - loss: 0.4503 - acc: 0.7697 - val_loss: 0.5998 - val_acc: 0.7328\n",
      "Epoch 68/100\n",
      "456/456 [==============================] - 0s 329us/step - loss: 0.4700 - acc: 0.7588 - val_loss: 0.5900 - val_acc: 0.7328\n",
      "Epoch 69/100\n",
      "456/456 [==============================] - 0s 345us/step - loss: 0.4589 - acc: 0.7456 - val_loss: 0.6031 - val_acc: 0.7328\n",
      "Epoch 70/100\n",
      "456/456 [==============================] - 0s 355us/step - loss: 0.4412 - acc: 0.7719 - val_loss: 0.6163 - val_acc: 0.7241\n",
      "Epoch 71/100\n",
      "456/456 [==============================] - 0s 368us/step - loss: 0.4545 - acc: 0.7829 - val_loss: 0.5947 - val_acc: 0.7500\n",
      "Epoch 72/100\n",
      "456/456 [==============================] - 0s 357us/step - loss: 0.4513 - acc: 0.7588 - val_loss: 0.6020 - val_acc: 0.7414\n",
      "Epoch 73/100\n",
      "456/456 [==============================] - 0s 358us/step - loss: 0.4495 - acc: 0.7917 - val_loss: 0.5989 - val_acc: 0.7414\n",
      "Epoch 74/100\n",
      "456/456 [==============================] - 0s 378us/step - loss: 0.4645 - acc: 0.7741 - val_loss: 0.6118 - val_acc: 0.7500\n",
      "Epoch 75/100\n",
      "456/456 [==============================] - 0s 369us/step - loss: 0.4540 - acc: 0.7873 - val_loss: 0.6061 - val_acc: 0.7328\n",
      "Epoch 76/100\n",
      "456/456 [==============================] - 0s 352us/step - loss: 0.4518 - acc: 0.7654 - val_loss: 0.6188 - val_acc: 0.7241\n",
      "Epoch 77/100\n",
      "456/456 [==============================] - 0s 370us/step - loss: 0.4655 - acc: 0.7632 - val_loss: 0.5985 - val_acc: 0.7500\n",
      "Epoch 78/100\n",
      "456/456 [==============================] - 0s 356us/step - loss: 0.4717 - acc: 0.7522 - val_loss: 0.6298 - val_acc: 0.7328\n",
      "Epoch 79/100\n",
      "456/456 [==============================] - 0s 333us/step - loss: 0.4508 - acc: 0.7741 - val_loss: 0.5863 - val_acc: 0.7414\n",
      "Epoch 80/100\n",
      "456/456 [==============================] - 0s 350us/step - loss: 0.4525 - acc: 0.7851 - val_loss: 0.6030 - val_acc: 0.7414\n",
      "Epoch 81/100\n",
      "456/456 [==============================] - 0s 332us/step - loss: 0.4513 - acc: 0.7741 - val_loss: 0.6139 - val_acc: 0.7241\n",
      "Epoch 82/100\n",
      "456/456 [==============================] - 0s 340us/step - loss: 0.4523 - acc: 0.7675 - val_loss: 0.5824 - val_acc: 0.7759\n",
      "Epoch 83/100\n",
      "456/456 [==============================] - 0s 337us/step - loss: 0.4552 - acc: 0.7741 - val_loss: 0.6254 - val_acc: 0.7500\n",
      "Epoch 84/100\n",
      "456/456 [==============================] - 0s 359us/step - loss: 0.4527 - acc: 0.7763 - val_loss: 0.6171 - val_acc: 0.7414\n",
      "Epoch 85/100\n",
      "456/456 [==============================] - 0s 336us/step - loss: 0.4482 - acc: 0.7785 - val_loss: 0.6598 - val_acc: 0.6983\n",
      "Epoch 86/100\n",
      "456/456 [==============================] - 0s 367us/step - loss: 0.4644 - acc: 0.7719 - val_loss: 0.6004 - val_acc: 0.7328\n",
      "Epoch 87/100\n",
      "456/456 [==============================] - 0s 391us/step - loss: 0.4550 - acc: 0.7675 - val_loss: 0.5942 - val_acc: 0.7414\n",
      "Epoch 88/100\n",
      "456/456 [==============================] - 0s 353us/step - loss: 0.4504 - acc: 0.7719 - val_loss: 0.6094 - val_acc: 0.7241\n",
      "Epoch 89/100\n",
      "456/456 [==============================] - 0s 322us/step - loss: 0.4478 - acc: 0.7829 - val_loss: 0.6288 - val_acc: 0.7155\n",
      "Epoch 90/100\n",
      "456/456 [==============================] - 0s 326us/step - loss: 0.4620 - acc: 0.7632 - val_loss: 0.6002 - val_acc: 0.7414\n",
      "Epoch 91/100\n",
      "456/456 [==============================] - 0s 371us/step - loss: 0.4464 - acc: 0.7851 - val_loss: 0.5836 - val_acc: 0.7414\n",
      "Epoch 92/100\n",
      "456/456 [==============================] - 0s 357us/step - loss: 0.4473 - acc: 0.7741 - val_loss: 0.5990 - val_acc: 0.7328\n",
      "Epoch 93/100\n",
      "456/456 [==============================] - 0s 333us/step - loss: 0.4533 - acc: 0.7873 - val_loss: 0.6139 - val_acc: 0.7414\n",
      "Epoch 94/100\n",
      "456/456 [==============================] - 0s 346us/step - loss: 0.4550 - acc: 0.7785 - val_loss: 0.6085 - val_acc: 0.7500\n",
      "Epoch 95/100\n",
      "456/456 [==============================] - 0s 333us/step - loss: 0.4476 - acc: 0.7785 - val_loss: 0.6189 - val_acc: 0.7328\n",
      "Epoch 96/100\n",
      "456/456 [==============================] - 0s 367us/step - loss: 0.4497 - acc: 0.7763 - val_loss: 0.6291 - val_acc: 0.7414\n",
      "Epoch 97/100\n",
      "456/456 [==============================] - 0s 375us/step - loss: 0.4625 - acc: 0.7522 - val_loss: 0.6029 - val_acc: 0.7414\n",
      "Epoch 98/100\n",
      "456/456 [==============================] - 0s 371us/step - loss: 0.4532 - acc: 0.7719 - val_loss: 0.6175 - val_acc: 0.7328\n",
      "Epoch 99/100\n",
      "456/456 [==============================] - 0s 336us/step - loss: 0.4536 - acc: 0.7763 - val_loss: 0.6066 - val_acc: 0.7414\n",
      "Epoch 100/100\n",
      "456/456 [==============================] - 0s 343us/step - loss: 0.4491 - acc: 0.7763 - val_loss: 0.6363 - val_acc: 0.7414\n"
     ]
    }
   ],
   "source": [
    "history=model.fit(X_train, Y_train, validation_data=(X_test, Y_test), nb_epoch=100, batch_size=5)"
   ]
  },
  {
   "cell_type": "markdown",
   "metadata": {},
   "source": [
    "# Epoch Vs Model Accuracy plots"
   ]
  },
  {
   "cell_type": "markdown",
   "metadata": {},
   "source": [
    "## Evaluate the model"
   ]
  },
  {
   "cell_type": "code",
   "execution_count": 27,
   "metadata": {},
   "outputs": [
    {
     "name": "stdout",
     "output_type": "stream",
     "text": [
      "116/116 [==============================] - 0s 56us/step\n",
      "Accuracy: 74.14%\n"
     ]
    }
   ],
   "source": [
    "\n",
    "scores = model.evaluate(X_test, Y_test)\n",
    "print (\"Accuracy: %.2f%%\" %(scores[1]*100))"
   ]
  },
  {
   "cell_type": "code",
   "execution_count": 28,
   "metadata": {},
   "outputs": [
    {
     "data": {
      "image/png": "[encoded data removed]",
      "text/plain": [
       "<Figure size 432x288 with 1 Axes>"
      ]
     },
     "metadata": {
      "needs_background": "light"
     },
     "output_type": "display_data"
    }
   ],
   "source": [
    "plt.plot(history.history['acc'])\n",
    "plt.plot(history.history['val_acc'])\n",
    "plt.title('model accuracy')\n",
    "plt.ylabel('accuracy')\n",
    "plt.xlabel('epoch')\n",
    "plt.legend(['train', 'test'], loc='upper left')\n",
    "plt.show()"
   ]
  },
  {
   "cell_type": "code",
   "execution_count": 29,
   "metadata": {},
   "outputs": [
    {
     "data": {
      "image/png": "[encoded data removed]",
      "text/plain": [
       "<Figure size 432x288 with 1 Axes>"
      ]
     },
     "metadata": {
      "needs_background": "light"
     },
     "output_type": "display_data"
    }
   ],
   "source": [
    "plt.plot(history.history['loss'])\n",
    "plt.plot(history.history['val_loss'])\n",
    "plt.title('model loss')\n",
    "plt.ylabel('loss')\n",
    "plt.xlabel('epoch')\n",
    "plt.legend(['train', 'test'], loc='upper left')\n",
    "plt.show()"
   ]
  },
  {
   "cell_type": "markdown",
   "metadata": {},
   "source": [
    "# AUC and ROC curves"
   ]
  },
  {
   "cell_type": "code",
   "execution_count": 30,
   "metadata": {},
   "outputs": [],
   "source": [
    "predict_probability = model.predict_proba(X_test)[:]"
   ]
  },
  {
   "cell_type": "code",
   "execution_count": 31,
   "metadata": {},
   "outputs": [
    {
     "data": {
      "text/plain": [
       "<matplotlib.legend.Legend at 0x1ee8584ceb8>"
      ]
     },
     "execution_count": 31,
     "metadata": {},
     "output_type": "execute_result"
    },
    {
     "data": {
      "image/png": "[encoded data removed]",
      "text/plain": [
       "<Figure size 864x432 with 1 Axes>"
      ]
     },
     "metadata": {
      "needs_background": "light"
     },
     "output_type": "display_data"
    }
   ],
   "source": [
    "#Plotting ROC Curve and AUC value\n",
    "\n",
    "from sklearn.metrics import roc_curve, auc\n",
    "\n",
    "FPR, TPR, threshold = roc_curve(Y_test, predict_probability)\n",
    "\n",
    "plt.figure(figsize=(12,6))\n",
    "plt.plot(FPR,TPR)\n",
    "plt.xlim([0.0,1.0])\n",
    "plt.ylim([0.0,1.0])\n",
    "plt.plot([0,1], [0,1], color = 'yellow', linewidth = 2.2)\n",
    "plt.plot(FPR,TPR, linewidth = 2.2, label = 'AUC = %.2f' % auc(FPR,TPR))\n",
    "plt.xlabel('FPR')\n",
    "plt.ylabel('TPR')\n",
    "plt.title('ROC Curve')\n",
    "plt.grid(True)\n",
    "plt.legend(loc = \"center right\")"
   ]
  },
  {
   "cell_type": "markdown",
   "metadata": {},
   "source": [
    "# Citations:\n",
    "Dataset & Kernels: https://www.kaggle.com/uciml/pima-indians-diabetes-database/kernels\n",
    "\n",
    "Video Reference 1:  https://www.youtube.com/results?search_query=auc+roc+curve+code+in+python+\n",
    "\n",
    "Video Reference 2:https://www.youtube.com/watch?v=ErDgauqnTHk"
   ]
  },
  {
   "cell_type": "markdown",
   "metadata": {},
   "source": [
    "# Conclusion:\n",
    "a) Performed pre-processing of the data by scaling/standardizing the 8 columns\n",
    "b) We have Splited the entire dataset into three parts instead of two as we currently do. One is train, two is validation, and then a test set. Build DNN model with train data, tune hyper-paraeters with validation data, and finally evaluated performance on the test data.\n",
    "\n",
    "(c) Plotted Epoch versus train set accuracy, and validation set accuracy\n",
    "\n",
    "(d) Reported results using nice ROC curves, report AUC values. Feel free to use code form our course, or from elsewhere"
   ]
  },
  {
   "cell_type": "markdown",
   "metadata": {},
   "source": [
    "# License:\n",
    "Copyright 2019 Nikhil Kashid\n",
    "\n",
    "Permission is hereby granted, free of charge, to any person obtaining a copy of this software and associated documentation files (the \"Software\"), to deal in the Software without restriction, including without limitation the rights to use, copy, modify, merge, publish, distribute, sublicense, and/or sell copies of the Software, and to permit persons to whom the Software is furnished to do so, subject to the following conditions:\n",
    "\n",
    "The above copyright notice and this permission notice shall be included in all copies or substantial portions of the Software.\n",
    "\n",
    "THE SOFTWARE IS PROVIDED \"AS IS\", WITHOUT WARRANTY OF ANY KIND, EXPRESS OR IMPLIED, INCLUDING BUT NOT LIMITED TO THE WARRANTIES OF MERCHANTABILITY, FITNESS FOR A PARTICULAR PURPOSE AND NONINFRINGEMENT. IN NO EVENT SHALL THE AUTHORS OR COPYRIGHT HOLDERS BE LIABLE FOR ANY CLAIM, DAMAGES OR OTHER LIABILITY, WHETHER IN AN ACTION OF CONTRACT, TORT OR OTHERWISE, ARISING FROM, OUT OF OR IN CONNECTION WITH THE SOFTWARE OR THE USE OR OTHER DEALINGS IN THE SOFTWARE."
   ]
  }
 ],
 "metadata": {
  "kernelspec": {
   "display_name": "Python 3",
   "language": "python",
   "name": "python3"
  },
  "language_info": {
   "codemirror_mode": {
    "name": "ipython",
    "version": 3
   },
   "file_extension": ".py",
   "mimetype": "text/x-python",
   "name": "python",
   "nbconvert_exporter": "python",
   "pygments_lexer": "ipython3",
   "version": "3.7.1"
  }
 },
 "nbformat": 4,
 "nbformat_minor": 2
}
